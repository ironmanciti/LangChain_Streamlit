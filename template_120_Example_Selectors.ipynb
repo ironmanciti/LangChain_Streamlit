{
 "cells": [
  {
   "cell_type": "markdown",
   "id": "7b6ee20e",
   "metadata": {},
   "source": [
    "# Example Selectors\n",
    "\n",
    "- example이 많은 경우 프롬프트에 포함할 example을 선택해야 할 수도 있습니다. Example Selector는 이를 담당하는 클래스입니다.  \n",
    "\n",
    "- 상황에 맞는 정보를 프롬프트에 동적으로 배치할 수 있는 일련의 예제 중에서 선택하는 쉬운 방법입니다. 작업이 미묘하거나 예제 목록이 많을 때 자주 사용됩니다."
   ]
  },
  {
   "cell_type": "code",
   "execution_count": null,
   "id": "968c3b4d",
   "metadata": {},
   "outputs": [],
   "source": [
    "# read local .env file"
   ]
  },
  {
   "cell_type": "markdown",
   "id": "8f29f0c9",
   "metadata": {},
   "source": [
    "## Few Shot Templates\n",
    "- 퓨샷 학습(few-shot learning)은 적은 양의 정보만을 사용하여 컴퓨터가 예측을 하도록 가르치는 방법  \n",
    "- 컴퓨터는 주어진 example에서 패턴을 찾고 이러한 패턴을 사용하여 새로운 것을 이해하고 인식합니다."
   ]
  },
  {
   "cell_type": "code",
   "execution_count": null,
   "id": "c979adcf",
   "metadata": {},
   "outputs": [],
   "source": []
  },
  {
   "cell_type": "code",
   "execution_count": null,
   "id": "4879ba8f",
   "metadata": {},
   "outputs": [],
   "source": [
    "# 단순 string prompt template"
   ]
  },
  {
   "cell_type": "markdown",
   "id": "88e6bfd3",
   "metadata": {},
   "source": [
    "### prompt에 몇개의 example 추가\n",
    "\n",
    "**우리는 모델에게 5살 어린 소녀처럼 행동하도록 지시했지만 모델은 매우 일반적으로 훈련되었기 때문에 우리가 원하는 대로 행동하기 어렵습니다.**     \n",
    "**그래서 우리는 원하는 답을 얻기 위해 몇개의 example을 제공하여 우리가 원하는 형태의 답변을 유도합니다.**"
   ]
  },
  {
   "cell_type": "code",
   "execution_count": null,
   "id": "69541e6b",
   "metadata": {},
   "outputs": [],
   "source": []
  },
  {
   "cell_type": "markdown",
   "id": "71bd4f34",
   "metadata": {},
   "source": [
    "### PromptTemplate을 사용하여 좀 더 flexible 하게 Few-shot prompt 구성  \n",
    "LangChain에서 제공하는 FewShotPromptTemplate 기능을 사용하여 FewShot 학습이 가능합니다.  \n",
    "대규모 언어 모델(LLM)의 맥락에서 지식의 주요 소스는 `파라메트릭 지식(모델 훈련 중에 학습됨)`과 `소스 지식(추론 시 모델 입력 내에서 제공됨)`입니다.   \n",
    "`FewShotPromptTemplate`을 사용하면 모델이 사용자 입력에 적용하기 위해 읽고 사용할 수 있는 몇 가지 예를 프롬프트 내에 포함할 수 있으므로 특정 작업이나 시나리오를 처리하는 모델의 능력이 향상됩니다."
   ]
  },
  {
   "cell_type": "markdown",
   "id": "09b183ca",
   "metadata": {},
   "source": [
    "작업을 위해 모델에 전달할 수 있는 example list를 만들어 보겠습니다. 위에서 하나의 string으로 제공했던 prompt 내용을 python dictionary 형태로 구조화 할 수 있습니다.  \n",
    "이 때 dictionary의 key는 PromptTemplate의 input_variable에 제공할 변수명과 같아야 합니다."
   ]
  },
  {
   "cell_type": "code",
   "execution_count": null,
   "id": "f072cb77",
   "metadata": {},
   "outputs": [],
   "source": []
  },
  {
   "cell_type": "markdown",
   "id": "b7b121ee",
   "metadata": {},
   "source": [
    "위에서 생성된 example template을 사용하여 prompt example을 만들어 보겠습니다."
   ]
  },
  {
   "cell_type": "code",
   "execution_count": null,
   "id": "557b45f9",
   "metadata": {},
   "outputs": [],
   "source": []
  },
  {
   "cell_type": "markdown",
   "id": "b6e72773",
   "metadata": {},
   "source": [
    "이전의 원래 프롬프트는 접두어와 접미어로 나눌 수 있습니다. <br>접두사는 모델에 제공되는 지침이나 컨텍스트로 구성되며, 접미사는 사용자 입력 및 출력 표시기를 포함합니다."
   ]
  },
  {
   "cell_type": "code",
   "execution_count": null,
   "id": "706384bb",
   "metadata": {},
   "outputs": [],
   "source": []
  },
  {
   "cell_type": "markdown",
   "id": "cf59da84",
   "metadata": {},
   "source": [
    "위의 세부 정보를 사용하여 Few shot prompt template을 만들어 보겠습니다."
   ]
  },
  {
   "cell_type": "code",
   "execution_count": null,
   "id": "7163a989",
   "metadata": {},
   "outputs": [],
   "source": []
  },
  {
   "cell_type": "code",
   "execution_count": null,
   "id": "be0ba6ac",
   "metadata": {},
   "outputs": [],
   "source": []
  },
  {
   "cell_type": "code",
   "execution_count": null,
   "id": "2512ddf1",
   "metadata": {},
   "outputs": [],
   "source": []
  },
  {
   "cell_type": "code",
   "execution_count": null,
   "id": "3cafc0cd",
   "metadata": {},
   "outputs": [],
   "source": [
    "# LLM에 few shot prompt 전달"
   ]
  },
  {
   "cell_type": "markdown",
   "id": "6961406a",
   "metadata": {},
   "source": [
    "## ExampleSelector 사용\n",
    "위의 설명에서는 단일 f-string을 사용하는 것보다 더 강력한 접근 방식인 `FewShotPromptTemplate` 및 `examples` dictionary List를 사용 했습니다.\n",
    "<br>\n",
    "그런데 example이 매우 많아서 context window 크기를 초과할 경우 문제가 됩니다. 따라서 컨텍스트 창을 초과하거나 처리 시간을 과도하게 늘리지 않고 few shot learning을 위해 가능한 한 많은 예제를 제공하고자 합니다."
   ]
  },
  {
   "cell_type": "markdown",
   "id": "d630c055",
   "metadata": {},
   "source": [
    "<font color=\"green\">\n",
    "context window size를 초과하도록 더 많은 예를 추가합니다.\n",
    " <font>"
   ]
  },
  {
   "cell_type": "code",
   "execution_count": null,
   "id": "93fd453d",
   "metadata": {},
   "outputs": [],
   "source": []
  },
  {
   "cell_type": "markdown",
   "id": "cbc74ea3",
   "metadata": {},
   "source": [
    "### 길이로 선택\n",
    "`LengthBasedExampleSelector` 는 길이를 기준으로 example을 선택하며, 프롬프트가 컨텍스트 창을 초과하는 것을 방지하는 데 유용합니다. <br>사용자가 길게 입력한 경우 더 적은 수의 예를 선택하고 짧은 입력의 경우 더 많은 예를 선택하여 프롬프트가 한도 내에 맞도록 합니다.\n",
    "    <br>\n",
    "    <br>특별히 지정하지 않으면, 기본값으로 제공되는 `get_text_length` 함수를 사용하여 문자열의 길이를 측정합니다."
   ]
  },
  {
   "cell_type": "code",
   "execution_count": null,
   "id": "ad69425d",
   "metadata": {},
   "outputs": [],
   "source": [
    "# LengthBasedExampleSelector 객체 생성"
   ]
  },
  {
   "cell_type": "markdown",
   "id": "88218627",
   "metadata": {},
   "source": [
    "새로운 dynamic few-shot 프롬프트 템플릿 만듭니다.\n",
    "    <br>\n",
    "이전의 examples 대신 `example_selector`를 전달합니다. 그 외에는 이전과 동일합니다."
   ]
  },
  {
   "cell_type": "code",
   "execution_count": null,
   "id": "9e17586c",
   "metadata": {},
   "outputs": [],
   "source": [
    "# FewShotPromptTemplate 객체 생성"
   ]
  },
  {
   "cell_type": "code",
   "execution_count": null,
   "id": "495c3861",
   "metadata": {},
   "outputs": [],
   "source": []
  },
  {
   "cell_type": "code",
   "execution_count": null,
   "id": "0811e792",
   "metadata": {},
   "outputs": [],
   "source": [
    "# LLM에 few shot prompt 전달"
   ]
  },
  {
   "cell_type": "markdown",
   "id": "54292107",
   "metadata": {},
   "source": [
    "## SemanticSimilarityExampleSelector\n",
    "- Langchain의 `ExampleSelector` 중 하나로, 주어진 텍스트 프롬프트와 유사한 텍스트를 가진 예를 선택하는 데 사용됩니다.  <br>\n",
    "- `SemanticSimilarityExampleSelector`는 다음과 같은 단계를 수행합니다.\n",
    "    - 주어진 텍스트 프롬프트와 예의 임베딩을 계산  \n",
    "    - 임베딩 간의 유사도를 측정  \n",
    "    - 유사도가 가장 높은 예를 선택"
   ]
  },
  {
   "cell_type": "code",
   "execution_count": null,
   "id": "acf0b413",
   "metadata": {},
   "outputs": [],
   "source": [
    "# 사용할 임베딩 모델의 이름을 지정"
   ]
  },
  {
   "cell_type": "markdown",
   "id": "d1f8df2e",
   "metadata": {},
   "source": [
    "FAISS (Facebook AI Similarity Search)는 Facebook AI Research (FAIR) 팀에서 개발한 라이브러리로, 고차원 벡터 데이터셋에서의 효과적인 유사성 검색과 클러스터링을 지원합니다.  \n",
    "추천 시스템, 이미지 및 텍스트 검색, 데이터베이스 검색 등과 같은 응용 분야에서 벡터 유사성 검색을 위해 사용됩니다."
   ]
  },
  {
   "cell_type": "code",
   "execution_count": null,
   "id": "6d9a0d5c",
   "metadata": {},
   "outputs": [],
   "source": [
    "#%%capture --no-stderr\n",
    "#%pip install faiss-cpu"
   ]
  },
  {
   "cell_type": "code",
   "execution_count": null,
   "id": "47f7ad6f",
   "metadata": {},
   "outputs": [],
   "source": [
    "# SemanticSimilarityExampleSelector는 의미론적 의미로 입력과 유사한 예를 선택합니다.\n",
    "    # 프롬프트 상단과 하단에 추가될 사용자 정의"
   ]
  },
  {
   "cell_type": "code",
   "execution_count": null,
   "id": "fd4b3f34",
   "metadata": {},
   "outputs": [],
   "source": [
    "# 명사 선택"
   ]
  },
  {
   "cell_type": "code",
   "execution_count": null,
   "id": "af7118d7",
   "metadata": {},
   "outputs": [],
   "source": []
  },
  {
   "cell_type": "markdown",
   "id": "e46628a1-5644-403f-9582-e947b44a17f4",
   "metadata": {},
   "source": [
    "위의 각 단계를 하나의 cell로 합해봅니다."
   ]
  },
  {
   "cell_type": "code",
   "execution_count": null,
   "id": "895569dc",
   "metadata": {},
   "outputs": [],
   "source": []
  },
  {
   "cell_type": "code",
   "execution_count": null,
   "id": "0ea5d8bf",
   "metadata": {},
   "outputs": [],
   "source": []
  }
 ],
 "metadata": {
  "kernelspec": {
   "display_name": "Python 3 (ipykernel)",
   "language": "python",
   "name": "python3"
  },
  "language_info": {
   "codemirror_mode": {
    "name": "ipython",
    "version": 3
   },
   "file_extension": ".py",
   "mimetype": "text/x-python",
   "name": "python",
   "nbconvert_exporter": "python",
   "pygments_lexer": "ipython3",
   "version": "3.9.23"
  }
 },
 "nbformat": 4,
 "nbformat_minor": 5
}

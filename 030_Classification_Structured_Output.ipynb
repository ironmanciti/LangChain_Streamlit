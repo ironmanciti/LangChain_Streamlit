{
 "cells": [
  {
   "cell_type": "markdown",
   "id": "oN_ewigHqpO0",
   "metadata": {
    "id": "oN_ewigHqpO0"
   },
   "source": [
    "# 분류와 구조화된 출력\n",
    "## 텍스트를 라벨로 분류하기\n",
    "\n",
    "- LangChain과 Pydantic을 활용하여 텍스트 분류(Classification) 태스크를 수행\n",
    "\n",
    "**태깅(Tagging)** 이란 문서에 다음과 같은 클라스를 지정하는 것을 의미합니다.\n",
    "\n",
    "- 감정 (sentiment)\n",
    "- 언어\n",
    "- 스타일(공식적, 비공식적 등)\n",
    "- 다루는 주제\n",
    "- 정치적 경향\n",
    "\n",
    "![이미지 설명](https://github.com/langchain-ai/langchain/blob/master/docs/static/img/tagging.png?raw=1)\n",
    "\n",
    "---\n",
    "\n",
    "## **개요 (Overview)**  \n",
    "\n",
    "**태깅(Tagging)** 은 몇 가지 주요 구성 요소로 이루어집니다:  \n",
    "\n",
    "- **`function`**: 추출(Extraction)과 마찬가지로, 태깅은 함수(Functions)를 사용하여 모델이 문서를 어떻게 태깅해야 하는지 명시합니다.  \n",
    "- **`schema`**: 문서를 어떻게 태깅할지 정의합니다 --> Pydantic 데이터 모델을 이용하여 정의"
   ]
  },
  {
   "cell_type": "code",
   "execution_count": 1,
   "id": "a1d97476",
   "metadata": {},
   "outputs": [
    {
     "data": {
      "text/plain": [
       "True"
      ]
     },
     "execution_count": 1,
     "metadata": {},
     "output_type": "execute_result"
    }
   ],
   "source": [
    "import os\n",
    "from dotenv import load_dotenv\n",
    "load_dotenv()"
   ]
  },
  {
   "cell_type": "code",
   "execution_count": 2,
   "id": "ae6e5816-bd17-452a-b761-9f0f702e8d2d",
   "metadata": {},
   "outputs": [],
   "source": [
    "# LangSmith 추적 설정 활성화\n",
    "os.environ[\"LANGSMITH_TRACING\"] = \"true\""
   ]
  },
  {
   "cell_type": "code",
   "execution_count": 3,
   "id": "54849d2f",
   "metadata": {},
   "outputs": [],
   "source": [
    "from langchain_openai import ChatOpenAI\n",
    "\n",
    "llm = ChatOpenAI(model=\"gpt-4.1-nano\")"
   ]
  },
  {
   "cell_type": "markdown",
   "id": "32550f51-f70f-45c2-855d-025e2112206b",
   "metadata": {},
   "source": [
    "## Pydantic 이란? \n",
    "- Pydantic은 Python 데이터 검증 및 설정 관리를 위한 라이브러리\n",
    "- Pydantic의 핵심 기능\n",
    "    - 타입 검증 (Type Validation)\n",
    "    - 데이터가 지정된 형식(int, str 등)과 일치하는지 자동 확인\n",
    "    - 기본값 설정 (Default Values)"
   ]
  },
  {
   "cell_type": "code",
   "execution_count": 4,
   "id": "e4455109-aa1b-498a-a8c2-39b7cad17a34",
   "metadata": {},
   "outputs": [
    {
     "name": "stdout",
     "output_type": "stream",
     "text": [
      "id=1 name='Alice' email='alice@example.com' is_active=True\n"
     ]
    }
   ],
   "source": [
    "from pydantic import BaseModel\n",
    "\n",
    "class User(BaseModel):\n",
    "    id: int\n",
    "    name: str\n",
    "    email: str\n",
    "    is_active: bool = True  # 기본값 설정 가능\n",
    "\n",
    "# 올바른 데이터\n",
    "user = User(id=1, name=\"Alice\", email=\"alice@example.com\")\n",
    "print(user)"
   ]
  },
  {
   "cell_type": "code",
   "execution_count": 5,
   "id": "572192e3-3f4a-4db1-8c58-329bc04f813a",
   "metadata": {},
   "outputs": [],
   "source": [
    "# !pip install pydantic[email]"
   ]
  },
  {
   "cell_type": "markdown",
   "id": "4c30d58c-08fe-43e2-b75a-b20b892cadab",
   "metadata": {},
   "source": [
    "### Pydantic을 이용한 데이터 검증"
   ]
  },
  {
   "cell_type": "code",
   "execution_count": 6,
   "id": "b44ca9fc-e5a3-41d3-bcf8-ff5370404723",
   "metadata": {},
   "outputs": [
    {
     "name": "stdout",
     "output_type": "stream",
     "text": [
      "2 validation errors for User\n",
      "id\n",
      "  Input should be a valid integer, unable to parse string as an integer [type=int_parsing, input_value='one', input_type=str]\n",
      "    For further information visit https://errors.pydantic.dev/2.10/v/int_parsing\n",
      "email\n",
      "  value is not a valid email address: An email address must have an @-sign. [type=value_error, input_value='invalid-email', input_type=str]\n"
     ]
    }
   ],
   "source": [
    "from pydantic import BaseModel, EmailStr\n",
    "\n",
    "class User(BaseModel):\n",
    "    id: int\n",
    "    name: str\n",
    "    email: EmailStr  # 이메일 형식 검증\n",
    "\n",
    "try:\n",
    "    user = User(id=\"one\", name=\"Alice\", email=\"invalid-email\")\n",
    "except Exception as e:\n",
    "    print(e)"
   ]
  },
  {
   "cell_type": "code",
   "execution_count": 7,
   "id": "afcce0ba-9b60-4390-bd45-0379c4a227a9",
   "metadata": {},
   "outputs": [
    {
     "name": "stdout",
     "output_type": "stream",
     "text": [
      "agressiveness=5\n",
      "\n",
      "❌ 유효성 검사 오류 발생:\n",
      "1 validation error for Classification_3\n",
      "agressiveness\n",
      "  Input should be less than or equal to 10 [type=less_than_equal, input_value=15, input_type=int]\n",
      "    For further information visit https://errors.pydantic.dev/2.10/v/less_than_equal\n"
     ]
    }
   ],
   "source": [
    "from pydantic import BaseModel, Field, ValidationError\n",
    "\n",
    "class Classification_3(BaseModel):\n",
    "    agressiveness: int = Field(\n",
    "        default=1, \n",
    "        description=\"공격성 수치 (1~10 사이의 값)\",\n",
    "        ge=1, le=10  # 최소값 1, 최대값 10 제한\n",
    "    )\n",
    "\n",
    "# 올바른 데이터 (1~10 범위 내)\n",
    "valid_data = Classification_3(agressiveness=5)\n",
    "print(valid_data)\n",
    "\n",
    "# 잘못된 데이터 (10 초과)\n",
    "try:\n",
    "    invalid_data = Classification_3(agressiveness=15)  # 10보다 큼\n",
    "except ValidationError as e:\n",
    "    print(\"\\n❌ 유효성 검사 오류 발생:\")\n",
    "    print(e)"
   ]
  },
  {
   "cell_type": "markdown",
   "id": "716e401c-6b29-4377-9e24-a37094155b31",
   "metadata": {},
   "source": [
    "### Pydantic을 이용하여 LLM의 구조화된 출력 유도"
   ]
  },
  {
   "cell_type": "code",
   "execution_count": 9,
   "id": "3ae80c91-e0ff-4f39-9a0b-311f68781502",
   "metadata": {},
   "outputs": [
    {
     "data": {
      "text/plain": [
       "CalendarEvent(이름='과학 박람회', 날자='금요일', 참석자=['Alice', 'Bob'])"
      ]
     },
     "execution_count": 9,
     "metadata": {},
     "output_type": "execute_result"
    }
   ],
   "source": [
    "from langchain_core.prompts import ChatPromptTemplate\n",
    "from pydantic import BaseModel\n",
    "\n",
    "class CalendarEvent(BaseModel):\n",
    "    이름: str\n",
    "    날자: str\n",
    "    참석자: list[str]\n",
    "\n",
    "calendar_prompt = ChatPromptTemplate.from_template(\n",
    "\n",
    "\"\"\"\n",
    "다음 글에서 원하는 정보를 추출하세요.\n",
    "'CalendarEvent' 에 언급된 속성만 추출하세요.\n",
    "\n",
    "글:\n",
    "{input}\n",
    "\"\"\"\n",
    ")\n",
    "\n",
    "# Structured Output(구조화된 출력) 생성\n",
    "llm = ChatOpenAI(model=\"gpt-4.1-nano\").with_structured_output(CalendarEvent)\n",
    "\n",
    "inp = \"Alice와 Bob은 금요일에 과학 박람회에 갈 예정입니다.\"\n",
    "prompt = calendar_prompt.invoke({\"input\": inp})\n",
    "llm.invoke(prompt)"
   ]
  },
  {
   "cell_type": "markdown",
   "id": "1380853e-2512-445d-8793-09430c57abbd",
   "metadata": {},
   "source": [
    "### 구조화된 출력값의 범위 조절"
   ]
  },
  {
   "cell_type": "code",
   "execution_count": 10,
   "id": "3ec34512-2767-47ab-a168-d70bcf4a1dbc",
   "metadata": {},
   "outputs": [
    {
     "name": "stdout",
     "output_type": "stream",
     "text": [
      "sentiment='행복하다' aggressiveness=3\n",
      "\n",
      "❌ 유효성 검사 오류 발생:\n",
      "1 validation error for Classification_2\n",
      "aggressiveness\n",
      "  Field required [type=missing, input_value={'sentiment': '슬프다'}, input_type=dict]\n",
      "    For further information visit https://errors.pydantic.dev/2.10/v/missing\n"
     ]
    }
   ],
   "source": [
    "class Classification_2(BaseModel):\n",
    "    sentiment: str = Field(..., enum=[\"행복하다\", \"중립적\", \"슬프다\"])  # ... - 필수 입력을 의미\n",
    "    aggressiveness: int = Field(\n",
    "        ...,   # 필수 입력 필드임\n",
    "        description=\"문장이 얼마나 공격적인지를 나타내며 숫자가 높을수록 더 공격적입니다.\",\n",
    "        enum=[1, 2, 3, 4, 5],  # 1~5 값만 허용\n",
    "    )\n",
    "\n",
    "# 올바른 데이터 입력\n",
    "valid_data = Classification_2(sentiment=\"행복하다\", aggressiveness=3)\n",
    "print(valid_data)\n",
    "\n",
    "# 필수 필드 누락 (오류 발생)\n",
    "try:\n",
    "    invalid_data = Classification_2(sentiment=\"슬프다\")  # aggressiveness 값 없음!\n",
    "except ValidationError as e:\n",
    "    print(\"\\n❌ 유효성 검사 오류 발생:\")\n",
    "    print(e)"
   ]
  },
  {
   "cell_type": "markdown",
   "id": "b8ca3f93",
   "metadata": {
    "id": "b8ca3f93"
   },
   "source": [
    "## Schema 정의와 도구 호출 \n",
    "\n",
    "LangChain에서 OpenAI의 **도구 호출(Tool Calling)** 기능을 사용하여 태깅을 수행하는 간단한 예제를 살펴보겠습니다.  \n",
    "\n",
    "- OpenAI 모델에서 지원하는 `with_structured_output` 메서드를 사용할 것입니다.  \n",
    "\n",
    "스키마에 몇 가지 속성과 예상 유형을 추가하여 Pydantic 모델을 지정해 보겠습니다."
   ]
  },
  {
   "cell_type": "code",
   "execution_count": 11,
   "id": "8d38db89",
   "metadata": {},
   "outputs": [],
   "source": [
    "from langchain_core.prompts import ChatPromptTemplate\n",
    "from langchain_openai import ChatOpenAI\n",
    "from pydantic import BaseModel, Field\n",
    "\n",
    "# 프롬프트 템플릿 정의\n",
    "# 주어진 텍스트에서 필요한 정보를 추출하도록 지침 제공\n",
    "tagging_prompt = ChatPromptTemplate.from_template(\n",
    "\"\"\"\n",
    "다음 글에서 원하는 정보를 추출하세요.\n",
    "'Classification' 함수에 언급된 속성만 추출하세요.\n",
    "\n",
    "글:\n",
    "{input}\n",
    "\"\"\"\n",
    ")\n",
    "\n",
    "# Pydantic 데이터 모델을 이용하여 텍스트에서 추출할 속성 정의\n",
    "# 감정의 종류와 값의 범위를 자율 지정\n",
    "class Classification(BaseModel):\n",
    "    sentiment: str = Field(description=\"텍스트의 감정\")\n",
    "    agressiveness: int = Field(\n",
    "        description=\"텍스트가 1~10점 척도로 얼마나 공격적인지를 나타냅니다.\"\n",
    "    )\n",
    "\n",
    "# Structured Output(구조화된 출력) 생성\n",
    "llm = ChatOpenAI(model=\"gpt-4.1-nano\").with_structured_output(Classification)"
   ]
  },
  {
   "cell_type": "code",
   "execution_count": 12,
   "id": "c238a91c",
   "metadata": {},
   "outputs": [
    {
     "name": "stdout",
     "output_type": "stream",
     "text": [
      "sentiment='positive' agressiveness=2\n"
     ]
    },
    {
     "data": {
      "text/plain": [
       "Classification(sentiment='positive', agressiveness=2)"
      ]
     },
     "execution_count": 12,
     "metadata": {},
     "output_type": "execute_result"
    }
   ],
   "source": [
    "inp = \"너를 만나게 되어 정말 기뻐! 우리는 아주 좋은 친구가 될 것 같아!\"\n",
    "\n",
    "prompt = tagging_prompt.invoke({\"input\": inp})\n",
    "response = llm.invoke(prompt)\n",
    "\n",
    "print(response)\n",
    "response"
   ]
  },
  {
   "cell_type": "markdown",
   "id": "ff3cf30d",
   "metadata": {
    "id": "ff3cf30d"
   },
   "source": [
    "dictionary 출력을 원하면 `.model_dump()`를 호출하면 됩니다."
   ]
  },
  {
   "cell_type": "code",
   "execution_count": 13,
   "id": "6b65446f",
   "metadata": {},
   "outputs": [
    {
     "data": {
      "text/plain": [
       "{'sentiment': 'positive', 'agressiveness': 2}"
      ]
     },
     "execution_count": 13,
     "metadata": {},
     "output_type": "execute_result"
    }
   ],
   "source": [
    "response.model_dump()"
   ]
  },
  {
   "cell_type": "markdown",
   "id": "d921bb53",
   "metadata": {
    "id": "d921bb53"
   },
   "source": [
    "예제에서 볼 수 있듯이, 모델은 우리가 원하는 바를 정확하게 해석합니다.  \n",
    "\n",
    "다음 섹션에서는 이러한 결과를 어떻게 제어할 수 있는지 살펴보겠습니다."
   ]
  },
  {
   "cell_type": "markdown",
   "id": "bebb2f83",
   "metadata": {
    "id": "bebb2f83"
   },
   "source": [
    "## **더 세밀한 출력 제어**\n",
    "\n",
    "**스키마(schema)** 를 더 자세히 정의하면 모델의 출력을 더 세밀하게 제어할 수 있습니다.  \n",
    "\n",
    "구체적으로 다음을 정의할 수 있습니다:  \n",
    "\n",
    "- **각 속성의 가능한 값**  \n",
    "- **속성을 모델이 정확하게 이해할 수 있도록 설명 추가**  \n",
    "- **반드시 반환해야 할 필수 속성**  "
   ]
  },
  {
   "cell_type": "markdown",
   "id": "69ef0b9a",
   "metadata": {
    "id": "69ef0b9a"
   },
   "source": [
    "이전에 언급한 각 요소를 제어하기 위해 **Enums**를 사용하여 우리의 **Pydantic 모델**을 다시 선언해봅시다.\n",
    "\n"
   ]
  },
  {
   "cell_type": "code",
   "execution_count": 14,
   "id": "be76084e",
   "metadata": {},
   "outputs": [],
   "source": [
    "# 필수 요소로 지정하고 감정의 종류와 값의 범위 지정\n",
    "class Classification_2(BaseModel):\n",
    "    sentiment: str = Field(..., enum=[\"행복하다\", \"중립적\", \"슬프다\"])\n",
    "    aggressiveness: int = Field(\n",
    "        ...,\n",
    "        description=\"문장이 얼마나 공격적인지를 나타내며 숫자가 높을수록 더 공격적입니다.\",\n",
    "        enum=[1, 2, 3, 4, 5],\n",
    "    )\n",
    "\n",
    "llm = ChatOpenAI(model=\"gpt-4.1-nano\").with_structured_output(Classification_2)"
   ]
  },
  {
   "cell_type": "markdown",
   "id": "5ded2332",
   "metadata": {
    "id": "5ded2332"
   },
   "source": [
    "이제 답변은 우리가 예상하는 방식으로 제한될 것입니다!"
   ]
  },
  {
   "cell_type": "code",
   "execution_count": 15,
   "id": "fd707ae0",
   "metadata": {},
   "outputs": [
    {
     "name": "stdout",
     "output_type": "stream",
     "text": [
      "sentiment='슬프다' aggressiveness=5\n"
     ]
    },
    {
     "data": {
      "text/plain": [
       "Classification_2(sentiment='슬프다', aggressiveness=5)"
      ]
     },
     "execution_count": 15,
     "metadata": {},
     "output_type": "execute_result"
    }
   ],
   "source": [
    "inp = \"너를 만나면 죽여 버릭거야! 우리는 영원히 친구가 될 수 없어!\"\n",
    "\n",
    "prompt = tagging_prompt.invoke({\"input\": inp})\n",
    "response = llm.invoke(prompt)\n",
    "\n",
    "print(response)\n",
    "response"
   ]
  },
  {
   "cell_type": "code",
   "execution_count": 16,
   "id": "587936e4-0a57-4cf5-906a-2a82871bfbaf",
   "metadata": {},
   "outputs": [
    {
     "data": {
      "text/plain": [
       "{'sentiment': '슬프다', 'aggressiveness': 5}"
      ]
     },
     "execution_count": 16,
     "metadata": {},
     "output_type": "execute_result"
    }
   ],
   "source": [
    "response.model_dump()"
   ]
  },
  {
   "cell_type": "code",
   "execution_count": 17,
   "id": "51f0779a",
   "metadata": {},
   "outputs": [
    {
     "data": {
      "text/plain": [
       "Classification_2(sentiment='슬프다', aggressiveness=5)"
      ]
     },
     "execution_count": 17,
     "metadata": {},
     "output_type": "execute_result"
    }
   ],
   "source": [
    "inp = \"너에게 정말 화가 나! 제대로 혼내줄 거야!\"\n",
    "prompt = tagging_prompt.invoke({\"input\": inp})\n",
    "llm.invoke(prompt)"
   ]
  },
  {
   "cell_type": "code",
   "execution_count": 18,
   "id": "3beda18d",
   "metadata": {},
   "outputs": [
    {
     "data": {
      "text/plain": [
       "Classification_2(sentiment='중립적', aggressiveness=1)"
      ]
     },
     "execution_count": 18,
     "metadata": {},
     "output_type": "execute_result"
    }
   ],
   "source": [
    "inp = \"여기 날씨는 괜찮아요, 코트 하나 없이도 밖에 나갈 수 있어요\"\n",
    "prompt = tagging_prompt.invoke({\"input\": inp})\n",
    "llm.invoke(prompt)"
   ]
  },
  {
   "cell_type": "markdown",
   "id": "87386396-9042-49b5-98c8-21bbd1532064",
   "metadata": {},
   "source": [
    "# 구조화된 출력을 활용한 콘텐츠 심사"
   ]
  },
  {
   "cell_type": "code",
   "execution_count": 19,
   "id": "ba29fabf-5747-4b5a-b183-8c1fcebaacad",
   "metadata": {},
   "outputs": [
    {
     "data": {
      "text/plain": [
       "ContentCompliance(is_violating=False, category=None, explanation_if_violating=None)"
      ]
     },
     "execution_count": 19,
     "metadata": {},
     "output_type": "execute_result"
    }
   ],
   "source": [
    "from enum import Enum\n",
    "from typing import Optional\n",
    "from pydantic import BaseModel\n",
    "\n",
    "class Category(str, Enum):\n",
    "    폭력 = \"violence\"\n",
    "    성적인_내용 = \"sexual\"\n",
    "    자해 = \"self_harm\"\n",
    "\n",
    "class ContentCompliance(BaseModel):\n",
    "    is_violating: bool\n",
    "    category: Optional[Category]\n",
    "    explanation_if_violating: Optional[str]\n",
    "\n",
    "llm = ChatOpenAI(model=\"gpt-4.1-nano\").with_structured_output(ContentCompliance)\n",
    "\n",
    "tagging_prompt = ChatPromptTemplate.from_template(\n",
    "\"\"\"\n",
    "사용자 입력이 특정 지침을 위반하는지 판단하고 'ContentCompliance' 형식에 맞추어 출력하세요.\n",
    "한국어로 출력하세요.\n",
    "\n",
    "글:\n",
    "{input}\n",
    "\"\"\"\n",
    ")\n",
    "\n",
    "inp = \"요즘 너무 힘들고 삶을 포기하고 싶어.\"\n",
    "# inp = \"이 사진은 성적으로 노골적인 내용을 포함하고 있어.\"\n",
    "prompt = tagging_prompt.invoke({\"input\": inp})\n",
    "llm.invoke(prompt)"
   ]
  },
  {
   "cell_type": "code",
   "execution_count": 22,
   "id": "7256b13e-f829-4754-be64-5d0cdf04e155",
   "metadata": {},
   "outputs": [
    {
     "data": {
      "text/plain": [
       "{'is_violating': False, 'category': None, 'explanation_if_violating': None}"
      ]
     },
     "execution_count": 22,
     "metadata": {},
     "output_type": "execute_result"
    }
   ],
   "source": [
    "response = llm.invoke(prompt)\n",
    "dict(response)"
   ]
  },
  {
   "cell_type": "markdown",
   "id": "0e905af8-6445-4454-9649-5048ae5354f9",
   "metadata": {},
   "source": [
    "# 실습 : 구조화된 출력 코드 작성\n",
    "\n",
    "### 문제 1: 캘린더 이벤트 추출 (기초)\n",
    "\n",
    "아래 문장에서 **이름**, **날짜**, **참석자** 정보를 추출하도록 `CalendarEvent` 클래스를 정의하고, .\n",
    "\n",
    "```text\n",
    "\"민수, 유리, 그리고 지민은 다음 주 화요일에 회사 워크숍에 참석합니다.\"\n",
    "```\n",
    "\n",
    "<details>\n",
    "<summary>힌트</summary>\n",
    "\n",
    "```\n",
    "class CalendarEvent(BaseModel):\n",
    "    이름: str\n",
    "    날자: str\n",
    "    참석자: list[str]\n",
    "```\n",
    "\n",
    "</details>"
   ]
  },
  {
   "cell_type": "code",
   "execution_count": null,
   "id": "b936c5aa-c9eb-4950-887b-0aa0c449a7be",
   "metadata": {},
   "outputs": [],
   "source": []
  }
 ],
 "metadata": {
  "colab": {
   "provenance": []
  },
  "kernelspec": {
   "display_name": "Python 3 (ipykernel)",
   "language": "python",
   "name": "python3"
  },
  "language_info": {
   "codemirror_mode": {
    "name": "ipython",
    "version": 3
   },
   "file_extension": ".py",
   "mimetype": "text/x-python",
   "name": "python",
   "nbconvert_exporter": "python",
   "pygments_lexer": "ipython3",
   "version": "3.9.23"
  }
 },
 "nbformat": 4,
 "nbformat_minor": 5
}

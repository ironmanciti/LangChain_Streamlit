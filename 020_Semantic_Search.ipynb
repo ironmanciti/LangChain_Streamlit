{
 "cells": [
  {
   "cell_type": "markdown",
   "id": "bf37a837-7a6a-447b-8779-38f26c585887",
   "metadata": {
    "id": "bf37a837-7a6a-447b-8779-38f26c585887"
   },
   "source": [
    "# 시맨틱 검색 엔진 구축하기\n",
    "이 노트북은 LangChain의 문서 로더, 임베딩, 그리고 벡터 스토어 추상화 개념에 익숙해지도록 설계되었습니다. 이러한 추상화는 (벡터) 데이터베이스 및 기타 소스에서 데이터를 검색하여 LLM 워크플로우에 통합하도록 지원합니다. 이는 **RAG (Retrieval-Augmented Generation)** 와 같은 모델 추론의 일부로 데이터를 검색해 활용하는 애플리케이션에 중요합니다.\n",
    "\n",
    "이 노트북에서는 PDF 문서에 대한 검색 엔진을 구축합니다. 이를 통해 입력 쿼리와 유사한 PDF의 특정 구절을 검색할 수 있습니다.\n",
    "\n",
    "### 개념\n",
    "이 가이드는 텍스트 데이터 검색에 중점을 둡니다. 아래 개념을 다룰 것입니다:\n",
    "\n",
    "- 문서 및 문서 로더\n",
    "- 텍스트 분할기 (Text splitters)\n",
    "- 임베딩 (Embeddings)\n",
    "- 벡터 스토어 및 검색기 (Vector stores and retrievers)\n",
    "\n",
    "### 문서 및 문서 로더 (Documents and Document Loaders)\n",
    "LangChain은 Document 추상화를 제공합니다. 이 객체는 텍스트 단위와 관련 메타데이터를 나타내기 위해 설계되었습니다.  \n",
    "\n",
    "Document의 주요 속성:  \n",
    "- page_content: 문서의 내용을 나타내는 문자열입니다.  \n",
    "- metadata: 문서의 출처, 다른 문서와의 관계 등 임의의 메타데이터를 포함하는 딕셔너리입니다.  \n",
    "- id: (선택적) 문서를 식별하는 문자열입니다.  \n",
    "\n",
    "metadata 속성은 문서의 출처, 문서 간 관계 및 기타 정보를 포함할 수 있습니다. 일반적으로 하나의 Document 객체는 더 큰 문서의 일부(청크)를 나타냅니다.\n",
    "\n",
    "예제 문서 생성:\n",
    "```python\n",
    "from langchain_core.documents import Document\n",
    "\n",
    "documents = [\n",
    "    Document(\n",
    "        page_content=\"개는 충성심과 친근함으로 잘 알려진 훌륭한 동반자입니다. \",\n",
    "        metadata={\"source\": \"mammal-pets-doc\"},\n",
    "    ),\n",
    "    Document(\n",
    "        page_content=\"고양이는 독립적인 반려동물로, 종종 자신만의 공간을 즐깁니다.\",\n",
    "        metadata={\"source\": \"mammal-pets-doc\"},\n",
    "    ),\n",
    "]\n",
    "```"
   ]
  },
  {
   "cell_type": "markdown",
   "id": "f8593578-5699-4b19-96c4-7c990d37a2ec",
   "metadata": {
    "id": "f8593578-5699-4b19-96c4-7c990d37a2ec"
   },
   "source": [
    "그러나 LangChain 생태계는 문서 로더(document loaders)를 구현하여 수백 가지 일반적인 소스와 통합할 수 있습니다. 이를 통해 이러한 소스의 데이터를 AI 애플리케이션에 쉽게 통합할 수 있습니다.\n"
   ]
  },
  {
   "cell_type": "code",
   "execution_count": 1,
   "id": "52f4631d",
   "metadata": {},
   "outputs": [
    {
     "data": {
      "text/plain": [
       "True"
      ]
     },
     "execution_count": 1,
     "metadata": {},
     "output_type": "execute_result"
    }
   ],
   "source": [
    "import os\n",
    "from dotenv import load_dotenv\n",
    "load_dotenv()"
   ]
  },
  {
   "cell_type": "code",
   "execution_count": 2,
   "id": "e259eec4-3f3b-4fff-ae4d-164f77c83f91",
   "metadata": {},
   "outputs": [],
   "source": [
    "# LangSmith 추적 설정 활성화\n",
    "os.environ[\"LANGSMITH_TRACING\"] = \"true\""
   ]
  },
  {
   "cell_type": "markdown",
   "id": "K8UsxUgCF-XV",
   "metadata": {
    "id": "K8UsxUgCF-XV"
   },
   "source": [
    "## **문서 로드하기**\n",
    "\n",
    "PDF 파일을 `Document` 객체의 시퀀스로 로드해 보겠습니다. LangChain 저장소에 [예제 PDF](https://github.com/langchain-ai/langchain/tree/master/docs/docs/example_data)가 있습니다. 이 PDF는 **2023년 나이키(Nike)의 10-K 보고서**입니다.  "
   ]
  },
  {
   "cell_type": "code",
   "execution_count": 3,
   "id": "5c831207",
   "metadata": {},
   "outputs": [
    {
     "name": "stdout",
     "output_type": "stream",
     "text": [
      "103\n"
     ]
    }
   ],
   "source": [
    "from langchain_community.document_loaders import PyPDFLoader\n",
    "\n",
    "file_path = \"./example_data/nke-10k-2023_korean.pdf\"\n",
    "loader = PyPDFLoader(file_path)\n",
    "\n",
    "docs = loader.load()\n",
    "\n",
    "print(len(docs))"
   ]
  },
  {
   "cell_type": "markdown",
   "id": "b90f4800-bb82-416b-beba-f42ae88a5c66",
   "metadata": {
    "id": "b90f4800-bb82-416b-beba-f42ae88a5c66"
   },
   "source": [
    "**`PyPDFLoader`** 는 **PDF의 각 페이지마다 하나의 `Document` 객체**를 로드합니다.  \n",
    "\n",
    "각 객체에서 다음 정보를 쉽게 접근할 수 있습니다:  \n",
    "\n",
    "- **페이지의 문자열 콘텐츠**  \n",
    "- **파일 이름과 페이지 번호를 포함한 메타데이터**  "
   ]
  },
  {
   "cell_type": "code",
   "execution_count": 4,
   "id": "9d4eaa47",
   "metadata": {},
   "outputs": [
    {
     "name": "stdout",
     "output_type": "stream",
     "text": [
      "목차 \n",
      "미국 \n",
      "증권거래위원회(SEC) 워싱턴 D.C. 20549 \n",
      "양식 10-K \n",
      "(마크 1) \n",
      "☑ 2023 년 5 월 31 일에 종료되는 회계 연도에 대한 1934 년 증권거래법 섹션 13 또는 15(D)에 따른 연례 보고서 \n",
      "또는 \n",
      "☐ 1934 년 증권거래법(SECURITIES EXCHANGE ACT OF 1934)의 섹션 13 또는 15(D)에 따른 \n",
      "\n",
      "{'producer': 'Microsoft® Word Microsoft 365용', 'creator': 'Microsoft® Word Microsoft 365용', 'creationdate': '2024-12-26T10:17:40+09:00', 'title': '0000320187-23-000039', 'author': 'EDGAR Online, a division of Donnelley Financial Solutions', 'subject': 'Form 10-K filed on 2023-07-20 for the period ending 2023-05-31', 'keywords': '0000320187-23-000039; ; 10-K', 'moddate': '2024-12-26T10:17:40+09:00', 'source': './example_data/nke-10k-2023_korean.pdf', 'total_pages': 103, 'page': 0, 'page_label': '1'}\n"
     ]
    }
   ],
   "source": [
    "print(f\"{docs[0].page_content[:200]}\")\n",
    "print()\n",
    "print(docs[0].metadata)"
   ]
  },
  {
   "cell_type": "markdown",
   "id": "e5ddULcMI4T4",
   "metadata": {
    "id": "e5ddULcMI4T4"
   },
   "source": [
    "## **텍스트 분할 (Splitting)**  \n",
    "\n",
    "정보 검색 및 후속 질문-응답(question-answering) 작업을 하는데 **페이지 단위** 사용은 너무 거친 표현일 수 있습니다. 우리의 최종 목표는 **입력 쿼리에 답변할 수 있는 `Document` 객체를 검색하는 것**이므로, PDF를 더 세분화하면 문서의 해당되는 부분이 주변 텍스트에 의해 의미가 흐려지는 것을 방지할 수 있습니다.  \n",
    "\n",
    "이를 위해 텍스트 분할기(text splitters)를 사용할 수 있습니다. 여기서는 **문자를 기준으로 분할하는 간단한 텍스트 분할기**를 사용할 것입니다.  \n",
    "\n",
    "- 문서를 **1000자 단위로 분할**합니다.  \n",
    "- 각 청크(chunk) 사이에는 **200자의 중첩(overlap)** 이 있습니다.  \n",
    "\n",
    "**중첩**은 중요한 문맥(context)과 문장(statement)이 분리되는 것을 완화하는 데 도움이 됩니다.  \n",
    "\n",
    "우리는 **RecursiveCharacterTextSplitter**를 사용할 것입니다. 이 분할기는 일반적인 구분자(예: 줄바꿈)를 사용하여 **재귀적으로 문서를 분할**하며, 각 청크가 적절한 크기가 될 때까지 반복합니다. **일반 텍스트 사용 사례에서 권장되는 텍스트 분할기입니다.**  \n",
    "\n",
    "### **추가 설정**  \n",
    "- `add_start_index=True`로 설정하면 **각 분할된 `Document`가 원본 `Document` 내에서 시작하는 문자 인덱스**가 **메타데이터 속성(`start_index`)** 으로 보존됩니다.  "
   ]
  },
  {
   "cell_type": "code",
   "execution_count": 5,
   "id": "f35ecf43",
   "metadata": {},
   "outputs": [
    {
     "data": {
      "text/plain": [
       "283"
      ]
     },
     "execution_count": 5,
     "metadata": {},
     "output_type": "execute_result"
    }
   ],
   "source": [
    "# RecursiveCharacterTextSplitter를 가져옵니다.\n",
    "# 이 도구는 텍스트를 재귀적으로 분할하며, 일반적인 구분자(예: 줄바꿈)를 사용합니다.\n",
    "from langchain_text_splitters import RecursiveCharacterTextSplitter\n",
    "\n",
    "# RecursiveCharacterTextSplitter 설정\n",
    "text_splitter = RecursiveCharacterTextSplitter(\n",
    "    chunk_size=1000,              # 각 청크(chunk)의 최대 문자 수\n",
    "    chunk_overlap=200,           # 청크 간 중첩(overlap) 문자 수\n",
    "    add_start_index=True        # 각 청크의 시작 인덱스를 메타데이터로 추가\n",
    ")\n",
    "\n",
    "# 문서를 분할합니다. 'docs'는 분할할 원본 문서 목록입니다.\n",
    "all_splits = text_splitter.split_documents(docs)\n",
    "\n",
    "# 분할된 문서의 총 개수\n",
    "len(all_splits)"
   ]
  },
  {
   "cell_type": "markdown",
   "id": "5c066d46-9187-4d5a-98d3-974c37610276",
   "metadata": {
    "id": "5c066d46-9187-4d5a-98d3-974c37610276"
   },
   "source": [
    "## **임베딩 (Embeddings)**  \n",
    "\n",
    "**벡터 검색(Vector Search)** 은 비정형 데이터(예: 비정형 텍스트)를 저장하고 검색하는 일반적인 방법입니다. 핵심 아이디어는 텍스트와 연결된 **숫자 벡터(Numeric Vectors)** 를 저장하는 것입니다.  \n",
    "\n",
    "쿼리(Query)가 주어지면, 이를 **동일한 차원의 벡터로 임베딩(Embedding)** 하고 **벡터 유사도 측정(metric)** (예: **코사인 유사도**)을 사용하여 관련 텍스트를 식별할 수 있습니다.   \n",
    "\n",
    "### **모델 선택하기**  \n",
    "\n",
    "원하는 임베딩 모델을 선택해 사용합니다.  \n",
    "예를 들어, OpenAI, Hugging Face, Cohere 등 다양한 제공자를 사용할 수 있습니다.  \n",
    "\n",
    "**임베딩 모델을 선택한 후 벡터 스토어(Vector Store)에 텍스트를 저장하고 검색**할 수 있습니다."
   ]
  },
  {
   "cell_type": "code",
   "execution_count": 6,
   "id": "9806fc26",
   "metadata": {},
   "outputs": [
    {
     "data": {
      "text/plain": [
       "OpenAIEmbeddings(client=<openai.resources.embeddings.Embeddings object at 0x000001DCC47EE8B0>, async_client=<openai.resources.embeddings.AsyncEmbeddings object at 0x000001DCC3A7F280>, model='text-embedding-3-small', dimensions=None, deployment='text-embedding-ada-002', openai_api_version=None, openai_api_base=None, openai_api_type=None, openai_proxy=None, embedding_ctx_length=8191, openai_api_key=SecretStr('**********'), openai_organization=None, allowed_special=None, disallowed_special=None, chunk_size=1000, max_retries=2, request_timeout=None, headers=None, tiktoken_enabled=True, tiktoken_model_name=None, show_progress_bar=False, model_kwargs={}, skip_empty=False, default_headers=None, default_query=None, retry_min_seconds=4, retry_max_seconds=20, http_client=None, http_async_client=None, check_embedding_ctx_length=True)"
      ]
     },
     "execution_count": 6,
     "metadata": {},
     "output_type": "execute_result"
    }
   ],
   "source": [
    "from langchain_openai import OpenAIEmbeddings\n",
    "\n",
    "embeddings = OpenAIEmbeddings(model=\"text-embedding-3-small\")\n",
    "embeddings"
   ]
  },
  {
   "cell_type": "code",
   "execution_count": 7,
   "id": "8e80f635",
   "metadata": {},
   "outputs": [
    {
     "name": "stdout",
     "output_type": "stream",
     "text": [
      "생성된 벡터의 길이: 1536\n",
      "\n",
      "[0.02033882401883602, 0.02913365699350834, 0.023025788366794586, 0.02973075956106186, 0.01828628219664097, 0.007998693734407425, -0.016022266820073128, 0.003414683509618044, 0.043513890355825424, -0.027665777131915092]\n"
     ]
    }
   ],
   "source": [
    "# 쿼리 텍스트를 벡터로 임베딩합니다.\n",
    "# 각 청크의 내용을 벡터로 변환하여 비교합니다.\n",
    "\n",
    "# 첫 번째 청크(all_splits[0])의 내용을 벡터로 임베딩합니다.\n",
    "vector_1 = embeddings.embed_query(all_splits[0].page_content)\n",
    "\n",
    "# 두 번째 청크(all_splits[1])의 내용을 벡터로 임베딩합니다.\n",
    "vector_2 = embeddings.embed_query(all_splits[1].page_content)\n",
    "\n",
    "# 두 벡터의 길이가 동일한지 확인합니다.\n",
    "assert len(vector_1) == len(vector_2), \"벡터 길이가 일치하지 않습니다!\"\n",
    "\n",
    "# 벡터의 길이를 출력합니다.\n",
    "print(f\"생성된 벡터의 길이: {len(vector_1)}\\n\")\n",
    "\n",
    "# 첫 번째 벡터의 일부(처음 10개 요소)를 출력합니다.\n",
    "print(vector_1[:10])"
   ]
  },
  {
   "cell_type": "markdown",
   "id": "HGfhR318X66u",
   "metadata": {
    "id": "HGfhR318X66u"
   },
   "source": [
    "텍스트 임베딩을 생성하는 모델을 준비했다면, 이제 이를 효율적인 **유사도 검색(Similarity Search)** 을 지원하는 **벡터 스토어(Vector Stores)** 에 저장할 수 있습니다.\n",
    "\n",
    "---\n",
    "\n",
    "## **벡터 스토어(Vector Stores)**  \n",
    "\n",
    "LangChain의 [**VectorStore**](https://python.langchain.com/api_reference/core/vectorstores/langchain_core.vectorstores.base.VectorStore.html) 객체는 **텍스트 및 `Document` 객체를 저장**하고, 다양한 **유사도 메트릭(Similarity Metrics)** 을 사용해 쿼리를 수행할 수 있는 메서드를 포함합니다.  \n",
    "\n",
    "이 객체들은 종종 **임베딩(Embedding)** 모델로 초기화되며, 해당 모델은 **텍스트 데이터를 숫자 벡터로 변환하는 방법**을 결정합니다.   \n",
    "\n",
    "- 일부 벡터 스토어는 **클라우드 제공업체(Cloud Providers)** 에서 호스팅되며 특정 **자격 증명(Credentials)** 이 필요합니다.  \n",
    "- 일부 벡터 스토어(예: **Postgres**)는 독립적인 인프라에서 실행되거나 로컬 또는 서드파티 플랫폼을 통해 운영될 수 있습니다.  \n",
    "- 일부 벡터 스토어는 **인메모리(In-Memory)** 로 실행되어 가벼운 작업에 적합합니다.  "
   ]
  },
  {
   "cell_type": "code",
   "execution_count": 8,
   "id": "037400d6",
   "metadata": {},
   "outputs": [],
   "source": [
    "# !pip install -q chromadb\n",
    "# !pip install -q langchain-chroma"
   ]
  },
  {
   "cell_type": "code",
   "execution_count": 9,
   "id": "fe0f8dbd",
   "metadata": {},
   "outputs": [
    {
     "data": {
      "text/plain": [
       "<langchain_chroma.vectorstores.Chroma at 0x1dcc4672460>"
      ]
     },
     "execution_count": 9,
     "metadata": {},
     "output_type": "execute_result"
    }
   ],
   "source": [
    "from langchain_chroma import Chroma\n",
    "\n",
    "vector_store = Chroma(embedding_function=embeddings)\n",
    "vector_store"
   ]
  },
  {
   "cell_type": "markdown",
   "id": "e3b3035f-1371-4965-ab7a-04eae25e47f3",
   "metadata": {
    "id": "e3b3035f-1371-4965-ab7a-04eae25e47f3"
   },
   "source": [
    "벡터 저장소를 인스턴스화했으므로 이제 문서를 인덱싱할 수 있습니다."
   ]
  },
  {
   "cell_type": "code",
   "execution_count": 10,
   "id": "158072eb",
   "metadata": {},
   "outputs": [
    {
     "data": {
      "text/plain": [
       "['d405ab31-9496-43c6-a6d3-877722717c15',\n",
       " 'a51f58b5-3aef-45cf-aeb1-5ad2aa4f8153',\n",
       " 'd291f37a-b062-4321-b2de-375579b353c8',\n",
       " 'ecf82813-db06-487c-bb11-c5f874a86a06',\n",
       " '23240c59-41aa-40ac-bdfe-e82c2b0d4401']"
      ]
     },
     "execution_count": 10,
     "metadata": {},
     "output_type": "execute_result"
    }
   ],
   "source": [
    "# 문서 목록을 벡터 스토어에 추가하고, 각 문서에 대한 고유 식별자(ID) 반환\n",
    "# - documents: 추가할 문서 목록 (여기서는 'all_splits'로 분할된 문서 목록)\n",
    "\n",
    "ids = vector_store.add_documents(documents=all_splits)\n",
    "ids[:5]"
   ]
  },
  {
   "cell_type": "markdown",
   "id": "k1ELf74varMR",
   "metadata": {
    "id": "k1ELf74varMR"
   },
   "source": [
    "## **VectorStore 쿼리하기**  \n",
    "\n",
    "**`VectorStore`** 가 문서를 포함하고 있는 상태에서, 우리는 이를 쿼리할 수 있습니다.  \n",
    "[**VectorStore**](https://python.langchain.com/api_reference/core/vectorstores/langchain_core.vectorstores.base.VectorStore.html)는 다음과 같은 쿼리 메서드를 제공합니다:  \n",
    "\n",
    "- **동기(Synchronous) 및 비동기(Asynchronous) 방식**  \n",
    "- **문자열(String) 쿼리 또는 벡터(Vector) 기반 쿼리**  \n",
    "- **유사도 점수(Similarity Scores) 반환 여부 선택**  \n",
    "- **유사도(Similarity)** 및 [**최대 주변부 중요도(Maximum Marginal Relevance)**](https://python.langchain.com/api_reference/core/vectorstores/langchain_core.vectorstores.base.VectorStore.html#langchain_core.vectorstores.base.VectorStore.max_marginal_relevance_search)를 사용하여 검색된 결과의 다양성을 균형 있게 조정  \n",
    "\n",
    "일반적으로 이 메서드들은 출력값으로 [**Document**](https://python.langchain.com/api_reference/core/documents/langchain_core.documents.base.Document.html#langchain_core.documents.base.Document) 객체 목록을 포함합니다.  \n",
    "\n",
    "| **메서드**                     | **입력**           | **출력**                           | **사용 시점**                              |\r\n",
    "|--------------------------------|------------------|---------------------------------|--------------------------------------|\r\n",
    "| `similarity_search()`          | 텍스트(Query)    | 유사한 문서 리스트                 | 일반적인 유사도 검색                      |\r\n",
    "| `similarity_search_with_score()` | 텍스트(Query)    | `(문서, 유사도 점수)` 리스트       | 유사도 점수를 포함하여 검색하고 싶을 때     |\r\n",
    "| `similarity_search_by_vector()` | 사전 계산된 벡터 | 유사한 문서 리스트                 | 벡터를 직접 활용한 검색                   |\r\n",
    "\n",
    "\n",
    "---\n",
    "\n",
    "**임베딩(Embeddings)** 은 일반적으로 텍스트를 **'밀집 벡터(Dense Vector)'** 로 표현합니다. 이로 인해 **의미가 유사한 텍스트는 기하학적으로 가까운 위치**에 있게 됩니다.  \n",
    "이를 통해 **문서에 사용된 특정 키워드를 알지 못해도** 질문을 입력하는 것만으로 관련 정보를 검색할 수 있습니다.  "
   ]
  },
  {
   "cell_type": "code",
   "execution_count": 11,
   "id": "c1120b54",
   "metadata": {},
   "outputs": [
    {
     "name": "stdout",
     "output_type": "stream",
     "text": [
      "page_content='애널리스트의 추정치는 종종 우리의 추정치 또는 기대와 다릅니다. 당사의 영업 실적이 공개 시장 분석가 및 투자자의 추정치 또는 기대치를 밑돌면 주가가 하락할 수 \n",
      "있습니다. 과거에는 증권 시장 가격이 하락한 후 NIKE 및 기타 회사를 상대로 증권 집단 소송이 제기되었습니다. 어떤 이유로든 주가가 변동하는 경우 향후 이러한 유형의 \n",
      "소송에 연루될 수 있습니다. 모든 소송은 평판 손상, 상당한 비용 및 비즈니스를 성공적으로 운영하는 데 필요한 경영진의 관심과 자원의 전환을 초래할 수 있습니다. \n",
      "2023 양식 10-K 23 \n",
      " \n",
      "항목 1B. 해결되지 않은 직원 의견 \n",
      "없음. \n",
      "항목 2. 속성 \n",
      "다음은 NIKE 가 소유하거나 임대한 주요 자산에 대한 요약입니다. \n",
      "NIKE 가 소유하고 미국 오레곤 주 비버튼 근처에 위치한 NIKE World Campus는 약 400 에이커의 부지로 40 개 이상의 건물로 구성되어 있으며, 인접한 임대 부동산과 함께 \n",
      "세계 본부 역할을 하며 거의 모든 부문에 서비스를 제공하는 관리, 연구, 디자인, 개발, 마케팅, 재무 및 기타 관리 기능에 종사하는 약 11,400명의 직원이 근무하고 있습니다. \n",
      "우리는 네덜란드 힐베르쉼(Hilversum)에 있는 비슷하지만 더 작은 관리 시설을 임대하여 유럽, 중동 및 아프리카 지역의 본부 역할을 하고 미국 외 지역의 특정 브랜드 기능을 \n",
      "관리합니다. \n",
      "작업. 우리는 또한 중국 상하이에 있는 사무실 단지를 임대하고 있으며, 이 사무실은 중화권 지역의 본사로, 다른 기능 중에서도 도매, NIKE Direct 및 이 지역에서 머천다이징 \n",
      "전략을 구현하는 데 중점을 둔 직원들이 사용하고 있습니다. \n",
      "미국에는 NIKE 가 8 개의 주요 유통 센터를 보유하고 있습니다. 5 개는 테네시 주 멤피스 또는 그 인근에 위치하고 있으며, 그 중 2 개는 소유이고 3 개는 임대입니다.' metadata={'author': 'EDGAR Online, a division of Donnelley Financial Solutions', 'creationdate': '2024-12-26T10:17:40+09:00', 'creator': 'Microsoft® Word Microsoft 365용', 'keywords': '0000320187-23-000039; ; 10-K', 'moddate': '2024-12-26T10:17:40+09:00', 'page': 21, 'page_label': '22', 'producer': 'Microsoft® Word Microsoft 365용', 'source': './example_data/nke-10k-2023_korean.pdf', 'start_index': 790, 'subject': 'Form 10-K filed on 2023-07-20 for the period ending 2023-05-31', 'title': '0000320187-23-000039', 'total_pages': 103}\n"
     ]
    }
   ],
   "source": [
    "results = vector_store.similarity_search(\n",
    "    \"Nike는 미국에 몇 개의 유통 센터를 가지고 있습니까?\"\n",
    ")\n",
    "\n",
    "print(results[0])"
   ]
  },
  {
   "cell_type": "markdown",
   "id": "d4172698-9ad7-4422-99b2-bdc268e99c75",
   "metadata": {
    "id": "d4172698-9ad7-4422-99b2-bdc268e99c75"
   },
   "source": [
    "<br>\n",
    "- 유사도 점수 (Return scores) 반환"
   ]
  },
  {
   "cell_type": "code",
   "execution_count": 12,
   "id": "161e7db9",
   "metadata": {},
   "outputs": [
    {
     "name": "stdout",
     "output_type": "stream",
     "text": [
      "Score: 0.6331816911697388\n",
      "\n",
      "page_content='매장이 지난 1 년 동안 영구적으로 재배치되지 않았다는 세 가지 요건이 모두 충족된 NIKE 소유의 인라인 및 공장 매장의 매출로 구성됩니다. 비교 가능한 매장 매출에는 \n",
      "COVID-19 로 인해 해당 기간 동안 일시적으로 폐쇄된 매장의 매출이 포함됩니다. 비교 가능한 매장 매출은 경영진과 투자자가 기존 NIKE 소유의 인라인 및 공장 매장의 \n",
      "실적을 이해하는 데 유용한 정보라고 생각하는 성과 지표를 나타냅니다. 경영진은 재무 및 운영 결정을 내릴 때 이 지표를 고려합니다. 비교 가능한 매장 매출을 계산하는 \n",
      "방법은 소매 업종에 따라 다릅니다. 따라서 이 지표에 대한 당사의 계산은 다른 회사에서 사용하는 유사한 제목의 지표와 비교할 수 없을 수 있습니다. \n",
      "2023 양식 10-K 30 \n",
      " \n",
      "운영 결과 \n",
      "(백만 달러 단위, 주당 데이터 제외) 2023 회계연도 2022 회계연도 변동률(%) 2021 회계연도 변동률(%) \n",
      "수익 $ 51,217  $ 46,710  10 % $ 44,538  5 % \n",
      "매출 원가  28,925   25,231  15 % 24,576  3 % \n",
      "매출 총이익  22,292   21,479  4 % 19,962  8 % \n",
      "총수익  43.5 %  46.0 %  44.8 %  \n",
      "수요 창출 비용  4,060   3,850  5 % 3,114  24 % \n",
      "영업간접비  12,317   10,954  12 % 9,911  11 % \n",
      "총 판매 및 관리 비용  16,377   14,804  11 % 13,025  14 % \n",
      "매출 대비 %  32.0 %  31.7 %  29.2 %' metadata={'author': 'EDGAR Online, a division of Donnelley Financial Solutions', 'creationdate': '2024-12-26T10:17:40+09:00', 'creator': 'Microsoft® Word Microsoft 365용', 'keywords': '0000320187-23-000039; ; 10-K', 'moddate': '2024-12-26T10:17:40+09:00', 'page': 26, 'page_label': '27', 'producer': 'Microsoft® Word Microsoft 365용', 'source': './example_data/nke-10k-2023_korean.pdf', 'start_index': 890, 'subject': 'Form 10-K filed on 2023-07-20 for the period ending 2023-05-31', 'title': '0000320187-23-000039', 'total_pages': 103}\n"
     ]
    }
   ],
   "source": [
    "# 'similarity_search_with_score' 메서드는 쿼리와 가장 유사한 문서를 반환합니다.\n",
    "# 반환값: (문서 객체, 유사도 점수) 쌍의 리스트\n",
    "results = vector_store.similarity_search_with_score(\"2023년 Nike의 매출은 얼마였나요?\")\n",
    "\n",
    "# 첫 번째 결과를 추출합니다.\n",
    "doc, score = results[0]\n",
    "\n",
    "# 유사도 점수 출력\n",
    "print(f\"Score: {score}\\n\")\n",
    "\n",
    "# 검색된 문서 내용 출력\n",
    "print(doc)"
   ]
  },
  {
   "cell_type": "markdown",
   "id": "b4991642-7275-40a9-b11a-e3beccbf2614",
   "metadata": {
    "id": "b4991642-7275-40a9-b11a-e3beccbf2614"
   },
   "source": [
    "----------\n",
    "내장된 쿼리와의 유사성을 기준으로 문서 반환:"
   ]
  },
  {
   "cell_type": "code",
   "execution_count": 13,
   "id": "db2289bc",
   "metadata": {},
   "outputs": [
    {
     "name": "stdout",
     "output_type": "stream",
     "text": [
      "page_content='포인트 감소했습니다. 매출은 주로 남성, 여성 및 Jordan 브랜드의 성장으로 인해 증가했습니다. NIKE Direct 의 매출은 23%의 디지털 매출 성장과 28%의 유사 매장 매출 \n",
      "성장에 힘입어 22% 증가했습니다. \n",
      "• 신발 매출은 통화 중립 기준으로 19% 증가했는데, 이는 주로 남성, 여성 및 요르단 브랜드의 매출 증가에 기인합니다. 신발 판매량은 16% 증가했으며, 신발 한 켤레당 \n",
      "ASP 가 높아지면서 신발 매출 성장에 약 3% 포인트 기여했습니다. 쌍당 ASP 가 높은 것은 주로 정가 ASP 가 높아지고 NIKE Direct 가 성장했기 때문이며, NIKE Direct \n",
      "ASP 가 낮아지면서 부분적으로 상쇄되었습니다. \n",
      "• 의류 매출은 통화 중립 기준으로 13% 증가했는데, 이는 주로 남성복 매출 증가에 기인합니다. 의류 판매량은 9% 증가했으며, 단위당 ASP 가 높아지면서 의류 매출 \n",
      "성장률이 약 4% 포인트 증가했습니다. 단위당 ASP 가 높은 것은 주로 정가 및 오프 가격 ASP 가 높았기 때문이며, NIKE Direct ASP가 낮아지면서 부분적으로 \n",
      "상쇄되었습니다. \n",
      "보고된 EBIT 는 매출 증가와 다음과 같은 이유로 2% 증가했습니다. \n",
      "• 약 190bp 의 매출총이익 감소는 주로 제품 비용 상승으로 인한 것으로, 제품 믹스 및 투입 비용 증가, 표준 외화 환율의 불리한 변화를 반영합니다. 이는 제품 믹스와 \n",
      "전략적 가격 책정 조치로 인해 더 높은 정가 ASP , 순 할인으로 부분적으로 상쇄되었습니다. \n",
      "• 판매 및 관리비는 운영 간접비 증가와 수요 창출 비용 증가로 인해 8% 증가했습니다. 영업간접비는 주로 임금 관련 비용 증가와 NIKE Direct 변동 비용 증가로 인해 \n",
      "증가했으며, 이는 환율의 우호적인 변동으로 일부 상쇄되었습니다. 수요 창출 비용은 주로 스포츠 마케팅 비용 증가와 광고 및 마케팅 비용 증가로 인해 증가했으며, 이는 \n",
      "환율의 우호적인 변화로 일부 상쇄되었습니다. \n",
      "2023 양식 10-K 40' metadata={'author': 'EDGAR Online, a division of Donnelley Financial Solutions', 'creationdate': '2024-12-26T10:17:40+09:00', 'creator': 'Microsoft® Word Microsoft 365용', 'keywords': '0000320187-23-000039; ; 10-K', 'moddate': '2024-12-26T10:17:40+09:00', 'page': 37, 'page_label': '38', 'producer': 'Microsoft® Word Microsoft 365용', 'source': './example_data/nke-10k-2023_korean.pdf', 'start_index': 817, 'subject': 'Form 10-K filed on 2023-07-20 for the period ending 2023-05-31', 'title': '0000320187-23-000039', 'total_pages': 103}\n"
     ]
    }
   ],
   "source": [
    "embedding = embeddings.embed_query(\"2023년 Nike의 마진은 어떻게 영향을 받았나요?\")\n",
    "\n",
    "results = vector_store.similarity_search_by_vector(embedding)\n",
    "print(results[0])"
   ]
  },
  {
   "cell_type": "markdown",
   "id": "168dbbec-ea97-4cc9-bb1a-75519c2d08af",
   "metadata": {
    "id": "168dbbec-ea97-4cc9-bb1a-75519c2d08af"
   },
   "source": [
    "## **검색기 (Retrievers)**  \n",
    "\n",
    "LangChain의 **`VectorStore` 객체**는 [**Runnable**](https://python.langchain.com/api_reference/core/index.html#langchain-core-runnables)의 서브클래스가 아닙니다. 반면, **[Retrievers](https://python.langchain.com/api_reference/core/index.html#langchain-core-retrievers)** 는 **Runnable**의 서브클래스입니다. 따라서 **동기(Synchronous)** 및 **비동기(Asynchronous)** `invoke`와 `batch` 작업과 같은 표준 메서드 집합을 구현합니다.  \n",
    "\n",
    "### **검색기 vs 벡터 스토어**  \n",
    "- **벡터 스토어(VectorStore)**: 벡터화된 데이터를 저장하고 쿼리합니다.  \n",
    "- **검색기(Retriever)**: 벡터 스토어를 활용하거나 외부 API와 같은 **비벡터 데이터 소스**와도 통신할 수 있습니다.  "
   ]
  },
  {
   "cell_type": "markdown",
   "id": "a36d3f64-a8bc-4baa-b2ea-07e324a0143e",
   "metadata": {
    "id": "a36d3f64-a8bc-4baa-b2ea-07e324a0143e"
   },
   "source": [
    "**벡터 스토어(Vectorstores)** 는 **`as_retriever`** 메서드를 구현하며, 이를 통해 **[VectorStoreRetriever](https://python.langchain.com/api_reference/core/vectorstores/langchain_core.vectorstores.base.VectorStoreRetriever.html)** 를 생성할 수 있습니다.  \n",
    "\n",
    "이 검색기(Retriever)는 특정 **`search_type`** 및 **`search_kwargs`** 속성을 포함하며, 이를 통해 **벡터 스토어의 어떤 메서드를 호출할지**, 그리고 **어떻게 매개변수를 설정할지**를 정의합니다.  \n",
    "\n",
    "| 항목                 | `similarity`                     | `mmr` (Maximum Marginal Relevance)      | `similarity_score_threshold`              |\n",
    "| ------------------ | -------------------------------- | --------------------------------------- | ----------------------------------------- |\n",
    "| 🔍 검색 기준           | 질의(query)와 가장 **유사한 벡터**를 단순히 선택 | 유사도 + **결과 간 다양성** 고려                   | 유사도 기준을 **임계값 이상**으로 제한                   |\n",
    "| 🎯 목적              | 가장 관련성 높은 문서 찾기                  | 중복 없이 **정보 다양성 확보**                     | 너무 유사하지 않은 문서 제거                          |\n",
    "| ⚙️ 주요 파라미터         | `k`: 반환할 문서 수                    | `k`: 개수<br>`lambda_mult`: 다양성 비율 (0\\~1) | `score_threshold`: 최소 유사도<br>`k`: 최대 문서 수 |\n",
    "| 📈 적합한 경우          | 단순 정보 검색                         | 요약, RAG 등에서 다양한 관점 필요할 때                | 정확도 높은 문서만 사용하고 싶을 때                      |\n",
    "| 🚫 주의점             | 중복된 내용이 나올 수 있음                  | 다양성 높이려다 **정확도 저하** 가능                  | `score_threshold` 너무 높으면 결과 없을 수도 있음      |\n",
    "\n",
    "\n",
    "예를 들어, 위의 예제를 다음과 같이 재현할 수 있습니다:  "
   ]
  },
  {
   "cell_type": "code",
   "execution_count": 14,
   "id": "1eaaa836",
   "metadata": {},
   "outputs": [
    {
     "data": {
      "text/plain": [
       "[[Document(metadata={'author': 'EDGAR Online, a division of Donnelley Financial Solutions', 'creationdate': '2024-12-26T10:17:40+09:00', 'creator': 'Microsoft® Word Microsoft 365용', 'keywords': '0000320187-23-000039; ; 10-K', 'moddate': '2024-12-26T10:17:40+09:00', 'page': 26, 'page_label': '27', 'producer': 'Microsoft® Word Microsoft 365용', 'source': './example_data/nke-10k-2023_korean.pdf', 'start_index': 890, 'subject': 'Form 10-K filed on 2023-07-20 for the period ending 2023-05-31', 'title': '0000320187-23-000039', 'total_pages': 103}, page_content='매장이 지난 1 년 동안 영구적으로 재배치되지 않았다는 세 가지 요건이 모두 충족된 NIKE 소유의 인라인 및 공장 매장의 매출로 구성됩니다. 비교 가능한 매장 매출에는 \\nCOVID-19 로 인해 해당 기간 동안 일시적으로 폐쇄된 매장의 매출이 포함됩니다. 비교 가능한 매장 매출은 경영진과 투자자가 기존 NIKE 소유의 인라인 및 공장 매장의 \\n실적을 이해하는 데 유용한 정보라고 생각하는 성과 지표를 나타냅니다. 경영진은 재무 및 운영 결정을 내릴 때 이 지표를 고려합니다. 비교 가능한 매장 매출을 계산하는 \\n방법은 소매 업종에 따라 다릅니다. 따라서 이 지표에 대한 당사의 계산은 다른 회사에서 사용하는 유사한 제목의 지표와 비교할 수 없을 수 있습니다. \\n2023 양식 10-K 30 \\n \\n운영 결과 \\n(백만 달러 단위, 주당 데이터 제외) 2023 회계연도 2022 회계연도 변동률(%) 2021 회계연도 변동률(%) \\n수익 $ 51,217  $ 46,710  10 % $ 44,538  5 % \\n매출 원가  28,925   25,231  15 % 24,576  3 % \\n매출 총이익  22,292   21,479  4 % 19,962  8 % \\n총수익  43.5 %  46.0 %  44.8 %  \\n수요 창출 비용  4,060   3,850  5 % 3,114  24 % \\n영업간접비  12,317   10,954  12 % 9,911  11 % \\n총 판매 및 관리 비용  16,377   14,804  11 % 13,025  14 % \\n매출 대비 %  32.0 %  31.7 %  29.2 %')],\n",
       " [Document(metadata={'author': 'EDGAR Online, a division of Donnelley Financial Solutions', 'creationdate': '2024-12-26T10:17:40+09:00', 'creator': 'Microsoft® Word Microsoft 365용', 'keywords': '0000320187-23-000039; ; 10-K', 'moddate': '2024-12-26T10:17:40+09:00', 'page': 37, 'page_label': '38', 'producer': 'Microsoft® Word Microsoft 365용', 'source': './example_data/nke-10k-2023_korean.pdf', 'start_index': 817, 'subject': 'Form 10-K filed on 2023-07-20 for the period ending 2023-05-31', 'title': '0000320187-23-000039', 'total_pages': 103}, page_content='포인트 감소했습니다. 매출은 주로 남성, 여성 및 Jordan 브랜드의 성장으로 인해 증가했습니다. NIKE Direct 의 매출은 23%의 디지털 매출 성장과 28%의 유사 매장 매출 \\n성장에 힘입어 22% 증가했습니다. \\n• 신발 매출은 통화 중립 기준으로 19% 증가했는데, 이는 주로 남성, 여성 및 요르단 브랜드의 매출 증가에 기인합니다. 신발 판매량은 16% 증가했으며, 신발 한 켤레당 \\nASP 가 높아지면서 신발 매출 성장에 약 3% 포인트 기여했습니다. 쌍당 ASP 가 높은 것은 주로 정가 ASP 가 높아지고 NIKE Direct 가 성장했기 때문이며, NIKE Direct \\nASP 가 낮아지면서 부분적으로 상쇄되었습니다. \\n• 의류 매출은 통화 중립 기준으로 13% 증가했는데, 이는 주로 남성복 매출 증가에 기인합니다. 의류 판매량은 9% 증가했으며, 단위당 ASP 가 높아지면서 의류 매출 \\n성장률이 약 4% 포인트 증가했습니다. 단위당 ASP 가 높은 것은 주로 정가 및 오프 가격 ASP 가 높았기 때문이며, NIKE Direct ASP가 낮아지면서 부분적으로 \\n상쇄되었습니다. \\n보고된 EBIT 는 매출 증가와 다음과 같은 이유로 2% 증가했습니다. \\n• 약 190bp 의 매출총이익 감소는 주로 제품 비용 상승으로 인한 것으로, 제품 믹스 및 투입 비용 증가, 표준 외화 환율의 불리한 변화를 반영합니다. 이는 제품 믹스와 \\n전략적 가격 책정 조치로 인해 더 높은 정가 ASP , 순 할인으로 부분적으로 상쇄되었습니다. \\n• 판매 및 관리비는 운영 간접비 증가와 수요 창출 비용 증가로 인해 8% 증가했습니다. 영업간접비는 주로 임금 관련 비용 증가와 NIKE Direct 변동 비용 증가로 인해 \\n증가했으며, 이는 환율의 우호적인 변동으로 일부 상쇄되었습니다. 수요 창출 비용은 주로 스포츠 마케팅 비용 증가와 광고 및 마케팅 비용 증가로 인해 증가했으며, 이는 \\n환율의 우호적인 변화로 일부 상쇄되었습니다. \\n2023 양식 10-K 40')]]"
      ]
     },
     "execution_count": 14,
     "metadata": {},
     "output_type": "execute_result"
    }
   ],
   "source": [
    "# `as_retriever` 메서드를 사용하여 벡터 스토어를 검색기 객체로 변환합니다.\n",
    "retriever = vector_store.as_retriever(\n",
    "    search_type=\"similarity\",  # 검색 유형을 'similarity'(유사도)로 설정\n",
    "    search_kwargs={\"k\": 1},  # 상위 1개의 유사한 결과만 반환하도록 설정\n",
    ")\n",
    "\n",
    "# MMR 방식 (Maximum Marginal Relevance) - 검색 결과 다양성을 증가\n",
    "retriever_mmr = vector_store.as_retriever(\n",
    "    search_type=\"mmr\",\n",
    "    search_kwargs={\"k\": 1, \"lambda_mult\": 0.5}  # lambda_mult 조절 가능 (0~1 사이 값)\n",
    ")\n",
    "\n",
    "# Similarity Score Threshold 방식 - 일정 유사도 이상인 문서만 반환\n",
    "retriever_threshold = vector_store.as_retriever(\n",
    "    search_type=\"similarity_score_threshold\",\n",
    "    search_kwargs={\"score_threshold\": 0.8, \"k\": 1}  # 0.8 이상의 유사도 점수를 가진 문서만 반환\n",
    ")\n",
    "\n",
    "# 여러 개의 쿼리를 동시에 실행하여 검색 결과를 반환합니다.\n",
    "retriever.batch(\n",
    "    [\n",
    "        \"2023년 Nike의 매출은 얼마였나요?\",  # 첫 번째 쿼리: 2023년 Nike의 매출 정보\n",
    "        \"2023년 Nike의 마진은 어떻게 영향을 받았나요?\",  # 두 번째 쿼리: 2023년 Nike의 마진 영향\n",
    "    ],\n",
    ")"
   ]
  },
  {
   "cell_type": "markdown",
   "id": "792c31c8-ac52-457a-bbd1-0ed1fd19e528",
   "metadata": {},
   "source": [
    "\n",
    "---\n",
    "\n",
    "## ✅ 복습 문제: 시맨틱 검색기 구축 개념 점검\n",
    "\n",
    "### 문제\n",
    "\n",
    "### 1. 문서를 `Document` 객체로 로드하고 텍스트를 잘게 나누는 이유는 무엇인가요?\n",
    "```\n",
    "A. PDF 파일을 삭제하기 위해  \n",
    "B. LLM이 한 번에 처리할 수 있는 토큰 길이를 줄이기 위해  \n",
    "C. 검색 속도를 늦추기 위해  \n",
    "D. 페이지 수를 늘리기 위해  \n",
    "```\n",
    "### 2. 다음 중 `MMR (Maximum Marginal Relevance)` 검색 방식의 가장 큰 특징은 무엇인가요?\n",
    "```\n",
    "A. 가장 높은 점수의 문서만 반환\n",
    "B. 결과 간 중복을 최소화하면서 다양성 확보\n",
    "C. 유사도 점수가 낮은 문서를 우선 반환\n",
    "D. 결과 수를 무작위로 선택\n",
    "```\n",
    "### 3. 아래와 같이 검색기를 설정할 때, 반환되는 문서의 조건은 무엇인가요?\n",
    "\n",
    "```python\n",
    "retriever = vector_store.as_retriever(\n",
    "    search_type=\"similarity_score_threshold\",\n",
    "    search_kwargs={\"score_threshold\": 0.85, \"k\": 5}\n",
    ")\n",
    "```\n",
    "```\n",
    "A. 유사도가 0.85 미만인 문서만 반환\n",
    "B. 유사도가 0.85 이상이고, 최대 5개까지의 문서만 반환\n",
    "C. 항상 5개의 문서를 반환함\n",
    "D. 가장 오래된 문서 5개를 반환함\n",
    "```\n",
    "---\n",
    "\n",
    "### 4. `RecursiveCharacterTextSplitter`는 왜 사용할까요?\n",
    "```\n",
    "A. 문서를 그림 파일로 변환하기 위해\n",
    "B. PDF 파일을 삭제하기 위해\n",
    "C. 텍스트를 중복 없이 분할하기 위해\n",
    "D. 문맥이 잘리더라도 문장의 의미를 최대한 보존하며 분할하기 위해\n",
    "```\n",
    "---"
   ]
  },
  {
   "cell_type": "code",
   "execution_count": null,
   "id": "0218a7d1-44ff-42e2-aa78-fb1335cf5eb6",
   "metadata": {},
   "outputs": [],
   "source": []
  }
 ],
 "metadata": {
  "colab": {
   "provenance": []
  },
  "kernelspec": {
   "display_name": "Python 3 (ipykernel)",
   "language": "python",
   "name": "python3"
  },
  "language_info": {
   "codemirror_mode": {
    "name": "ipython",
    "version": 3
   },
   "file_extension": ".py",
   "mimetype": "text/x-python",
   "name": "python",
   "nbconvert_exporter": "python",
   "pygments_lexer": "ipython3",
   "version": "3.9.23"
  }
 },
 "nbformat": 4,
 "nbformat_minor": 5
}

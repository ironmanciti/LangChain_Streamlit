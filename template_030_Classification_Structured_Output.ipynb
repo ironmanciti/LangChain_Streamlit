{
 "cells": [
  {
   "cell_type": "markdown",
   "id": "oN_ewigHqpO0",
   "metadata": {
    "id": "oN_ewigHqpO0"
   },
   "source": [
    "# 분류와 구조화된 출력\n",
    "## 텍스트를 라벨로 분류하기\n",
    "\n",
    "- LangChain과 Pydantic을 활용하여 텍스트 분류(Classification) 태스크를 수행\n",
    "\n",
    "**태깅(Tagging)** 이란 문서에 다음과 같은 클라스를 지정하는 것을 의미합니다.\n",
    "\n",
    "- 감정 (sentiment)\n",
    "- 언어\n",
    "- 스타일(공식적, 비공식적 등)\n",
    "- 다루는 주제\n",
    "- 정치적 경향\n",
    "\n",
    "![이미지 설명](https://github.com/langchain-ai/langchain/blob/master/docs/static/img/tagging.png?raw=1)\n",
    "\n",
    "---\n",
    "\n",
    "## **개요 (Overview)**  \n",
    "\n",
    "**태깅(Tagging)** 은 몇 가지 주요 구성 요소로 이루어집니다:  \n",
    "\n",
    "- **`function`**: 추출(Extraction)과 마찬가지로, 태깅은 함수(Functions)를 사용하여 모델이 문서를 어떻게 태깅해야 하는지 명시합니다.  \n",
    "- **`schema`**: 문서를 어떻게 태깅할지 정의합니다 --> Pydantic 데이터 모델을 이용하여 정의"
   ]
  },
  {
   "cell_type": "code",
   "execution_count": null,
   "id": "0341bfd8",
   "metadata": {},
   "outputs": [],
   "source": []
  },
  {
   "cell_type": "code",
   "execution_count": null,
   "id": "2c1a20b0",
   "metadata": {},
   "outputs": [],
   "source": [
    "# LangSmith 추적 설정 활성화"
   ]
  },
  {
   "cell_type": "code",
   "execution_count": null,
   "id": "b8f916b0",
   "metadata": {},
   "outputs": [],
   "source": []
  },
  {
   "cell_type": "markdown",
   "id": "32550f51-f70f-45c2-855d-025e2112206b",
   "metadata": {},
   "source": [
    "## Pydantic 이란? \n",
    "- Pydantic은 Python 데이터 검증 및 설정 관리를 위한 라이브러리\n",
    "- Pydantic의 핵심 기능\n",
    "    - 타입 검증 (Type Validation)\n",
    "    - 데이터가 지정된 형식(int, str 등)과 일치하는지 자동 확인\n",
    "    - 기본값 설정 (Default Values)"
   ]
  },
  {
   "cell_type": "code",
   "execution_count": null,
   "id": "dfca8acd",
   "metadata": {},
   "outputs": [],
   "source": [
    "class User(BaseModel):\n",
    "# 올바른 데이터"
   ]
  },
  {
   "cell_type": "code",
   "execution_count": null,
   "id": "77f09406",
   "metadata": {},
   "outputs": [],
   "source": [
    "# !pip install pydantic[email]"
   ]
  },
  {
   "cell_type": "code",
   "execution_count": null,
   "id": "0485d43e",
   "metadata": {},
   "outputs": [],
   "source": [
    "class User(BaseModel):"
   ]
  },
  {
   "cell_type": "code",
   "execution_count": null,
   "id": "db474751",
   "metadata": {},
   "outputs": [],
   "source": [
    "class Classification_3(BaseModel):\n",
    "# 올바른 데이터 (1~10 범위 내)\n",
    "# 잘못된 데이터 (10 초과)"
   ]
  },
  {
   "cell_type": "code",
   "execution_count": null,
   "id": "f43be063",
   "metadata": {},
   "outputs": [],
   "source": [
    "class Classification_2(BaseModel):\n",
    "# 올바른 데이터 입력\n",
    "# ❌ 필수 필드 누락 (오류 발생)"
   ]
  },
  {
   "cell_type": "markdown",
   "id": "b8ca3f93",
   "metadata": {
    "id": "b8ca3f93"
   },
   "source": [
    "## Schema 정의와 도구 호출 **  \n",
    "\n",
    "LangChain에서 OpenAI의 **도구 호출(Tool Calling)** 기능을 사용하여 태깅을 수행하는 간단한 예제를 살펴보겠습니다.  \n",
    "\n",
    "- OpenAI 모델에서 지원하는 `with_structured_output` 메서드를 사용할 것입니다.  \n",
    "\n",
    "스키마에 몇 가지 속성과 예상 유형을 추가하여 Pydantic 모델을 지정해 보겠습니다."
   ]
  },
  {
   "cell_type": "code",
   "execution_count": null,
   "id": "977baca0",
   "metadata": {},
   "outputs": [],
   "source": [
    "# 프롬프트 템플릿 정의\n",
    "# 주어진 텍스트에서 필요한 정보를 추출하도록 지침 제공\n",
    "# Pydantic 데이터 모델을 이용하여 텍스트에서 추출할 속성 정의\n",
    "# 감정의 종류와 값의 범위를 자율 지정\n",
    "class Classification(BaseModel):\n",
    "# OpenAI GPT-4o-mini 모델을 사용하여 Structured Output(구조화된 출력) 생성"
   ]
  },
  {
   "cell_type": "code",
   "execution_count": null,
   "id": "715f3b85",
   "metadata": {},
   "outputs": [],
   "source": []
  },
  {
   "cell_type": "markdown",
   "id": "ff3cf30d",
   "metadata": {
    "id": "ff3cf30d"
   },
   "source": [
    "dictionary 출력을 원하면 `.model_dump()`를 호출하면 됩니다."
   ]
  },
  {
   "cell_type": "code",
   "execution_count": null,
   "id": "d2d8c70d",
   "metadata": {},
   "outputs": [],
   "source": []
  },
  {
   "cell_type": "markdown",
   "id": "d921bb53",
   "metadata": {
    "id": "d921bb53"
   },
   "source": [
    "예제에서 볼 수 있듯이, 모델은 우리가 원하는 바를 정확하게 해석합니다.  \n",
    "\n",
    "다음 섹션에서는 이러한 결과를 어떻게 제어할 수 있는지 살펴보겠습니다."
   ]
  },
  {
   "cell_type": "markdown",
   "id": "bebb2f83",
   "metadata": {
    "id": "bebb2f83"
   },
   "source": [
    "## **더 세밀한 출력 제어**\n",
    "\n",
    "**스키마(schema)** 를 더 자세히 정의하면 모델의 출력을 더 세밀하게 제어할 수 있습니다.  \n",
    "\n",
    "구체적으로 다음을 정의할 수 있습니다:  \n",
    "\n",
    "- **각 속성의 가능한 값**  \n",
    "- **속성을 모델이 정확하게 이해할 수 있도록 설명 추가**  \n",
    "- **반드시 반환해야 할 필수 속성**  "
   ]
  },
  {
   "cell_type": "markdown",
   "id": "69ef0b9a",
   "metadata": {
    "id": "69ef0b9a"
   },
   "source": [
    "이전에 언급한 각 요소를 제어하기 위해 **Enums**를 사용하여 우리의 **Pydantic 모델**을 다시 선언해봅시다.\n",
    "\n"
   ]
  },
  {
   "cell_type": "code",
   "execution_count": null,
   "id": "8a32326b",
   "metadata": {},
   "outputs": [],
   "source": [
    "# 필수 요소로 지정하고 감정의 종류와 값의 범위 지정\n",
    "class Classification_2(BaseModel):\n",
    "# OpenAI GPT-4o-mini 모델을 사용하여 Structured Output(구조화된 출력) 생성"
   ]
  },
  {
   "cell_type": "markdown",
   "id": "5ded2332",
   "metadata": {
    "id": "5ded2332"
   },
   "source": [
    "이제 답변은 우리가 예상하는 방식으로 제한될 것입니다!"
   ]
  },
  {
   "cell_type": "code",
   "execution_count": null,
   "id": "0ccd19e5",
   "metadata": {},
   "outputs": [],
   "source": []
  },
  {
   "cell_type": "code",
   "execution_count": null,
   "id": "9b7bf8f6",
   "metadata": {},
   "outputs": [],
   "source": []
  },
  {
   "cell_type": "code",
   "execution_count": null,
   "id": "7b526781",
   "metadata": {},
   "outputs": [],
   "source": []
  },
  {
   "cell_type": "code",
   "execution_count": null,
   "id": "5f500c1b",
   "metadata": {},
   "outputs": [],
   "source": []
  },
  {
   "cell_type": "code",
   "execution_count": null,
   "id": "bba188ab",
   "metadata": {},
   "outputs": [],
   "source": []
  }
 ],
 "metadata": {
  "colab": {
   "provenance": []
  },
  "kernelspec": {
   "display_name": "Python 3 (ipykernel)",
   "language": "python",
   "name": "python3"
  },
  "language_info": {
   "codemirror_mode": {
    "name": "ipython",
    "version": 3
   },
   "file_extension": ".py",
   "mimetype": "text/x-python",
   "name": "python",
   "nbconvert_exporter": "python",
   "pygments_lexer": "ipython3",
   "version": "3.9.21"
  }
 },
 "nbformat": 4,
 "nbformat_minor": 5
}

{
 "cells": [
  {
   "cell_type": "markdown",
   "id": "d51f4020-8cb4-4561-b6d2-98589737dda8",
   "metadata": {},
   "source": [
    "# LangGraph를 사용한 고객 지원 챗봇을 구축\n",
    "\n",
    "- 웹 검색을 통해 일반적인 질문에 답변 \n",
    "- 대화 상태를 유지하여 연속적인 대화  \n",
    "- 복잡한 질문을 사람이 검토하도록 라우팅  \n",
    "- 사용자 지정 상태(Custom State)를 활용하여 챗봇의 동작 제어  \n",
    "- 대화 흐름을 되돌리고(Rewind), 다른 대화 경로 탐색 "
   ]
  },
  {
   "cell_type": "code",
   "execution_count": 1,
   "id": "a213aa99-6fe2-465e-a21b-b743cabfb74e",
   "metadata": {},
   "outputs": [
    {
     "data": {
      "text/plain": [
       "True"
      ]
     },
     "execution_count": 1,
     "metadata": {},
     "output_type": "execute_result"
    }
   ],
   "source": [
    "import os\n",
    "from dotenv import load_dotenv\n",
    "load_dotenv()"
   ]
  },
  {
   "cell_type": "code",
   "execution_count": 2,
   "id": "cb0aec0a-9a1e-45a3-bf66-d89895d172f8",
   "metadata": {},
   "outputs": [],
   "source": [
    "# LangSmith 추적 설정 활성화\n",
    "os.environ[\"LANGSMITH_TRACING\"] = \"true\""
   ]
  },
  {
   "cell_type": "code",
   "execution_count": 3,
   "id": "fec86f20-d4b0-4cfa-99a9-0c5a281f40f5",
   "metadata": {},
   "outputs": [],
   "source": [
    "from langchain_openai import ChatOpenAI\n",
    "\n",
    "model = ChatOpenAI(model=\"gpt-4.1-nano\")"
   ]
  },
  {
   "cell_type": "markdown",
   "id": "8df89407-dce9-4ce5-bca0-4e3b04cd17cd",
   "metadata": {},
   "source": [
    "먼저 모델을 직접 사용해 봅니다. `ChatModel`은 LangChain의 **\"Runnable\"** 인스턴스이며, 이는 표준화된 인터페이스를 통해 상호작용할 수 있음을 의미합니다.  \n",
    "\n",
    "모델을 간단하게 호출하려면 `.invoke` 메서드에 **메시지 목록**을 전달하면 됩니다."
   ]
  },
  {
   "cell_type": "markdown",
   "id": "6448ed23-0ce7-4431-a4a2-793a0916d3de",
   "metadata": {},
   "source": [
    "## 도구를 활용한 챗봇 강화**   \n",
    "이제 챗봇이 **웹에서 관련 정보를 찾아 더 나은 답변을 제공할 수 있도록 개선**합니다. \n",
    "\n",
    "---\n",
    "먼저 **Tavily 검색 엔진**을 사용하기 위해 필요한 패키지를 설치하고 **`TAVILY_API_KEY`** 를 설정 합니다.  "
   ]
  },
  {
   "cell_type": "code",
   "execution_count": 7,
   "id": "2d7a4b30-dbfe-4a97-930e-dd021949c6d5",
   "metadata": {},
   "outputs": [],
   "source": [
    "# %%capture --no-stderr\n",
    "# %pip install -U langchain-tavily"
   ]
  },
  {
   "cell_type": "code",
   "execution_count": 8,
   "id": "7653298e-26bc-4552-af74-ad5fd2e9d8b4",
   "metadata": {},
   "outputs": [
    {
     "name": "stdout",
     "output_type": "stream",
     "text": [
      "{'query': 'LangGraph에서 node가 뭐야?', 'follow_up_questions': None, 'answer': None, 'images': [], 'results': [{'url': 'https://dev-studyingblog.tistory.com/112', 'title': 'LangGraph란? - Dev studying blog - 티스토리', 'content': '노드(Node). LangGraph에서 노드는 개별 작업을 수행하는 단위이다. 예를 들어 프롬프트 처리 노드, AI 모델 실행 노드, 응답 요약 노드 등을 만들 수', 'score': 0.9202254, 'raw_content': None}, {'url': 'https://wikidocs.net/261580', 'title': '1-3-3. 노드 (Node) - LangGraph 가이드북 - 위키독스', 'content': '노드의 개념. 노드는 LangGraph에서 실제 작업을 수행하는 단위입니다. 각 노드는 특정 기능을 수행하는 Python 함수로 구현됩니다.', 'score': 0.9057319, 'raw_content': None}], 'response_time': 1.32}\n"
     ]
    }
   ],
   "source": [
    "# Tavily 검색 툴을 임포트\n",
    "# Tavily는 웹 검색을 통해 정보를 가져오는 도구로, LangChain에서 도구(tool)로 활용 가능\n",
    "from langchain_tavily import TavilySearch\n",
    "\n",
    "# TavilySearch 툴 인스턴스를 생성 (최대 결과 2개로 제한)\n",
    "tool = TavilySearch(max_results=2)\n",
    "\n",
    "# 사용할 툴들을 리스트로 구성 (여러 개의 도구가 필요한 경우를 대비해 리스트 형태로 작성)\n",
    "tools = [tool]\n",
    "\n",
    "# Tavily 검색 도구를 직접 호출하여 \"LangGraph에서 node가 뭐야?\"라는 질문에 대한 웹 검색 결과를 가져옴\n",
    "result = tool.invoke(\"LangGraph에서 node가 뭐야?\")\n",
    "print(result)"
   ]
  },
  {
   "cell_type": "code",
   "execution_count": 10,
   "id": "53ea529c-b7e9-40fa-b4c5-148435c2bb66",
   "metadata": {},
   "outputs": [],
   "source": [
    "# pip install -U \"langchain[openai]\""
   ]
  },
  {
   "cell_type": "markdown",
   "id": "b20a6e98-1fee-4815-8a0e-b61870abe3d0",
   "metadata": {},
   "source": [
    "### 에이전트 생성하기\n",
    "이제 도구들과 LLM(언어 모델)을 정의했으니, 에이전트를 생성할 수 있습니다. 우리는 **LangGraph**를 사용하여 에이전트를 구성할 것입니다. 현재는 **상위 수준의 인터페이스**를 사용하여 에이전트를 만들고 있지만, LangGraph의 장점은 이 상위 수준 인터페이스가 **하위 수준의 고도로 제어 가능한 API**로 지원된다는 점입니다. 따라서 나중에 에이전트 로직을 자유롭게 수정할 수 있습니다.\n",
    "\n",
    "에이전트는 세 가지 구성 요소로 이루어져 있습니다:\n",
    "**대규모 언어 모델(LLM)**, 사용할 수 있는 **도구들의 집합**, 그리고 **지시사항을 담은 프롬프트**입니다.\n",
    "\n",
    "LLM은 루프 방식으로 작동합니다. 각 반복(iteration)마다 다음과 같은 과정을 수행합니다:\n",
    "\n",
    "1. 사용할 도구를 선택하고,\n",
    "2. 그 도구에 입력을 제공하며,\n",
    "3. 결과(관찰값, observation)를 받아오고,\n",
    "4. 그 관찰값을 바탕으로 다음 행동을 결정합니다.\n",
    "\n",
    "이 루프는 **중지 조건**이 충족될 때까지 계속되며, 일반적으로는 **사용자에게 응답하기에 충분한 정보를 수집했을 때** 종료됩니다."
   ]
  },
  {
   "cell_type": "code",
   "execution_count": 11,
   "id": "18075f1c-f8f3-4b1d-838f-201f848109e5",
   "metadata": {},
   "outputs": [],
   "source": [
    "# Import relevant functionality\n",
    "from langgraph.checkpoint.memory import MemorySaver\n",
    "from langgraph.prebuilt import create_react_agent\n",
    "\n",
    "# Create the agent\n",
    "memory = MemorySaver()\n",
    "search = TavilySearch(max_results=2)\n",
    "tools = [search]\n",
    "agent_executor = create_react_agent(model, tools, checkpointer=memory)"
   ]
  },
  {
   "cell_type": "code",
   "execution_count": 12,
   "id": "8f22d647-3fff-463c-944a-bda95b837938",
   "metadata": {},
   "outputs": [
    {
     "name": "stdout",
     "output_type": "stream",
     "text": [
      "================================\u001b[1m Human Message \u001b[0m=================================\n",
      "\n",
      "안녕, 난 길동이야. 지금 서울의 날씨가 어때?\n",
      "==================================\u001b[1m Ai Message \u001b[0m==================================\n",
      "Tool Calls:\n",
      "  tavily_search (call_l690IFvcmD7kioTSUrgmcXpo)\n",
      " Call ID: call_l690IFvcmD7kioTSUrgmcXpo\n",
      "  Args:\n",
      "    query: 서울 날씨\n",
      "    search_depth: advanced\n",
      "=================================\u001b[1m Tool Message \u001b[0m=================================\n",
      "Name: tavily_search\n",
      "\n",
      "{\"query\": \"서울 날씨\", \"follow_up_questions\": null, \"answer\": null, \"images\": [], \"results\": [{\"url\": \"https://www.accuweather.com/ko/kr/seoul/226081/weather-forecast/226081\", \"title\": \"서울특별시, 서울시, 대한민국 3일 날씨 예보 - AccuWeather\", \"content\": \"오늘 5\\\\. 12. Image 28 77° 55° 흐릿함 Image 29약간 흐림 0%화 5\\\\. 13. Image 30 79° 55° 대체로 흐림 Image 31맑음 3%수 5\\\\. 14. Image 32 80° 60° 흐릿함 Image 33대체로 흐림; 밤 늦게 때때로 강한 뇌우가 내림 1%목 5\\\\. 15. Image 34 70° 59° 오전에 거센 소나기; 대체로 흐림 Image 35대체로 흐림 81%금 5\\\\. 16. Image 36 78° 61° 흐리고 때때로 소나기가 내림 Image 37대체로 흐림 55%토 5\\\\. 17. Image 38 79° 61° 대체로 흐림 Image 39흐리고 소나기나 뇌우가 내림 25%일 5\\\\. 18. Image 40 80° 68° 흐리고 때때로 비와 뇌우가 내림 Image 41저녁 중 일부 지역에 뇌우; 대체로 흐림 59%월 5\\\\. 19. Image 42 85° 65° 대체로 흐림, 따뜻하고 습함 Image 43습하고 비가 내림 25%화 5\\\\. [...] 오전 11시 Image 4 69° Image 5: rain drop 0%오후 12시 Image 6 72° Image 7: rain drop 0%오후 1시 Image 8 75° Image 9: rain drop 0%오후 2시 Image 10 76° Image 11: rain drop 0%오후 3시 Image 12 76° Image 13: rain drop 0%오후 4시 Image 14 77° Image 15: rain drop 0%오후 5시 Image 16 75° Image 17: rain drop 0%오후 6시 Image 18 73° Image 19: rain drop 0%오후 7시 Image 20 71° Image 21: rain drop 0%오후 8시 Image 22 68° Image 23: rain drop 0%오후 9시 Image 24 65° Image 25: rain drop 0%오후 10시 Image 26 63° Image 27: rain drop 0% [...] 20. Image 44 77° 54° 약간 흐림 Image 45맑음 3%수 5\\\\. 21. Image 46 75° 57° 오전에 비와 뇌우가 내림; 흐림 Image 47흐리고 가벼운 비가 내림 82%\", \"score\": 0.73891455, \"raw_content\": null}, {\"url\": \"https://www.accuweather.com/ko/kr/seoul/226081/hourly-weather-forecast/226081\", \"title\": \"서울특별시, 서울시, 대한민국 시간별 날씨 - AccuWeather\", \"content\": \"서울특별시, 서울시, 대한민국 시간별 날씨 | AccuWeather\\n\\n===============\\n\\n돌아가기\\n\\n\\n\\n구름량 1%\\n\\n가시거리 10mi\\n\\n운저 33300ft\\n\\n오후 10시\\n------\\n\\n62°\\n\\n RealFeel® 62° \\n\\n선선함\\n\\nImage 2: rain drop 0% \\n\\n대체로 맑음\\n\\n바람 남서 4mi/h\\n\\n대기질 나쁨\\n\\n돌풍 7mi/h\\n\\n습도 71%\\n\\n이슬점 52° F\\n\\nAccuLumen Brightness Index™0 (어둡게)\\n\\n구름량 26%\\n\\n가시거리 10mi\\n\\n운저 30000ft\\n\\n오후 11시\\n------\\n\\n59°\\n\\n RealFeel® 60° \\n\\n선선함\\n\\nImage 3: rain drop 0% \\n\\n간헐적으로 흐림\\n\\n바람 남서 2mi/h\\n\\n대기질 나쁨\\n\\n돌풍 7mi/h\\n\\n습도 77%\\n\\n이슬점 52° F\\n\\nAccuLumen Brightness Index™0 (어둡게)\\n\\n구름량 52%\\n\\n가시거리 10mi\\n\\n운저 30000ft\\n\\n전망\\n--\", \"score\": 0.6773251, \"raw_content\": null}], \"response_time\": 1.48}\n",
      "==================================\u001b[1m Ai Message \u001b[0m==================================\n",
      "\n",
      "현재 서울의 날씨를 살펴본 결과, 대체로 맑거나 약간 흐린 상태입니다. 오늘 기온은 약 77도 정도로 다소 더울 수 있으며, 밤에는 54도까지 내려갈 것으로 보입니다. 오늘은 대기질이 나쁨 상태이며, 바람은 남서쪽에서 약 4마일/h로 불고 있습니다. 현재 강수는 없으며, 시간대별로는 낮 동안 큰 비는 내리지 않을 것으로 예상됩니다.\n"
     ]
    }
   ],
   "source": [
    "# Use the agent\n",
    "config = {\"configurable\": {\"thread_id\": \"abc123\"}}\n",
    "\n",
    "input_message = {\n",
    "    \"role\": \"user\",\n",
    "    \"content\": \"안녕, 난 길동이야. 지금 서울의 날씨가 어때?\",\n",
    "}\n",
    "for step in agent_executor.stream(\n",
    "    {\"messages\": [input_message]}, config, stream_mode=\"values\"\n",
    "):\n",
    "    step[\"messages\"][-1].pretty_print()"
   ]
  },
  {
   "cell_type": "code",
   "execution_count": 13,
   "id": "eb5e580e-25d9-4842-96ae-9a5622cce56b",
   "metadata": {},
   "outputs": [
    {
     "name": "stdout",
     "output_type": "stream",
     "text": [
      "================================\u001b[1m Human Message \u001b[0m=================================\n",
      "\n",
      "안녕, 난 길동이야.\n",
      "==================================\u001b[1m Ai Message \u001b[0m==================================\n",
      "\n",
      "안녕, 길동님! 어떻게 도와드릴까요?\n"
     ]
    }
   ],
   "source": [
    "from langgraph.checkpoint.memory import MemorySaver\n",
    "\n",
    "# 대화 상태를 메모리에 저장할 수 있는 체크포인터 생성\n",
    "memory = MemorySaver()\n",
    "\n",
    "# ReAct 기반 에이전트 실행기 생성 (모델, 도구, 체크포인터를 연결)\n",
    "agent_executor = create_react_agent(model, tools, checkpointer=memory)\n",
    "\n",
    "# 사용자별 스레드 ID 등을 설정할 수 있는 구성(config)\n",
    "config = {\"configurable\": {\"thread_id\": \"abc123\"}} \n",
    "\n",
    "# 사용자 입력 메시지 정의\n",
    "input_message = {\n",
    "    \"role\": \"user\",           \n",
    "    \"content\": \"안녕, 난 길동이야.\"  \n",
    "}\n",
    "\n",
    "# 에이전트를 스트리밍 방식으로 실행하고, 응답을 단계별로 출력\n",
    "for step in agent_executor.stream(\n",
    "    {\"messages\": [input_message]},  # 초기 메시지 목록\n",
    "    config,                         # 구성 정보 (스레드 ID 등)\n",
    "    stream_mode=\"values\"           # 스트리밍 방식: 값(value)들만 출력\n",
    "):\n",
    "    # 각 단계별 응답 메시지 중 마지막 메시지를 보기 좋게 출력\n",
    "    step[\"messages\"][-1].pretty_print()"
   ]
  },
  {
   "cell_type": "markdown",
   "id": "3edffd5e-55d2-4fad-a54f-d56fac424b4d",
   "metadata": {},
   "source": [
    "### 무한 loop 로 Chatbot 구현"
   ]
  },
  {
   "cell_type": "code",
   "execution_count": 14,
   "id": "d0a803cf-b3bc-41e0-a20a-6cf53c0ec29d",
   "metadata": {},
   "outputs": [
    {
     "name": "stdin",
     "output_type": "stream",
     "text": [
      "User:  안녕 난 길동이야\n"
     ]
    },
    {
     "name": "stdout",
     "output_type": "stream",
     "text": [
      "================================\u001b[1m Human Message \u001b[0m=================================\n",
      "\n",
      "안녕 난 길동이야\n",
      "==================================\u001b[1m Ai Message \u001b[0m==================================\n",
      "\n",
      "안녕 길동이! 오늘 어떠한 일로 도와줄까?\n"
     ]
    },
    {
     "name": "stdin",
     "output_type": "stream",
     "text": [
      "User:  지금 서울의 날씨가 어때?\n"
     ]
    },
    {
     "name": "stdout",
     "output_type": "stream",
     "text": [
      "================================\u001b[1m Human Message \u001b[0m=================================\n",
      "\n",
      "지금 서울의 날씨가 어때?\n",
      "==================================\u001b[1m Ai Message \u001b[0m==================================\n",
      "Tool Calls:\n",
      "  tavily_search (call_Ena3L4AeHD7aST1Te4bT8BUF)\n",
      " Call ID: call_Ena3L4AeHD7aST1Te4bT8BUF\n",
      "  Args:\n",
      "    query: 서울 날씨\n",
      "=================================\u001b[1m Tool Message \u001b[0m=================================\n",
      "Name: tavily_search\n",
      "\n",
      "{\"query\": \"서울 날씨\", \"follow_up_questions\": null, \"answer\": null, \"images\": [], \"results\": [{\"url\": \"https://www.accuweather.com/ko/kr/seoul/226081/weather-forecast/226081\", \"title\": \"서울특별시, 서울시, 대한민국 3일 날씨 예보 - AccuWeather\", \"content\": \"Refresh Page 구름 많음 기온 시간별 예보 오전 11시 69° 0%오후 12시 72° 0%오후 1시 75° 0%오후 2시 76° 0%오후 3시 76° 0%오후 4시 77° 0%오후 5시 75° 0%오후 6시 73° 0%오후 7시 71° 0%오후 8시 68° 0%오후 9시 65° 0%오후 10시 63° 0% 일별 예보 오늘 5. 77° 55° 흐릿함 약간 흐림 0%화 5. 80° 60° 흐릿함 대체로 흐림; 밤 늦게 때때로 강한 뇌우가 내림 1%목 5. 70° 59° 오전에 거센 소나기; 대체로 흐림 대체로 흐림 81%금 5.\", \"score\": 0.70287734, \"raw_content\": null}, {\"url\": \"https://www.weather.go.kr/w/weather/forecast/short-term.do?stnId=109\", \"title\": \"단기예보 - 예보 - 날씨 - 기상청 날씨누리\", \"content\": \"# 기상청 날씨누리 별표를 누르면 관심지역으로 등록 또는 삭제할 수 있습니다 □ (종합) 오늘 아침까지 안개, 오늘 오후 서울.경기내륙 소나기, 돌풍.천둥.번개.우박 유의, 당분간 서해중부해상 바다 안개 ○ (오늘, 29일) 대체로 맑겠으나, 오후(12~18시)에 구름많고 서울.경기내륙 소나기, 서해5도 대체로 맑음 ○ (내일, 30일) 대체로 맑음○ (모레, 31일) 대체로 맑음, 서해5도 대체로 맑다가 오전부터 구름많음 ○ (글피, 6월 1일) 대체로 맑음   \\\\ 소나기에 의한 예상 강수량(29일 오후)- 서울.경기내륙: 5~20mm 담당관리 : 본청 문의 : 전국 국번없이 131(기상상담전화, 유료) 기상청 전국 국번없이 기상콜센터 131(유료) 기본화면: 현재날씨 및 시계열 정보가 포함된 첫화면   날씨 우선: 조회지점의 현재날씨 및 시계열 정보가 포함된 첫화면   전국 우선: 전국지역의 날씨를 간략하게 표출 3시간 간격: 시간별 예보를 3시간 간격으로 표출   1시간 간격: 시간별 예보를 1시간 간격으로 표출 익스플러러 설정 스크린샷\", \"score\": 0.5530473, \"raw_content\": null}], \"response_time\": 1.36}\n",
      "==================================\u001b[1m Ai Message \u001b[0m==================================\n",
      "\n",
      "현재 서울의 날씨는 흐림이며, 오늘은 약간 흐릴 것으로 보입니다. 오후에는 구름이 많아지고 소나기가 내릴 가능성도 있습니다. 기온은 약 77도(섭씨 25도) 정도입니다.\n"
     ]
    },
    {
     "name": "stdin",
     "output_type": "stream",
     "text": [
      "User:  quit\n"
     ]
    },
    {
     "name": "stdout",
     "output_type": "stream",
     "text": [
      "Goodbye!\n"
     ]
    }
   ],
   "source": [
    "from langchain_core.messages import AIMessage\n",
    "\n",
    "memory = MemorySaver()\n",
    "\n",
    "# 그래프를 메모리 체크포인트와 함께 컴파일합니다.\n",
    "agent_executor = create_react_agent(model, tools, checkpointer=memory)\n",
    "\n",
    "config = {\"configurable\": {\"thread_id\": \"abc345\"}}\n",
    "\n",
    "while True:\n",
    "    user_input = input(\"User: \")\n",
    "    if user_input.lower() in [\"quit\", \"exit\", \"q\"]:\n",
    "        print(\"Goodbye!\")\n",
    "        break\n",
    "\n",
    "    for step in agent_executor.stream({\"messages\": [user_input]}, config, stream_mode=\"values\"):\n",
    "        step[\"messages\"][-1].pretty_print()"
   ]
  },
  {
   "cell_type": "code",
   "execution_count": null,
   "id": "a65e3e50-b633-4c19-b529-27eedaa4c0fb",
   "metadata": {},
   "outputs": [],
   "source": []
  }
 ],
 "metadata": {
  "kernelspec": {
   "display_name": "Python 3 (ipykernel)",
   "language": "python",
   "name": "python3"
  },
  "language_info": {
   "codemirror_mode": {
    "name": "ipython",
    "version": 3
   },
   "file_extension": ".py",
   "mimetype": "text/x-python",
   "name": "python",
   "nbconvert_exporter": "python",
   "pygments_lexer": "ipython3",
   "version": "3.11.13"
  }
 },
 "nbformat": 4,
 "nbformat_minor": 5
}

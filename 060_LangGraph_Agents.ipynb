{
 "cells": [
  {
   "cell_type": "markdown",
   "id": "d51f4020-8cb4-4561-b6d2-98589737dda8",
   "metadata": {},
   "source": [
    "# LangGraph를 사용한 고객 지원 챗봇을 구축\n",
    "\n",
    "- 웹 검색을 통해 일반적인 질문에 답변 \n",
    "- 대화 상태를 유지하여 연속적인 대화  \n",
    "- 복잡한 질문을 사람이 검토하도록 라우팅  \n",
    "- 사용자 지정 상태(Custom State)를 활용하여 챗봇의 동작 제어  \n",
    "- 대화 흐름을 되돌리고(Rewind), 다른 대화 경로 탐색 "
   ]
  },
  {
   "cell_type": "code",
   "execution_count": 1,
   "id": "a213aa99-6fe2-465e-a21b-b743cabfb74e",
   "metadata": {},
   "outputs": [
    {
     "data": {
      "text/plain": [
       "True"
      ]
     },
     "execution_count": 1,
     "metadata": {},
     "output_type": "execute_result"
    }
   ],
   "source": [
    "import os\n",
    "from dotenv import load_dotenv\n",
    "load_dotenv()"
   ]
  },
  {
   "cell_type": "code",
   "execution_count": 2,
   "id": "cb0aec0a-9a1e-45a3-bf66-d89895d172f8",
   "metadata": {},
   "outputs": [],
   "source": [
    "# LangSmith 추적 설정 활성화\n",
    "os.environ[\"LANGSMITH_TRACING\"] = \"true\""
   ]
  },
  {
   "cell_type": "code",
   "execution_count": 3,
   "id": "fec86f20-d4b0-4cfa-99a9-0c5a281f40f5",
   "metadata": {},
   "outputs": [],
   "source": [
    "from langchain_openai import ChatOpenAI\n",
    "\n",
    "model = ChatOpenAI(model=\"gpt-4.1-nano\")"
   ]
  },
  {
   "cell_type": "markdown",
   "id": "8df89407-dce9-4ce5-bca0-4e3b04cd17cd",
   "metadata": {},
   "source": [
    "먼저 모델을 직접 사용해 봅니다. `ChatModel`은 LangChain의 **\"Runnable\"** 인스턴스이며, 이는 표준화된 인터페이스를 통해 상호작용할 수 있음을 의미합니다.  \n",
    "\n",
    "모델을 간단하게 호출하려면 `.invoke` 메서드에 **메시지 목록**을 전달하면 됩니다."
   ]
  },
  {
   "cell_type": "markdown",
   "id": "6448ed23-0ce7-4431-a4a2-793a0916d3de",
   "metadata": {},
   "source": [
    "## 도구를 활용한 챗봇 강화**   \n",
    "이제 챗봇이 **웹에서 관련 정보를 찾아 더 나은 답변을 제공할 수 있도록 개선**합니다. \n",
    "\n",
    "---\n",
    "먼저 **Tavily 검색 엔진**을 사용하기 위해 필요한 패키지를 설치하고 **`TAVILY_API_KEY`** 를 설정 합니다.  "
   ]
  },
  {
   "cell_type": "code",
   "execution_count": 4,
   "id": "2d7a4b30-dbfe-4a97-930e-dd021949c6d5",
   "metadata": {},
   "outputs": [],
   "source": [
    "# %%capture --no-stderr\n",
    "#%pip install -U langchain-tavily"
   ]
  },
  {
   "cell_type": "code",
   "execution_count": 5,
   "id": "7653298e-26bc-4552-af74-ad5fd2e9d8b4",
   "metadata": {},
   "outputs": [
    {
     "name": "stdout",
     "output_type": "stream",
     "text": [
      "{'query': 'LangGraph에서 node가 뭐야?', 'follow_up_questions': None, 'answer': None, 'images': [], 'results': [{'title': 'LangGraph의 핵심 구조: Node & Edge : 네이버 블로그', 'url': 'https://blog.naver.com/oaziz/223839790474', 'content': 'LangGraph의 핵심 구조: Node & Edge 1. 🧱 Node (노드): 작업 단위 (작업자 혹은 처리 단계) 🎯 정의 하나의 노드는 하나의 기능 또는 하나의 처리 단계를 담당합니다. 예: LLM 호출, retriever 실행, 요약, 사용자 입력 처리 등 🛠 Node에는 보통 다음과 같은 함수가 들어갑니다:', 'score': 0.8719229, 'raw_content': None}, {'title': 'Nodes and Edges | langchain-ai/langgraph-101 | DeepWiki', 'url': 'https://deepwiki.com/langchain-ai/langgraph-101/2.2-nodes-and-edges', 'content': 'Nodes and Edges | langchain-ai/langgraph-101 | DeepWiki Nodes and Edges Nodes and Edges What are Nodes and Edges? In LangGraph, a graph is composed of nodes connected by edges to form a directed workflow. Nodes are the workhorses of LangGraph - they are Python functions that receive the current graph state as input, perform operations, and return updates to that state. Edges define the flow of execution between nodes in a LangGraph. graph_builder.add_edge(\"retrieve_documents\", \"generate_response\") Conditional edges use a function to determine the next node based on the current state. Building a Graph with Nodes and Edges graph_builder.add_node(\"retrieve_documents\", retrieve_documents) graph_builder.add_edge(\"retrieve_documents\", \"generate_response\") When designing nodes and edges in LangGraph: Nodes and Edges What are Nodes and Edges? Building a Graph with Nodes and Edges', 'score': 0.85157084, 'raw_content': None}], 'response_time': 1.18}\n"
     ]
    }
   ],
   "source": [
    "# Tavily 검색 툴을 임포트\n",
    "# Tavily는 웹 검색을 통해 정보를 가져오는 도구로, LangChain에서 도구(tool)로 활용 가능\n",
    "from langchain_tavily import TavilySearch\n",
    "\n",
    "# TavilySearch 툴 인스턴스를 생성 (최대 결과 2개로 제한)\n",
    "tool = TavilySearch(max_results=2)\n",
    "\n",
    "# 사용할 툴들을 리스트로 구성 (여러 개의 도구가 필요한 경우를 대비해 리스트 형태로 작성)\n",
    "tools = [tool]\n",
    "\n",
    "# Tavily 검색 도구를 직접 호출하여 \"LangGraph에서 node가 뭐야?\"라는 질문에 대한 웹 검색 결과를 가져옴\n",
    "result = tool.invoke(\"LangGraph에서 node가 뭐야?\")\n",
    "print(result)"
   ]
  },
  {
   "cell_type": "code",
   "execution_count": 6,
   "id": "53ea529c-b7e9-40fa-b4c5-148435c2bb66",
   "metadata": {},
   "outputs": [],
   "source": [
    "# pip install -U \"langchain[openai]\""
   ]
  },
  {
   "cell_type": "markdown",
   "id": "b20a6e98-1fee-4815-8a0e-b61870abe3d0",
   "metadata": {},
   "source": [
    "### 에이전트 생성하기\n",
    "이제 도구들과 LLM(언어 모델)을 정의했으니, 에이전트를 생성할 수 있습니다. 우리는 **LangGraph**를 사용하여 에이전트를 구성할 것입니다. 현재는 **상위 수준의 인터페이스**를 사용하여 에이전트를 만들고 있지만, LangGraph의 장점은 이 상위 수준 인터페이스가 **하위 수준의 고도로 제어 가능한 API**로 지원된다는 점입니다. 따라서 나중에 에이전트 로직을 자유롭게 수정할 수 있습니다.\n",
    "\n",
    "에이전트는 세 가지 구성 요소로 이루어져 있습니다:\n",
    "**대규모 언어 모델(LLM)**, 사용할 수 있는 **도구들의 집합**, 그리고 **지시사항을 담은 프롬프트**입니다.\n",
    "\n",
    "LLM은 루프 방식으로 작동합니다. 각 반복(iteration)마다 다음과 같은 과정을 수행합니다:\n",
    "\n",
    "1. 사용할 도구를 선택하고,\n",
    "2. 그 도구에 입력을 제공하며,\n",
    "3. 결과(관찰값, observation)를 받아오고,\n",
    "4. 그 관찰값을 바탕으로 다음 행동을 결정합니다.\n",
    "\n",
    "이 루프는 **중지 조건**이 충족될 때까지 계속되며, 일반적으로는 **사용자에게 응답하기에 충분한 정보를 수집했을 때** 종료됩니다."
   ]
  },
  {
   "cell_type": "code",
   "execution_count": 7,
   "id": "18075f1c-f8f3-4b1d-838f-201f848109e5",
   "metadata": {},
   "outputs": [],
   "source": [
    "# Import relevant functionality\n",
    "from langgraph.checkpoint.memory import MemorySaver\n",
    "from langgraph.prebuilt import create_react_agent\n",
    "\n",
    "# Create the agent\n",
    "memory = MemorySaver()\n",
    "search = TavilySearch(max_results=2)\n",
    "tools = [search]\n",
    "agent_executor = create_react_agent(model, tools, checkpointer=memory)"
   ]
  },
  {
   "cell_type": "code",
   "execution_count": 8,
   "id": "8f22d647-3fff-463c-944a-bda95b837938",
   "metadata": {},
   "outputs": [
    {
     "name": "stdout",
     "output_type": "stream",
     "text": [
      "================================\u001b[1m Human Message \u001b[0m=================================\n",
      "\n",
      "안녕, 난 길동이야. 지금 서울의 날씨가 어때?\n",
      "==================================\u001b[1m Ai Message \u001b[0m==================================\n",
      "Tool Calls:\n",
      "  tavily_search (call_kNO3JvzpOMPVGnJVQDtucL4R)\n",
      " Call ID: call_kNO3JvzpOMPVGnJVQDtucL4R\n",
      "  Args:\n",
      "    query: 서울 오늘 날씨\n",
      "    search_depth: basic\n",
      "=================================\u001b[1m Tool Message \u001b[0m=================================\n",
      "Name: tavily_search\n",
      "\n",
      "{\"query\": \"서울 오늘 날씨\", \"follow_up_questions\": null, \"answer\": null, \"images\": [], \"results\": [{\"url\": \"https://weather.com/ko-KR/weather/today/l/18e81cdf57491c51a6fba3c57732b7b61bdf511fc2b613570316978b9f20687a\", \"title\": \"서울특별시 일기예보 및 날씨 - The Weather Channel\", \"content\": \"오늘 서울특별시의 날씨 예보 ; 최고/최저. --/20° ; 바람. 6 km/h ; 습도. 61% ; 이슬점. 17° ; 기압. 1012.2 mb.\", \"score\": 0.8235701, \"raw_content\": null}, {\"url\": \"https://www.accuweather.com/ko/kr/seoul/226081/hourly-weather-forecast/226081\", \"title\": \"서울특별시, 서울시, 대한민국 시간별 날씨 - AccuWeather\", \"content\": \"서울특별시, 서울시, 대한민국 시간별 날씨 | AccuWeather 서울특별시, 서울시 ========== 65°F 현재 위치 사용 서울특별시 서울시 65° 서울특별시, 서울시 날씨 오늘WinterCast지역 {stormName} 추적기시간별일별레이더MinuteCast월대기질건강 및 활동 전 세계 ### 허리케인### 악천후 기상### 레이더 및 지도### 동영상 오늘시간별 ---일별레이더MinuteCast월대기질건강 및 활동 64° RealFeel® 65°  맑음 바람 서남서 4mi/h 돌풍 9mi/h 가시거리 10mi 62° RealFeel® 62°  대체로 맑음 바람 남서 4mi/h 돌풍 7mi/h 가시거리 10mi 59° RealFeel® 60°  바람 남서 2mi/h 돌풍 7mi/h 가시거리 10mi 전 세계 ### 허리케인### 악천후 기상### 레이더 및 지도### 동영상 전 세계아시아대한민국서울시서울특별시 동작구, 서울시 마포구, 서울시 서대문구, 서울시 이용 약관 | 개인정보 보호정책 | 쿠키 사용 정책|개인정보 보호 정보 내 개인 정보를 판매하거나 공유하지 마십시오. Get AccuWeather alerts as they happen with our browser notifications. Enable Notifications Notifications Enabled\", \"score\": 0.7923522, \"raw_content\": null}], \"response_time\": 1.36}\n",
      "==================================\u001b[1m Ai Message \u001b[0m==================================\n",
      "\n",
      "오늘 서울의 날씨는 대체로 맑거나 구름 조금 있으며, 최고 기온은 약 20도 정도입니다. 습도는 61%이고, 바람은 6 km/h로 불고 있습니다. 도움이 더 필요하면 말씀해 주세요!\n"
     ]
    }
   ],
   "source": [
    "# Use the agent\n",
    "config = {\"configurable\": {\"thread_id\": \"abc123\"}}\n",
    "\n",
    "input_message = {\n",
    "    \"role\": \"user\",\n",
    "    \"content\": \"안녕, 난 길동이야. 지금 서울의 날씨가 어때?\",\n",
    "}\n",
    "for step in agent_executor.stream(\n",
    "    {\"messages\": [input_message]}, config, stream_mode=\"values\"\n",
    "):\n",
    "    step[\"messages\"][-1].pretty_print()"
   ]
  },
  {
   "cell_type": "markdown",
   "id": "59c7a1b5-6039-4915-9b70-61b4d825737f",
   "metadata": {},
   "source": [
    "## 챗봇에 메모리 기능 추가¶**  \n",
    "\n",
    "현재 챗봇은 **사용자 질문에 도구를 활용해 답변할 수 있지만, 이전 대화의 맥락을 기억하지 못합니다.**  \n",
    "이 때문에 **일관된 멀티턴(Multi-turn) 대화를 진행하는 데 한계가 있습니다.**  \n",
    "\n",
    "LangGraph는 **\"지속적 체크포인트(Persistent Checkpointing)\"** 기능을 통해 이 문제를 해결합니다.  \n",
    "\n",
    "그래프를 컴파일할 때 checkpointing을 활성화하고 그래프를 호출할 때 `thread_id`를 제공하면, LangGraph가 자동으로 상태(state)를 저장하고, 다음 실행 시 이전 상태를 복원합니다.  \n",
    "\n",
    "즉, **동일한 `thread_id`** 를 사용하여 그래프를 호출하면, 이전 대화 상태를 불러와서 이어서 대화할 수 있습니다!"
   ]
  },
  {
   "cell_type": "code",
   "execution_count": 9,
   "id": "ccf74912-e1bd-4753-96f0-ad3398a9590a",
   "metadata": {},
   "outputs": [],
   "source": [
    "from langgraph.checkpoint.memory import MemorySaver\n",
    "\n",
    "memory = MemorySaver()"
   ]
  },
  {
   "cell_type": "markdown",
   "id": "4a1e5e51-8ec4-4b53-9154-c83b0097756a",
   "metadata": {},
   "source": [
    "우리는 현재 **메모리를 활용하는(in-memory) 체크포인터**를 사용하고 있습니다.  \n",
    "\n",
    "이 방식은 튜토리얼 환경에서는 편리하지만, 데이터가 메모리에만 저장되므로 영구적이지 않습니다. 실제 프로덕션 환경에서는 `SqliteSaver` 또는 `PostgresSaver`를 사용하여 데이터베이스(DB)와 연결하는 것이 일반적입니다.\n",
    "\n",
    "---"
   ]
  },
  {
   "cell_type": "code",
   "execution_count": 10,
   "id": "eb5e580e-25d9-4842-96ae-9a5622cce56b",
   "metadata": {},
   "outputs": [
    {
     "name": "stdout",
     "output_type": "stream",
     "text": [
      "================================\u001b[1m Human Message \u001b[0m=================================\n",
      "\n",
      "안녕, 난 길동이야.\n",
      "==================================\u001b[1m Ai Message \u001b[0m==================================\n",
      "\n",
      "안녕, 길동아! 어떻게 도와줄까?\n"
     ]
    }
   ],
   "source": [
    "agent_executor = create_react_agent(model, tools, checkpointer=memory)\n",
    "\n",
    "config = {\"configurable\": {\"thread_id\": \"abc123\"}}\n",
    "\n",
    "input_message = {\"role\": \"user\", \"content\": \"안녕, 난 길동이야.\"}\n",
    "for step in agent_executor.stream(\n",
    "    {\"messages\": [input_message]}, config, stream_mode=\"values\"\n",
    "):\n",
    "    step[\"messages\"][-1].pretty_print()"
   ]
  },
  {
   "cell_type": "markdown",
   "id": "3edffd5e-55d2-4fad-a54f-d56fac424b4d",
   "metadata": {},
   "source": [
    "### 무한 loop 로 Chatbot 구현"
   ]
  },
  {
   "cell_type": "code",
   "execution_count": 11,
   "id": "d0a803cf-b3bc-41e0-a20a-6cf53c0ec29d",
   "metadata": {},
   "outputs": [
    {
     "name": "stdin",
     "output_type": "stream",
     "text": [
      "User:  안녕 난 길동이야\n"
     ]
    },
    {
     "name": "stdout",
     "output_type": "stream",
     "text": [
      "================================\u001b[1m Human Message \u001b[0m=================================\n",
      "\n",
      "안녕 난 길동이야\n",
      "==================================\u001b[1m Ai Message \u001b[0m==================================\n",
      "\n",
      "안녕하세요, 길동님! 어떻게 도와드릴까요?\n"
     ]
    },
    {
     "name": "stdin",
     "output_type": "stream",
     "text": [
      "User:  지금 서울 날씨는?\n"
     ]
    },
    {
     "name": "stdout",
     "output_type": "stream",
     "text": [
      "================================\u001b[1m Human Message \u001b[0m=================================\n",
      "\n",
      "지금 서울 날씨는?\n",
      "==================================\u001b[1m Ai Message \u001b[0m==================================\n",
      "Tool Calls:\n",
      "  tavily_search (call_Pg09T7HOIOj4v0LD0lvNwjb1)\n",
      " Call ID: call_Pg09T7HOIOj4v0LD0lvNwjb1\n",
      "  Args:\n",
      "    query: 서울 현재 날씨\n",
      "    search_depth: basic\n",
      "=================================\u001b[1m Tool Message \u001b[0m=================================\n",
      "Name: tavily_search\n",
      "\n",
      "{\"query\": \"서울 현재 날씨\", \"follow_up_questions\": null, \"answer\": null, \"images\": [], \"results\": [{\"url\": \"https://www.accuweather.com/ko/kr/seoul/226081/current-weather/226081\", \"title\": \"서울특별시, 서울시, 대한민국 현재 날씨 - AccuWeather\", \"content\": \"서울특별시, 서울시, 대한민국 현재 날씨 | AccuWeather 서울특별시, 서울시 ========== 65°F 현재 위치 사용 서울특별시 서울시 65° 서울특별시, 서울시 날씨 오늘 WinterCast 지역 {stormName} 추적기 시간별 일별 레이더 MinuteCast 월 대기질 건강 및 활동 오늘 시간별 일별 레이더 MinuteCast 월 대기질 건강 및 활동 현재 기상 RealFeel® 71° RealFeel Shade™ 63° 71° 63° 최대 자외선 지수 서 5mi/h 5mi/h 48° F 5mi RealFeel® 81° RealFeel Shade™ 73° 최대 자외선 지수10 (건강에 해로움) 바람남남서 8mi/h 강수 확률0% 강수0.00in RealFeel® 56° 바람남동 5mi/h 강수 확률2% 강수0.00in 일출 AM 5:26 일몰 PM 7:31 일출 PM 7:22 일몰 AM 5:14 77° 55° 70° 50° 71° 53° ### 시간별### 일별### 월 전 세계 아시아 대한민국 서울시 서울특별시 동작구, 서울시 마포구, 서울시 서대문구, 서울시\", \"score\": 0.8849276, \"raw_content\": null}, {\"url\": \"https://www.weather.go.kr/w/weather/forecast/short-term.do?stnId=109\", \"title\": \"단기예보 - 예보 - 날씨 - 기상청 날씨누리\", \"content\": \"# 기상청 날씨누리 별표를 누르면 관심지역으로 등록 또는 삭제할 수 있습니다 □ (종합) 오늘 아침까지 안개, 오늘 오후 서울.경기내륙 소나기, 돌풍.천둥.번개.우박 유의, 당분간 서해중부해상 바다 안개 ○ (오늘, 29일) 대체로 맑겠으나, 오후(12~18시)에 구름많고 서울.경기내륙 소나기, 서해5도 대체로 맑음 ○ (내일, 30일) 대체로 맑음○ (모레, 31일) 대체로 맑음, 서해5도 대체로 맑다가 오전부터 구름많음 ○ (글피, 6월 1일) 대체로 맑음   \\\\ 소나기에 의한 예상 강수량(29일 오후)- 서울.경기내륙: 5~20mm 담당관리 : 본청 문의 : 전국 국번없이 131(기상상담전화, 유료) 기상청 전국 국번없이 기상콜센터 131(유료) 기본화면: 현재날씨 및 시계열 정보가 포함된 첫화면   날씨 우선: 조회지점의 현재날씨 및 시계열 정보가 포함된 첫화면   전국 우선: 전국지역의 날씨를 간략하게 표출 3시간 간격: 시간별 예보를 3시간 간격으로 표출   1시간 간격: 시간별 예보를 1시간 간격으로 표출 익스플러러 설정 스크린샷\", \"score\": 0.64639384, \"raw_content\": null}], \"response_time\": 1.24}\n",
      "==================================\u001b[1m Ai Message \u001b[0m==================================\n",
      "\n",
      "서울의 현재 날씨는 약 65°F (약 18°C)로 맑으며, 바람은 남남서 방향으로 약 8마일/h입니다. 오늘은 대체로 맑고, 강수 확률은 낮아 보입니다. 더 자세한 정보는 [여기](https://www.accuweather.com/ko/kr/seoul/226081/current-weather/226081)에서 확인하실 수 있습니다.\n"
     ]
    },
    {
     "name": "stdin",
     "output_type": "stream",
     "text": [
      "User:  내 이름이 뭐지?\n"
     ]
    },
    {
     "name": "stdout",
     "output_type": "stream",
     "text": [
      "================================\u001b[1m Human Message \u001b[0m=================================\n",
      "\n",
      "내 이름이 뭐지?\n",
      "==================================\u001b[1m Ai Message \u001b[0m==================================\n",
      "\n",
      "길동님이세요! 다른 궁금한 점 있으시면 언제든 말씀해 주세요.\n"
     ]
    },
    {
     "name": "stdin",
     "output_type": "stream",
     "text": [
      "User:  q\n"
     ]
    },
    {
     "name": "stdout",
     "output_type": "stream",
     "text": [
      "Goodbye!\n"
     ]
    }
   ],
   "source": [
    "from langchain_core.messages import AIMessage\n",
    "\n",
    "# 'configurable' 키를 사용하여 추가적인 설정 값을 전달합니다.\n",
    "# 여기서는 'thread_id'를 사용하여 특정 대화 스레드를 식별합니다.\n",
    "memory = MemorySaver()\n",
    "\n",
    "# 그래프를 메모리 체크포인트와 함께 컴파일합니다.\n",
    "agent_executor = create_react_agent(model, tools, checkpointer=memory)\n",
    "\n",
    "config = {\"configurable\": {\"thread_id\": \"abc345\"}}\n",
    "\n",
    "while True:\n",
    "    user_input = input(\"User: \")\n",
    "    if user_input.lower() in [\"quit\", \"exit\", \"q\"]:\n",
    "        print(\"Goodbye!\")\n",
    "        break\n",
    "\n",
    "    for step in agent_executor.stream({\"messages\": [user_input]}, config, stream_mode=\"values\"):\n",
    "        step[\"messages\"][-1].pretty_print()"
   ]
  },
  {
   "cell_type": "code",
   "execution_count": null,
   "id": "a65e3e50-b633-4c19-b529-27eedaa4c0fb",
   "metadata": {},
   "outputs": [],
   "source": []
  }
 ],
 "metadata": {
  "kernelspec": {
   "display_name": "Python 3 (ipykernel)",
   "language": "python",
   "name": "python3"
  },
  "language_info": {
   "codemirror_mode": {
    "name": "ipython",
    "version": 3
   },
   "file_extension": ".py",
   "mimetype": "text/x-python",
   "name": "python",
   "nbconvert_exporter": "python",
   "pygments_lexer": "ipython3",
   "version": "3.9.23"
  }
 },
 "nbformat": 4,
 "nbformat_minor": 5
}

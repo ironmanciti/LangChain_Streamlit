{
 "cells": [
  {
   "cell_type": "markdown",
   "id": "d51f4020-8cb4-4561-b6d2-98589737dda8",
   "metadata": {},
   "source": [
    "# LangGraph를 사용한 고객 지원 챗봇을 구축\n",
    "\n",
    "- 웹 검색을 통해 일반적인 질문에 답변 \n",
    "- 대화 상태를 유지하여 연속적인 대화  \n",
    "- 복잡한 질문을 사람이 검토하도록 라우팅  \n",
    "- 사용자 지정 상태(Custom State)를 활용하여 챗봇의 동작 제어  \n",
    "- 대화 흐름을 되돌리고(Rewind), 다른 대화 경로 탐색 "
   ]
  },
  {
   "cell_type": "code",
   "execution_count": null,
   "id": "c2a94bd3",
   "metadata": {},
   "outputs": [],
   "source": []
  },
  {
   "cell_type": "code",
   "execution_count": null,
   "id": "52f50c8d",
   "metadata": {},
   "outputs": [],
   "source": [
    "# LangSmith 추적 설정 활성화"
   ]
  },
  {
   "cell_type": "code",
   "execution_count": null,
   "id": "b6243a62",
   "metadata": {},
   "outputs": [],
   "source": []
  },
  {
   "cell_type": "markdown",
   "id": "8df89407-dce9-4ce5-bca0-4e3b04cd17cd",
   "metadata": {},
   "source": [
    "먼저 모델을 직접 사용해 봅니다. `ChatModel`은 LangChain의 **\"Runnable\"** 인스턴스이며, 이는 표준화된 인터페이스를 통해 상호작용할 수 있음을 의미합니다.  \n",
    "\n",
    "모델을 간단하게 호출하려면 `.invoke` 메서드에 **메시지 목록**을 전달하면 됩니다."
   ]
  },
  {
   "cell_type": "markdown",
   "id": "6448ed23-0ce7-4431-a4a2-793a0916d3de",
   "metadata": {},
   "source": [
    "## 도구를 활용한 챗봇 강화**   \n",
    "이제 챗봇이 **웹에서 관련 정보를 찾아 더 나은 답변을 제공할 수 있도록 개선**합니다. \n",
    "\n",
    "---\n",
    "먼저 **Tavily 검색 엔진**을 사용하기 위해 필요한 패키지를 설치하고 **`TAVILY_API_KEY`** 를 설정 합니다.  "
   ]
  },
  {
   "cell_type": "code",
   "execution_count": null,
   "id": "dfa87ff4",
   "metadata": {},
   "outputs": [],
   "source": [
    "# %%capture --no-stderr\n",
    "# %pip install -U langchain-tavily"
   ]
  },
  {
   "cell_type": "code",
   "execution_count": null,
   "id": "99701a51",
   "metadata": {},
   "outputs": [],
   "source": [
    "# Tavily 검색 툴을 임포트\n",
    "# Tavily는 웹 검색을 통해 정보를 가져오는 도구로, LangChain에서 도구(tool)로 활용 가능\n",
    "# TavilySearch 툴 인스턴스를 생성 (최대 결과 2개로 제한)\n",
    "# 사용할 툴들을 리스트로 구성 (여러 개의 도구가 필요한 경우를 대비해 리스트 형태로 작성)\n",
    "# Tavily 검색 도구를 직접 호출하여 \"LangGraph에서 node가 뭐야?\"라는 질문에 대한 웹 검색 결과를 가져옴"
   ]
  },
  {
   "cell_type": "code",
   "execution_count": null,
   "id": "39e683d9",
   "metadata": {},
   "outputs": [],
   "source": [
    "# pip install -U \"langchain[openai]\""
   ]
  },
  {
   "cell_type": "markdown",
   "id": "b20a6e98-1fee-4815-8a0e-b61870abe3d0",
   "metadata": {},
   "source": [
    "### 에이전트 생성하기\n",
    "이제 도구들과 LLM(언어 모델)을 정의했으니, 에이전트를 생성할 수 있습니다. 우리는 **LangGraph**를 사용하여 에이전트를 구성할 것입니다. 현재는 **상위 수준의 인터페이스**를 사용하여 에이전트를 만들고 있지만, LangGraph의 장점은 이 상위 수준 인터페이스가 **하위 수준의 고도로 제어 가능한 API**로 지원된다는 점입니다. 따라서 나중에 에이전트 로직을 자유롭게 수정할 수 있습니다.\n",
    "\n",
    "에이전트는 세 가지 구성 요소로 이루어져 있습니다:\n",
    "**대규모 언어 모델(LLM)**, 사용할 수 있는 **도구들의 집합**, 그리고 **지시사항을 담은 프롬프트**입니다.\n",
    "\n",
    "LLM은 루프 방식으로 작동합니다. 각 반복(iteration)마다 다음과 같은 과정을 수행합니다:\n",
    "\n",
    "1. 사용할 도구를 선택하고,\n",
    "2. 그 도구에 입력을 제공하며,\n",
    "3. 결과(관찰값, observation)를 받아오고,\n",
    "4. 그 관찰값을 바탕으로 다음 행동을 결정합니다.\n",
    "\n",
    "이 루프는 **중지 조건**이 충족될 때까지 계속되며, 일반적으로는 **사용자에게 응답하기에 충분한 정보를 수집했을 때** 종료됩니다."
   ]
  },
  {
   "cell_type": "code",
   "execution_count": null,
   "id": "263a6dc3",
   "metadata": {},
   "outputs": [],
   "source": [
    "# Import relevant functionality\n",
    "# Create the agent"
   ]
  },
  {
   "cell_type": "code",
   "execution_count": null,
   "id": "7d01ab02",
   "metadata": {},
   "outputs": [],
   "source": [
    "# Use the agent"
   ]
  },
  {
   "cell_type": "code",
   "execution_count": null,
   "id": "8635537e",
   "metadata": {},
   "outputs": [],
   "source": [
    "# 대화 상태를 메모리에 저장할 수 있는 체크포인터 생성\n",
    "# ReAct 기반 에이전트 실행기 생성 (모델, 도구, 체크포인터를 연결)\n",
    "# 사용자별 스레드 ID 등을 설정할 수 있는 구성(config)\n",
    "# 사용자 입력 메시지 정의\n",
    "# 에이전트를 스트리밍 방식으로 실행하고, 응답을 단계별로 출력\n",
    "    # 각 단계별 응답 메시지 중 마지막 메시지를 보기 좋게 출력"
   ]
  },
  {
   "cell_type": "markdown",
   "id": "3edffd5e-55d2-4fad-a54f-d56fac424b4d",
   "metadata": {},
   "source": [
    "### 무한 loop 로 Chatbot 구현"
   ]
  },
  {
   "cell_type": "code",
   "execution_count": null,
   "id": "5ebcae77",
   "metadata": {},
   "outputs": [],
   "source": [
    "# 그래프를 메모리 체크포인트와 함께 컴파일합니다."
   ]
  },
  {
   "cell_type": "code",
   "execution_count": null,
   "id": "113e1e86",
   "metadata": {},
   "outputs": [],
   "source": []
  }
 ],
 "metadata": {
  "kernelspec": {
   "display_name": "Python 3 (ipykernel)",
   "language": "python",
   "name": "python3"
  },
  "language_info": {
   "codemirror_mode": {
    "name": "ipython",
    "version": 3
   },
   "file_extension": ".py",
   "mimetype": "text/x-python",
   "name": "python",
   "nbconvert_exporter": "python",
   "pygments_lexer": "ipython3",
   "version": "3.11.13"
  }
 },
 "nbformat": 4,
 "nbformat_minor": 5
}

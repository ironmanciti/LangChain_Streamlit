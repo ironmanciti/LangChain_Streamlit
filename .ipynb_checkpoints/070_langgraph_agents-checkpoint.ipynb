{
 "cells": [
  {
   "cell_type": "markdown",
   "id": "1df78a71",
   "metadata": {
    "id": "1df78a71"
   },
   "source": [
    "# **에이전트(Agent) 구축하기**\n",
    "\n",
    "언어 모델(LLM) 자체는 **행동을 수행할 수 없습니다**  그저 텍스트를 출력할 뿐입니다.  \n",
    "LangChain의 주요 사용 사례 중 하나는 **에이전트(Agents)** 를 만드는 것입니다.  \n",
    "\n",
    "**에이전트(Agents)** 는 **LLM**을 **추론 엔진**으로 사용하여 어떤 행동을 취해야 하는지, 그리고 행동을 수행하는 데 필요한 입력이 무엇인지 결정하는 시스템입니다.  \n",
    "행동을 실행한 후 결과를 LLM에 다시 전달하여 **더 많은 행동이 필요한지** 또는 **작업을 종료해도 되는지**를 판단할 수 있습니다. 이는 종종 **도구 호출(tool-calling)** 을 통해 이루어집니다.  \n",
    "\n",
    "---\n",
    "\n",
    "이 노트북에서는 **검색 엔진과 상호작용할 수 있는 에이전트**를 구축합니다.  \n",
    "- 사용자는 이 에이전트에게 질문을 할 수 있습니다.  \n",
    "- 에이전트가 검색 도구를 호출하는 과정을 볼 수 있습니다.  \n",
    "- 에이전트와 여러 차례 대화를 나눌 수 있습니다.  \n",
    "\n",
    "---\n",
    "\n",
    "## **엔드 투 엔드 에이전트 (End-to-end Agent)**\n",
    "\n",
    "아래 코드는 **도구(tool)** 를 사용하여 어떤 행동을 취해야 할지 결정하는 LLM을 활용한 **완전히 기능하는 에이전트**를 보여줍니다.  \n",
    "- 이 에이전트는 **일반적인 검색 도구**를 사용할 수 있습니다.  \n",
    "- **대화 메모리(conversational memory)** 를 갖추고 있어 다중 턴 대화가 가능합니다.\n",
    "- 도구 정의 - 우리의 주요 선택 도구는 **Tavily**입니다. Tavily는 **검색 엔진**으로, LangChain에는 Tavily 검색 엔진을 쉽게 사용할 수 있도록 지원하는 **내장 도구**가 포함되어 있습니다.\n"
   ]
  },
  {
   "cell_type": "code",
   "execution_count": 1,
   "id": "157e49af-c63c-4bd6-b12a-97d9fbcd05b6",
   "metadata": {},
   "outputs": [],
   "source": [
    "# %%capture --no-stderr\n",
    "# %pip install -qU tavily-python langgraph-checkpoint-sqlite"
   ]
  },
  {
   "cell_type": "code",
   "execution_count": 2,
   "id": "c00462d3",
   "metadata": {},
   "outputs": [
    {
     "data": {
      "text/plain": [
       "True"
      ]
     },
     "execution_count": 2,
     "metadata": {},
     "output_type": "execute_result"
    }
   ],
   "source": [
    "import os\n",
    "from dotenv import load_dotenv\n",
    "load_dotenv()"
   ]
  },
  {
   "cell_type": "code",
   "execution_count": 3,
   "id": "6708222d",
   "metadata": {},
   "outputs": [],
   "source": [
    "# LangSmith 추적 설정 활성화\n",
    "os.environ[\"LANGSMITH_TRACING\"] = \"true\""
   ]
  },
  {
   "cell_type": "code",
   "execution_count": 4,
   "id": "66db67fb-a9cb-4832-b691-11987faf4d8d",
   "metadata": {},
   "outputs": [],
   "source": [
    "from langchain_openai import ChatOpenAI\n",
    "from langchain_community.tools.tavily_search import TavilySearchResults\n",
    "from langchain_core.messages import HumanMessage\n",
    "from langgraph.checkpoint.memory import MemorySaver\n",
    "from langgraph.prebuilt import create_react_agent"
   ]
  },
  {
   "cell_type": "markdown",
   "id": "e5a4fb8c-62fc-40a9-8361-7567b9d65765",
   "metadata": {},
   "source": [
    "##  **언어 모델과 도구 정의**\n",
    "\n",
    "먼저 언어 모델과 사용하려는 도구를 생성해야 합니다. 우리의 주요 선택 도구는 **Tavily**입니다. Tavily는 **검색 엔진**으로, LangChain에는 Tavily 검색 엔진을 쉽게 사용할 수 있도록 지원하는 **내장 도구**가 포함되어 있습니다."
   ]
  },
  {
   "cell_type": "code",
   "execution_count": 5,
   "id": "a30d6999-dfda-4e2b-bf66-9ac47d082d97",
   "metadata": {},
   "outputs": [],
   "source": [
    "model = ChatOpenAI(model=\"gpt-4o-mini\")\n",
    "\n",
    "# 검색 도구 설정 (최대 검색 결과 2개)\n",
    "search = TavilySearchResults(max_results=2)\n",
    "\n",
    "# 사용할 모든 도구를 하나의 리스트에 넣어서 나중에 참조할 수 있도록 설정\n",
    "tools = [search]\n",
    "\n",
    "# agent 생성\n",
    "memory = MemorySaver()\n",
    "agent_executor = create_react_agent(model, tools, checkpointer=memory)"
   ]
  },
  {
   "cell_type": "code",
   "execution_count": 6,
   "id": "c89a05e3-a653-4eca-810a-f9ef23bcd839",
   "metadata": {},
   "outputs": [
    {
     "name": "stdout",
     "output_type": "stream",
     "text": [
      "================================\u001b[1m Human Message \u001b[0m=================================\n",
      "\n",
      "안녕, 나는 길동이야. 나는 서울에 살고 있어.\n",
      "==================================\u001b[1m Ai Message \u001b[0m==================================\n",
      "\n",
      "안녕하세요, 길동님! 서울에 사신다니 멋지네요. 서울에서 어떤 활동을 즐기시나요?\n"
     ]
    }
   ],
   "source": [
    "# agent 사용\n",
    "config = {\"configurable\": {\"thread_id\": \"abc123\"}}\n",
    "for step in agent_executor.stream(\n",
    "    {\"messages\": [HumanMessage(content=\"안녕, 나는 길동이야. 나는 서울에 살고 있어.\")]},\n",
    "    config,\n",
    "    stream_mode=\"values\",\n",
    "):\n",
    "    step[\"messages\"][-1].pretty_print()"
   ]
  },
  {
   "cell_type": "code",
   "execution_count": 7,
   "id": "3bbc8958-c4b8-4f61-89dc-369534326adc",
   "metadata": {},
   "outputs": [
    {
     "name": "stdout",
     "output_type": "stream",
     "text": [
      "================================\u001b[1m Human Message \u001b[0m=================================\n",
      "\n",
      "내가 사는 곳의 날씨를 알려줘.\n",
      "==================================\u001b[1m Ai Message \u001b[0m==================================\n",
      "Tool Calls:\n",
      "  tavily_search_results_json (call_5f6hWZmLBvN42p9BprDv1Avt)\n",
      " Call ID: call_5f6hWZmLBvN42p9BprDv1Avt\n",
      "  Args:\n",
      "    query: 서울 날씨\n",
      "=================================\u001b[1m Tool Message \u001b[0m=================================\n",
      "Name: tavily_search_results_json\n",
      "\n",
      "[{\"title\": \"서울특별시, 서울시, 대한민국 3일 날씨 예보 - AccuWeather\", \"url\": \"https://www.accuweather.com/ko/kr/seoul/226081/weather-forecast/226081\", \"content\": \"서울특별시, 서울시, 대한민국 3일 날씨 예보 | AccuWeather 서울특별시 서울시 19° 오늘 WinterCast 지역 {stormName} 추적기 시간별 일별 레이더 MinuteCast 월 대기질 건강 및 활동 오늘 --WinterCast 시간별 일별 레이더 MinuteCast 월 대기질 건강 및 활동 2 한파 주의보현재 기상 ----- AM 12:55 19°F RealFeel® 19° 대체로 맑음 추가 상세 정보 바람 북북서 4mi/h 돌풍 6mi/h 대기질 나쁨전망 -- 화요일 심야 진눈깨비와 어는 비가 내림WinterCast® ----------- 늦은 화 밤  우박 2 시간 지속 37° 20° 대체로 맑음 맑고 추움 2%화 2. 42° 20° 오전 중 때때로 비와 보슬비가 내림; 흐림 대체로 맑고 추움 69%목 2. 44° 25° 대체로 맑음 약간 흐림 0%토 2. 50° 32° 약간 흐림 맑음 0%화 2. 46° 26° 약간 흐림 대체로 흐림 1% 전 세계 아시아 대한민국 서울시 서울특별시\", \"score\": 0.7293082}, {\"title\": \"서울특별시 일기예보 및 날씨 - The Weather Channel\", \"url\": \"https://weather.com/ko-KR/weather/today/l/36994b6d164c4043d2ec43cc7d39f5447d3fc0b10bcc175e4593cd4f929976ea\", \"content\": \"신촌동 일기예보 및 날씨 - The Weather Channel | Weather.com 알제리 | العربية알제리 | Français앙골라 | Português베냉 | Français부르키나파소 | Français부룬디 | Français카메룬 | Français카메룬 | English카보베르데 | Português중앙 아프리카 공화국 | Français차드 | Français차드 | العربية코모로 | Français코모로 | العربيةDemocratic Republic of the Congo | Français콩고 공화국 | Français코트디부아르 | Français지부티 | Français지부티 | العربية이집트 | العربية적도 기니 | Español에리트레아 | العربية가봉 | Français감비아 | English가나 | English기니 | Français기니비사우 | Português케냐 | English레소토 | English라이베리아 | English리비아 | العربية마다가스카르 | Français말리 | Français모리타니 | العربية모리셔스 | English모리셔스 | Français모로코 | العربية모로코 | Français모잠비크 | Português나미비아 | English니제르 | Français나이지리아 | English르완다 | Français르완다 | English상투메 프린시페 | Português세네갈 | Français시에라리온 | English소말리아 | العربية남아프리카 | English남수단 | English수단 | العربية스와질란드 | English탄자니아 | English토고 | Français튀니지 | العربية우간다 | English\", \"score\": 0.46672463}]\n",
      "==================================\u001b[1m Ai Message \u001b[0m==================================\n",
      "\n",
      "현재 서울의 날씨는 대체로 맑고, 기온은 약 19도입니다. 바람은 북북서 방향으로 시속 4마일로 불고 있으며, 대기질은 나쁜 편입니다. 오늘 밤에는 진눈깨비와 어는 비가 예상됩니다. \n",
      "\n",
      "더 자세한 날씨 정보는 [여기](https://www.accuweather.com/ko/kr/seoul/226081/weather-forecast/226081)에서 확인하실 수 있습니다.\n"
     ]
    }
   ],
   "source": [
    "for step in agent_executor.stream(\n",
    "    {\"messages\": [HumanMessage(content=\"내가 사는 곳의 날씨를 알려줘.\")]},\n",
    "    config,\n",
    "    stream_mode=\"values\",\n",
    "):\n",
    "    step[\"messages\"][-1].pretty_print()"
   ]
  },
  {
   "cell_type": "markdown",
   "id": "d3984cdc-1082-4b10-8a1f-4406d5bb32db",
   "metadata": {},
   "source": [
    "### Agent 구축 않고 LLM에 도구 목록만 전달할 경우와 비교\n",
    "모델이 도구 호출을 수행하도록 활성화하기 위해 `.bind_tools`를 사용하여 언어 모델에 도구에 대한 지식을 제공합니다."
   ]
  },
  {
   "cell_type": "code",
   "execution_count": 8,
   "id": "e9652470-564f-481b-bc1e-3693167f31e0",
   "metadata": {},
   "outputs": [
    {
     "name": "stdout",
     "output_type": "stream",
     "text": [
      "content='' additional_kwargs={'tool_calls': [{'id': 'call_Uh0LdZIHiIjMlkJY8XXxJFVQ', 'function': {'arguments': '{\"query\":\"서울 날씨\"}', 'name': 'tavily_search_results_json'}, 'type': 'function'}], 'refusal': None} response_metadata={'token_usage': {'completion_tokens': 21, 'prompt_tokens': 99, 'total_tokens': 120, 'completion_tokens_details': {'accepted_prediction_tokens': 0, 'audio_tokens': 0, 'reasoning_tokens': 0, 'rejected_prediction_tokens': 0}, 'prompt_tokens_details': {'audio_tokens': 0, 'cached_tokens': 0}}, 'model_name': 'gpt-4o-mini-2024-07-18', 'system_fingerprint': 'fp_06737a9306', 'finish_reason': 'tool_calls', 'logprobs': None} id='run-dbed928d-c8cd-479e-8c7d-bbdc18750bf0-0' tool_calls=[{'name': 'tavily_search_results_json', 'args': {'query': '서울 날씨'}, 'id': 'call_Uh0LdZIHiIjMlkJY8XXxJFVQ', 'type': 'tool_call'}] usage_metadata={'input_tokens': 99, 'output_tokens': 21, 'total_tokens': 120, 'input_token_details': {'audio': 0, 'cache_read': 0}, 'output_token_details': {'audio': 0, 'reasoning': 0}}\n"
     ]
    }
   ],
   "source": [
    "# `bind_tools` 메서드를 사용하여 언어 모델이 특정 도구 목록을 사용할 수 있도록 설정합니다.\n",
    "model_with_tools = model.bind_tools(tools)\n",
    "\n",
    "response = model_with_tools.invoke([HumanMessage(content=\"안녕, 나는 서울에 살고 있어. 내가 사는 곳의 날씨를 알려줘\")])\n",
    "print(response)"
   ]
  },
  {
   "cell_type": "code",
   "execution_count": 9,
   "id": "d9f004cc-922d-41c1-9a5c-31fd49efae07",
   "metadata": {},
   "outputs": [
    {
     "name": "stdout",
     "output_type": "stream",
     "text": [
      "[{'name': 'tavily_search_results_json', 'args': {'query': '서울 날씨'}, 'id': 'call_Uh0LdZIHiIjMlkJY8XXxJFVQ', 'type': 'tool_call'}]\n"
     ]
    }
   ],
   "source": [
    "print(response.tool_calls)"
   ]
  },
  {
   "cell_type": "markdown",
   "id": "1538289f-f695-40df-960e-b047891e5d99",
   "metadata": {},
   "source": [
    "모델은 우리가 **Tavily Search** 도구를 호출하라고 알려주며 도구 호출에 필요한 argument를 만들어 줍니다.  \n",
    "이것은 아직 해당 도구를 호출한 것이 아니라, 단지 호출해야 한다고 알려주는 것입니다. 실제로 도구를 호출하려면 **에이전트(agent)** 를 만들어야 합니다."
   ]
  },
  {
   "cell_type": "markdown",
   "id": "e4a4d1db-59f1-4d71-a3c8-29851d4af9d7",
   "metadata": {},
   "source": [
    "## Agent 생성\n",
    "\n",
    "- LLM은 **상태를 저장하지 않는(stateless)** 이므로 이전 상호작용을 기억하지 않습니다. 에이전트에 메모리를 추가하려면 **체크포인터(checkpointer)** 를 전달해야 합니다. 또한 에이전트를 호출할 때 `thread_id`를 함께 전달해야 합니다. 이를 통해 에이전트는 어느 스레드(대화)에서부터 상호작용을 이어가야 하는지 알 수 있습니다.\n",
    "\n",
    "- ReAct 에이전트를 구성하기 위해 Langgraph에서 제공하는 고수준 인터페이스(high-level interface)인 `create_react_agent`를 사용합니다. 이를 통해 에이전트 로직을 원하는 대로 세부적으로 수정할 수 있습니다. `create_react_agent`는 내부적으로 `.bind_tools`를 호출해 도구를 모델에 연결합니다."
   ]
  },
  {
   "cell_type": "code",
   "execution_count": 10,
   "id": "e5cb23e0",
   "metadata": {},
   "outputs": [],
   "source": [
    "search = TavilySearchResults(max_results=2)\n",
    "tools = [search]\n",
    "\n",
    "memory = MemorySaver()\n",
    "agent_executor = create_react_agent(model, tools, checkpointer=memory)\n",
    "\n",
    "config = {\"configurable\": {\"thread_id\": \"abc123\"}}"
   ]
  },
  {
   "cell_type": "markdown",
   "id": "cfea2753-5f98-4b95-9568-0922b133f336",
   "metadata": {},
   "source": [
    "## **스트리밍 메시지**\n",
    "\n",
    "우리는 `.invoke`를 사용해 에이전트를 호출하고 최종 응답을 받는 방법을 알고 있습니다. 하지만 에이전트가 여러 단계를 실행해야 할 경우 시간이 오래 걸릴 수 있습니다.  \n",
    "중간 진행 상황을 보여주기 위해, 발생하는 메시지를 스트리밍 형태로 실시간 전송할 수 있습니다.\n",
    "\n",
    "### **ReAct 패턴의 질문/응답**\n",
    "질문이 단순 정보 조회가 아닌, 추론과 행동을 반복해야 해결 가능한 질문  \n",
    "예) 내가 사는 곳의 날씨를 알려줘 \n",
    "- Reasoning(추론) - 사용자의 위치를 알아야 하고, 날씨 API에서 날씨 정보를 가져와야 한다. (LLM 역할)  \n",
    "- Acting(행동) - TavilySearchResults API 호출 (LangChin 역할)  \n",
    "- Observation(관찰) - API로부터 \"오늘 서울은 맑음\"이라는 정보를 받았다. 이 것을 LLM에 다시 전달. (LangChain 역할)\n",
    "- Reasoning(추론) - \"이제 사용자에게 서울의 날씨가 맑다고 답변해야 한다.\"  (LLM의 역할)  \n",
    "- Answer(응답) - \"서울의 날씨는 맑음입니다.\" (LLM의 역할)  "
   ]
  },
  {
   "cell_type": "code",
   "execution_count": 11,
   "id": "3880cd7e-91d3-4516-8688-e9b7d9f1f3b7",
   "metadata": {},
   "outputs": [
    {
     "name": "stdout",
     "output_type": "stream",
     "text": [
      "================================\u001b[1m Human Message \u001b[0m=================================\n",
      "\n",
      "안녕, 나는 서울에 살고 있어. 내가 사는 곳의 날씨를 알려줘\n",
      "==================================\u001b[1m Ai Message \u001b[0m==================================\n",
      "Tool Calls:\n",
      "  tavily_search_results_json (call_uxJ3ZCqdw1IcGOh2QqkNWx6R)\n",
      " Call ID: call_uxJ3ZCqdw1IcGOh2QqkNWx6R\n",
      "  Args:\n",
      "    query: 서울 날씨\n",
      "=================================\u001b[1m Tool Message \u001b[0m=================================\n",
      "Name: tavily_search_results_json\n",
      "\n",
      "[{\"title\": \"서울특별시, 서울시, 대한민국 3일 날씨 예보 - AccuWeather\", \"url\": \"https://www.accuweather.com/ko/kr/seoul/226081/weather-forecast/226081\", \"content\": \"서울특별시, 서울시, 대한민국 3일 날씨 예보 | AccuWeather 서울특별시 서울시 19° 오늘 WinterCast 지역 {stormName} 추적기 시간별 일별 레이더 MinuteCast 월 대기질 건강 및 활동 오늘 --WinterCast 시간별 일별 레이더 MinuteCast 월 대기질 건강 및 활동 2 한파 주의보현재 기상 ----- AM 12:55 19°F RealFeel® 19° 대체로 맑음 추가 상세 정보 바람 북북서 4mi/h 돌풍 6mi/h 대기질 나쁨전망 -- 화요일 심야 진눈깨비와 어는 비가 내림WinterCast® ----------- 늦은 화 밤  우박 2 시간 지속 37° 20° 대체로 맑음 맑고 추움 2%화 2. 42° 20° 오전 중 때때로 비와 보슬비가 내림; 흐림 대체로 맑고 추움 69%목 2. 44° 25° 대체로 맑음 약간 흐림 0%토 2. 50° 32° 약간 흐림 맑음 0%화 2. 46° 26° 약간 흐림 대체로 흐림 1% 전 세계 아시아 대한민국 서울시 서울특별시\", \"score\": 0.7293082}, {\"title\": \"서울특별시 일기예보 및 날씨 - The Weather Channel\", \"url\": \"https://weather.com/ko-KR/weather/today/l/36994b6d164c4043d2ec43cc7d39f5447d3fc0b10bcc175e4593cd4f929976ea\", \"content\": \"신촌동 일기예보 및 날씨 - The Weather Channel | Weather.com 알제리 | العربية알제리 | Français앙골라 | Português베냉 | Français부르키나파소 | Français부룬디 | Français카메룬 | Français카메룬 | English카보베르데 | Português중앙 아프리카 공화국 | Français차드 | Français차드 | العربية코모로 | Français코모로 | العربيةDemocratic Republic of the Congo | Français콩고 공화국 | Français코트디부아르 | Français지부티 | Français지부티 | العربية이집트 | العربية적도 기니 | Español에리트레아 | العربية가봉 | Français감비아 | English가나 | English기니 | Français기니비사우 | Português케냐 | English레소토 | English라이베리아 | English리비아 | العربية마다가스카르 | Français말리 | Français모리타니 | العربية모리셔스 | English모리셔스 | Français모로코 | العربية모로코 | Français모잠비크 | Português나미비아 | English니제르 | Français나이지리아 | English르완다 | Français르완다 | English상투메 프린시페 | Português세네갈 | Français시에라리온 | English소말리아 | العربية남아프리카 | English남수단 | English수단 | العربية스와질란드 | English탄자니아 | English토고 | Français튀니지 | العربية우간다 | English\", \"score\": 0.46672463}]\n",
      "==================================\u001b[1m Ai Message \u001b[0m==================================\n",
      "\n",
      "현재 서울의 날씨는 다음과 같습니다:\n",
      "\n",
      "- **온도**: 약 19°F (약 -7°C)\n",
      "- **상태**: 대체로 맑음\n",
      "- **바람**: 북북서 방향에서 시속 4마일\n",
      "- **대기질**: 나쁨\n",
      "\n",
      "추가적인 정보는 다음 링크에서 확인할 수 있습니다:\n",
      "- [AccuWeather - 서울 날씨](https://www.accuweather.com/ko/kr/seoul/226081/weather-forecast/226081)\n",
      "- [The Weather Channel - 서울 날씨](https://weather.com/ko-KR/weather/today/l/36994b6d164c4043d2ec43cc7d39f5447d3fc0b10bcc175e4593cd4f929976ea)\n",
      "\n",
      "날씨를 잘 확인하시고, 외출 시 따뜻하게 입으세요!\n"
     ]
    }
   ],
   "source": [
    "# agent 사용\n",
    "for step in agent_executor.stream(\n",
    "    {\"messages\": [HumanMessage(content=\"안녕, 나는 서울에 살고 있어. 내가 사는 곳의 날씨를 알려줘\")]},\n",
    "    config,\n",
    "    stream_mode=\"values\"\n",
    "):\n",
    "    step[\"messages\"][-1].pretty_print()"
   ]
  },
  {
   "cell_type": "markdown",
   "id": "fce1f71f-ef0b-4dd7-b4c5-566f4cb0187a",
   "metadata": {},
   "source": [
    "Example [LangSmith trace](https://smith.langchain.com/o/351c6cd9-1396-5c74-9478-1ee6a22a6433/projects/p/acec9d4d-4978-4597-adff-789cd42e200f?timeModel=%7B%22duration%22%3A%227d%22%7D&peek=17495aca-857d-4d57-95e7-6c05ac8348d7)"
   ]
  },
  {
   "cell_type": "markdown",
   "id": "8962d3ee-f08f-443e-9763-d78ecaab5fde",
   "metadata": {},
   "source": [
    "### 여러개의 Tool 적용"
   ]
  },
  {
   "cell_type": "code",
   "execution_count": 12,
   "id": "46a588e4",
   "metadata": {},
   "outputs": [],
   "source": [
    "# 계산기 함수 정의\n",
    "def calculator(expression: str) -> str:\n",
    "    \"\"\"주어진 수학 표현식을 평가하여 결과를 반환합니다.\"\"\"\n",
    "    try:\n",
    "        result = eval(expression)\n",
    "        return str(result)\n",
    "    except Exception as e:\n",
    "        return f\"오류: {e}\"\n",
    "\n",
    "tools = [search, calculator]"
   ]
  },
  {
   "cell_type": "code",
   "execution_count": 13,
   "id": "38f143fe-da7e-4b3b-9e86-38ca51efe737",
   "metadata": {},
   "outputs": [],
   "source": [
    "# 에이전트의 메모리 저장 객체 생성\n",
    "memory = MemorySaver()  \n",
    "\n",
    "# 에이전트 실행 객체 생성\n",
    "agent_executor = create_react_agent(model, tools, checkpointer=memory)\n",
    "\n",
    "# 에이전트 실행 구성 설정\n",
    "config = {\"configurable\": {\"thread_id\": \"abc123\"}}"
   ]
  },
  {
   "cell_type": "code",
   "execution_count": 14,
   "id": "686863f1-b471-460c-9f9d-29a2c41c92ac",
   "metadata": {},
   "outputs": [
    {
     "name": "stdout",
     "output_type": "stream",
     "text": [
      "================================\u001b[1m Human Message \u001b[0m=================================\n",
      "\n",
      "오늘의 서울의 기온 곱하기 3 은 얼마인가요 ?\n",
      "==================================\u001b[1m Ai Message \u001b[0m==================================\n",
      "Tool Calls:\n",
      "  tavily_search_results_json (call_99CQuB5n9nvZnR67hSPNcqm1)\n",
      " Call ID: call_99CQuB5n9nvZnR67hSPNcqm1\n",
      "  Args:\n",
      "    query: 서울 기온\n",
      "=================================\u001b[1m Tool Message \u001b[0m=================================\n",
      "Name: tavily_search_results_json\n",
      "\n",
      "[{\"title\": \"서울특별시, 서울시, 대한민국 현재 날씨 - AccuWeather\", \"url\": \"https://www.accuweather.com/ko/kr/seoul/226081/current-weather/226081\", \"content\": \"서울특별시, 서울시, 대한민국 현재 날씨 | AccuWeather 서울특별시, 서울시 ========== 31°F 현재 위치 사용 서울특별시 서울시 31° 서울특별시, 서울시 날씨 오늘 WinterCast 지역 {stormName} 추적기 시간별 일별 레이더 MinuteCast 월 대기질 건강 및 활동 오늘 WinterCast 시간별 일별 레이더 MinuteCast 월 대기질 건강 및 활동 RealFeel® 36° 추움 RealFeel Shade™ 32° 추움 36° 32° 최대 자외선 지수 남남서 4mi/h 4mi/h 8° F 10mi RealFeel® 37° 추움 RealFeel Shade™ 33° 추움 최대 자외선 지수3 보통 바람서남서 5mi/h 강수 확률40% 강수0.00in 강수 시간2 RealFeel® 18° 매우 추움 맑고 추움 바람남남동 2mi/h 강수 확률0% 강수0.00in 일몰 PM 6:05 일출 PM 3:32 36° 17° 36° 19° 45° 29° ### 시간별### 일별### 월 전 세계 아시아 대한민국 서울시 서울특별시 동작구, 서울시 마포구, 서울시 서대문구, 서울시\", \"score\": 0.58465123}, {\"title\": \"서울 ·경기도 중기예보 - 기상청 날씨누리\", \"url\": \"https://www.weather.go.kr/w/weather/forecast/mid-term.do?stnId1=109\", \"content\": \"날씨 바다 영상·일기도 태풍 기후 기후변화 지진·화산 테마날씨 황사 관측 소식·지식 개편된 날씨누리 홈페이지 첫 화면에서 지도를 통한 실시간 기상정보와 레이더영상, 전국 특보 현황을 조회할 수 있으며, 내 지역의 현재 기상상황과 대기질 상태, 일출/일몰 시각을 확인할 수 있습니다. 바다날씨를 조회하고자 하는 경우, '날씨누리 바다>바다예보>일일예보' 페이지에서 해역을 선택하여 해역별 바다날씨를 확인할 수 있습니다. 현재 위치 설정 혹은 검색을 통해 조회한 육상지역 및 해역은 위치 정보 우측의 별표를 클릭하여 관심지역으로 설정할 수 있으며, 관심지역 설정 해제 또한 별표를 다시 클릭하여 해제할 수 있습니다. 설정한 관심지역은 현재 위치 정보 우측의 화살표를 클릭하여 확인할 수 있으며, 사용중인 브라우저 캐시 영역에 저장되므로 캐시 삭제시 설정한 관심지역 정보가 초기화됩니다.\\\" 날씨누리 첫화면에서 육상 및 해상의 현재 기상정보, 초단기 강수예측, 특보 상황을 지도상에서 확인할 수 있습니다.\", \"score\": 0.1783973}]\n",
      "==================================\u001b[1m Ai Message \u001b[0m==================================\n",
      "Tool Calls:\n",
      "  calculator (call_UKfCNnr9co6ryDwF0utf7raO)\n",
      " Call ID: call_UKfCNnr9co6ryDwF0utf7raO\n",
      "  Args:\n",
      "    expression: 31*3\n",
      "=================================\u001b[1m Tool Message \u001b[0m=================================\n",
      "Name: calculator\n",
      "\n",
      "93\n",
      "==================================\u001b[1m Ai Message \u001b[0m==================================\n",
      "\n",
      "오늘 서울의 기온은 31°F입니다. 이를 3배하면 93입니다.\n"
     ]
    }
   ],
   "source": [
    "# 에이전트 실행\n",
    "for step in agent_executor.stream(\n",
    "    {\"messages\": [HumanMessage(content=\"오늘의 서울의 기온 곱하기 3 은 얼마인가요 ?\")]},\n",
    "    config,\n",
    "    stream_mode=\"values\"\n",
    "):\n",
    "    step[\"messages\"][-1].pretty_print()"
   ]
  },
  {
   "cell_type": "code",
   "execution_count": 17,
   "id": "3da43b46-fd8e-4af4-b65c-5aca52a8a622",
   "metadata": {},
   "outputs": [
    {
     "data": {
      "text/plain": [
       "{'messages': [HumanMessage(content='오늘의 서울의 기온 곱하기 3 은 얼마인가요 ?', additional_kwargs={}, response_metadata={}, id='c48affd5-94fe-4249-b1ce-68c485b9c3a4'),\n",
       "  AIMessage(content='', additional_kwargs={'tool_calls': [{'id': 'call_99CQuB5n9nvZnR67hSPNcqm1', 'function': {'arguments': '{\"query\":\"서울 기온\"}', 'name': 'tavily_search_results_json'}, 'type': 'function'}], 'refusal': None}, response_metadata={'token_usage': {'completion_tokens': 21, 'prompt_tokens': 121, 'total_tokens': 142, 'completion_tokens_details': {'accepted_prediction_tokens': 0, 'audio_tokens': 0, 'reasoning_tokens': 0, 'rejected_prediction_tokens': 0}, 'prompt_tokens_details': {'audio_tokens': 0, 'cached_tokens': 0}}, 'model_name': 'gpt-4o-mini-2024-07-18', 'system_fingerprint': 'fp_06737a9306', 'finish_reason': 'tool_calls', 'logprobs': None}, id='run-752c450c-abbc-4b03-bb91-d241774b1bf5-0', tool_calls=[{'name': 'tavily_search_results_json', 'args': {'query': '서울 기온'}, 'id': 'call_99CQuB5n9nvZnR67hSPNcqm1', 'type': 'tool_call'}], usage_metadata={'input_tokens': 121, 'output_tokens': 21, 'total_tokens': 142, 'input_token_details': {'audio': 0, 'cache_read': 0}, 'output_token_details': {'audio': 0, 'reasoning': 0}}),\n",
       "  ToolMessage(content='[{\"title\": \"서울특별시, 서울시, 대한민국 현재 날씨 - AccuWeather\", \"url\": \"https://www.accuweather.com/ko/kr/seoul/226081/current-weather/226081\", \"content\": \"서울특별시, 서울시, 대한민국 현재 날씨 | AccuWeather 서울특별시, 서울시 ========== 31°F 현재 위치 사용 서울특별시 서울시 31° 서울특별시, 서울시 날씨 오늘 WinterCast 지역 {stormName} 추적기 시간별 일별 레이더 MinuteCast 월 대기질 건강 및 활동 오늘 WinterCast 시간별 일별 레이더 MinuteCast 월 대기질 건강 및 활동 RealFeel® 36° 추움 RealFeel Shade™ 32° 추움 36° 32° 최대 자외선 지수 남남서 4mi/h 4mi/h 8° F 10mi RealFeel® 37° 추움 RealFeel Shade™ 33° 추움 최대 자외선 지수3 보통 바람서남서 5mi/h 강수 확률40% 강수0.00in 강수 시간2 RealFeel® 18° 매우 추움 맑고 추움 바람남남동 2mi/h 강수 확률0% 강수0.00in 일몰 PM 6:05 일출 PM 3:32 36° 17° 36° 19° 45° 29° ### 시간별### 일별### 월 전 세계 아시아 대한민국 서울시 서울특별시 동작구, 서울시 마포구, 서울시 서대문구, 서울시\", \"score\": 0.58465123}, {\"title\": \"서울 ·경기도 중기예보 - 기상청 날씨누리\", \"url\": \"https://www.weather.go.kr/w/weather/forecast/mid-term.do?stnId1=109\", \"content\": \"날씨 바다 영상·일기도 태풍 기후 기후변화 지진·화산 테마날씨 황사 관측 소식·지식 개편된 날씨누리 홈페이지 첫 화면에서 지도를 통한 실시간 기상정보와 레이더영상, 전국 특보 현황을 조회할 수 있으며, 내 지역의 현재 기상상황과 대기질 상태, 일출/일몰 시각을 확인할 수 있습니다. 바다날씨를 조회하고자 하는 경우, \\'날씨누리 바다>바다예보>일일예보\\' 페이지에서 해역을 선택하여 해역별 바다날씨를 확인할 수 있습니다. 현재 위치 설정 혹은 검색을 통해 조회한 육상지역 및 해역은 위치 정보 우측의 별표를 클릭하여 관심지역으로 설정할 수 있으며, 관심지역 설정 해제 또한 별표를 다시 클릭하여 해제할 수 있습니다. 설정한 관심지역은 현재 위치 정보 우측의 화살표를 클릭하여 확인할 수 있으며, 사용중인 브라우저 캐시 영역에 저장되므로 캐시 삭제시 설정한 관심지역 정보가 초기화됩니다.\\\\\" 날씨누리 첫화면에서 육상 및 해상의 현재 기상정보, 초단기 강수예측, 특보 상황을 지도상에서 확인할 수 있습니다.\", \"score\": 0.1783973}]', name='tavily_search_results_json', id='29d3ee06-a814-4278-83bb-97c22cac30ac', tool_call_id='call_99CQuB5n9nvZnR67hSPNcqm1', artifact={'query': '서울 기온', 'follow_up_questions': None, 'answer': None, 'images': [], 'results': [{'url': 'https://www.accuweather.com/ko/kr/seoul/226081/current-weather/226081', 'title': '서울특별시, 서울시, 대한민국 현재 날씨 - AccuWeather', 'content': '서울특별시, 서울시, 대한민국 현재 날씨 | AccuWeather 서울특별시, 서울시 ========== 31°F 현재 위치 사용 서울특별시 서울시 31° 서울특별시, 서울시 날씨 오늘 WinterCast 지역 {stormName} 추적기 시간별 일별 레이더 MinuteCast 월 대기질 건강 및 활동 오늘 WinterCast 시간별 일별 레이더 MinuteCast 월 대기질 건강 및 활동 RealFeel® 36° 추움 RealFeel Shade™ 32° 추움 36° 32° 최대 자외선 지수 남남서 4mi/h 4mi/h 8° F 10mi RealFeel® 37° 추움 RealFeel Shade™ 33° 추움 최대 자외선 지수3 보통 바람서남서 5mi/h 강수 확률40% 강수0.00in 강수 시간2 RealFeel® 18° 매우 추움 맑고 추움 바람남남동 2mi/h 강수 확률0% 강수0.00in 일몰 PM 6:05 일출 PM 3:32 36° 17° 36° 19° 45° 29° ### 시간별### 일별### 월 전 세계 아시아 대한민국 서울시 서울특별시 동작구, 서울시 마포구, 서울시 서대문구, 서울시', 'score': 0.58465123, 'raw_content': None}, {'url': 'https://www.weather.go.kr/w/weather/forecast/mid-term.do?stnId1=109', 'title': '서울 ·경기도 중기예보 - 기상청 날씨누리', 'content': '날씨 바다 영상·일기도 태풍 기후 기후변화 지진·화산 테마날씨 황사 관측 소식·지식 개편된 날씨누리 홈페이지 첫 화면에서 지도를 통한 실시간 기상정보와 레이더영상, 전국 특보 현황을 조회할 수 있으며, 내 지역의 현재 기상상황과 대기질 상태, 일출/일몰 시각을 확인할 수 있습니다. 바다날씨를 조회하고자 하는 경우, \\'날씨누리 바다>바다예보>일일예보\\' 페이지에서 해역을 선택하여 해역별 바다날씨를 확인할 수 있습니다. 현재 위치 설정 혹은 검색을 통해 조회한 육상지역 및 해역은 위치 정보 우측의 별표를 클릭하여 관심지역으로 설정할 수 있으며, 관심지역 설정 해제 또한 별표를 다시 클릭하여 해제할 수 있습니다. 설정한 관심지역은 현재 위치 정보 우측의 화살표를 클릭하여 확인할 수 있으며, 사용중인 브라우저 캐시 영역에 저장되므로 캐시 삭제시 설정한 관심지역 정보가 초기화됩니다.\" 날씨누리 첫화면에서 육상 및 해상의 현재 기상정보, 초단기 강수예측, 특보 상황을 지도상에서 확인할 수 있습니다.', 'score': 0.1783973, 'raw_content': None}], 'response_time': 2.22}),\n",
       "  AIMessage(content='', additional_kwargs={'tool_calls': [{'id': 'call_UKfCNnr9co6ryDwF0utf7raO', 'function': {'arguments': '{\"expression\":\"31*3\"}', 'name': 'calculator'}, 'type': 'function'}], 'refusal': None}, response_metadata={'token_usage': {'completion_tokens': 17, 'prompt_tokens': 861, 'total_tokens': 878, 'completion_tokens_details': {'accepted_prediction_tokens': 0, 'audio_tokens': 0, 'reasoning_tokens': 0, 'rejected_prediction_tokens': 0}, 'prompt_tokens_details': {'audio_tokens': 0, 'cached_tokens': 0}}, 'model_name': 'gpt-4o-mini-2024-07-18', 'system_fingerprint': 'fp_06737a9306', 'finish_reason': 'tool_calls', 'logprobs': None}, id='run-15a90568-c14d-4b98-8997-98cc93719c5c-0', tool_calls=[{'name': 'calculator', 'args': {'expression': '31*3'}, 'id': 'call_UKfCNnr9co6ryDwF0utf7raO', 'type': 'tool_call'}], usage_metadata={'input_tokens': 861, 'output_tokens': 17, 'total_tokens': 878, 'input_token_details': {'audio': 0, 'cache_read': 0}, 'output_token_details': {'audio': 0, 'reasoning': 0}}),\n",
       "  ToolMessage(content='93', name='calculator', id='9b2f7253-5938-496c-8291-643ac9f12987', tool_call_id='call_UKfCNnr9co6ryDwF0utf7raO'),\n",
       "  AIMessage(content='오늘 서울의 기온은 31°F입니다. 이를 3배하면 93입니다.', additional_kwargs={'refusal': None}, response_metadata={'token_usage': {'completion_tokens': 22, 'prompt_tokens': 885, 'total_tokens': 907, 'completion_tokens_details': {'accepted_prediction_tokens': 0, 'audio_tokens': 0, 'reasoning_tokens': 0, 'rejected_prediction_tokens': 0}, 'prompt_tokens_details': {'audio_tokens': 0, 'cached_tokens': 0}}, 'model_name': 'gpt-4o-mini-2024-07-18', 'system_fingerprint': 'fp_06737a9306', 'finish_reason': 'stop', 'logprobs': None}, id='run-fcfddf28-d1c1-4035-b5d2-d514378be6af-0', usage_metadata={'input_tokens': 885, 'output_tokens': 22, 'total_tokens': 907, 'input_token_details': {'audio': 0, 'cache_read': 0}, 'output_token_details': {'audio': 0, 'reasoning': 0}})]}"
      ]
     },
     "execution_count": 17,
     "metadata": {},
     "output_type": "execute_result"
    }
   ],
   "source": [
    "step"
   ]
  },
  {
   "cell_type": "code",
   "execution_count": null,
   "id": "6e4fda10-1e3a-4218-a331-f62987570601",
   "metadata": {},
   "outputs": [],
   "source": []
  }
 ],
 "metadata": {
  "colab": {
   "provenance": []
  },
  "kernelspec": {
   "display_name": "Python 3 (ipykernel)",
   "language": "python",
   "name": "python3"
  },
  "language_info": {
   "codemirror_mode": {
    "name": "ipython",
    "version": 3
   },
   "file_extension": ".py",
   "mimetype": "text/x-python",
   "name": "python",
   "nbconvert_exporter": "python",
   "pygments_lexer": "ipython3",
   "version": "3.9.21"
  }
 },
 "nbformat": 4,
 "nbformat_minor": 5
}

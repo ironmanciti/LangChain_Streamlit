{
 "cells": [
  {
   "cell_type": "markdown",
   "id": "d51f4020-8cb4-4561-b6d2-98589737dda8",
   "metadata": {},
   "source": [
    "# LangGraph를 사용한 고객 지원 챗봇을 구축\n",
    "\n",
    "- 웹 검색을 통해 일반적인 질문에 답변 \n",
    "- 대화 상태를 유지하여 연속적인 대화  \n",
    "- 복잡한 질문을 사람이 검토하도록 라우팅  \n",
    "- 사용자 지정 상태(Custom State)를 활용하여 챗봇의 동작 제어  \n",
    "- 대화 흐름을 되돌리고(Rewind), 다른 대화 경로 탐색 "
   ]
  },
  {
   "cell_type": "code",
   "execution_count": 26,
   "id": "a213aa99-6fe2-465e-a21b-b743cabfb74e",
   "metadata": {},
   "outputs": [
    {
     "data": {
      "text/plain": [
       "True"
      ]
     },
     "execution_count": 26,
     "metadata": {},
     "output_type": "execute_result"
    }
   ],
   "source": [
    "import os\n",
    "from dotenv import load_dotenv\n",
    "load_dotenv()"
   ]
  },
  {
   "cell_type": "code",
   "execution_count": 27,
   "id": "cb0aec0a-9a1e-45a3-bf66-d89895d172f8",
   "metadata": {},
   "outputs": [],
   "source": [
    "# LangSmith 추적 설정 활성화\n",
    "os.environ[\"LANGSMITH_TRACING\"] = \"true\""
   ]
  },
  {
   "cell_type": "code",
   "execution_count": 28,
   "id": "fec86f20-d4b0-4cfa-99a9-0c5a281f40f5",
   "metadata": {},
   "outputs": [],
   "source": [
    "from langchain_openai import ChatOpenAI\n",
    "\n",
    "llm = ChatOpenAI(model=\"gpt-4.1-nano\")"
   ]
  },
  {
   "cell_type": "markdown",
   "id": "8df89407-dce9-4ce5-bca0-4e3b04cd17cd",
   "metadata": {},
   "source": [
    "먼저 모델을 직접 사용해 봅니다. `ChatModel`은 LangChain의 **\"Runnable\"** 인스턴스이며, 이는 표준화된 인터페이스를 통해 상호작용할 수 있음을 의미합니다.  \n",
    "\n",
    "모델을 간단하게 호출하려면 `.invoke` 메서드에 **메시지 목록**을 전달하면 됩니다."
   ]
  },
  {
   "cell_type": "code",
   "execution_count": 29,
   "id": "bb8a90fd-c857-4763-b7a8-c14e5b710092",
   "metadata": {},
   "outputs": [
    {
     "data": {
      "text/plain": [
       "'안녕 길동아! 만나서 반가워. 어떻게 지내?'"
      ]
     },
     "execution_count": 29,
     "metadata": {},
     "output_type": "execute_result"
    }
   ],
   "source": [
    "from langchain_core.messages import HumanMessage\n",
    "\n",
    "response = llm.invoke([HumanMessage(content=\"안녕! 나는 길동이야.\")])\n",
    "response.content"
   ]
  },
  {
   "cell_type": "markdown",
   "id": "71051507-d55c-4af8-b843-f6708ef3c6f5",
   "metadata": {},
   "source": [
    "모델 자체는 **상태(state)** 라는 개념을 가지고 있지 않습니다. 예를 들어, 후속 질문을 하면:"
   ]
  },
  {
   "cell_type": "code",
   "execution_count": 30,
   "id": "c75c18fa-413d-483c-be3c-219c7848c3d5",
   "metadata": {},
   "outputs": [
    {
     "data": {
      "text/plain": [
       "'죄송하지만, 저는 당신의 이름을 알지 못합니다. 이름을 알려주시면 계속 대화를 나눌 수 있어요!'"
      ]
     },
     "execution_count": 30,
     "metadata": {},
     "output_type": "execute_result"
    }
   ],
   "source": [
    "response = llm.invoke([HumanMessage(content=\"내 이름이 뭐라고 했지?\")])\n",
    "response.content"
   ]
  },
  {
   "cell_type": "code",
   "execution_count": 31,
   "id": "26f2aba7-ac8f-4da5-b142-9318db879d9f",
   "metadata": {},
   "outputs": [
    {
     "data": {
      "text/plain": [
       "'길동이 라고 하셨다고 했어요!'"
      ]
     },
     "execution_count": 31,
     "metadata": {},
     "output_type": "execute_result"
    }
   ],
   "source": [
    "from langchain_core.messages import AIMessage\n",
    "\n",
    "response = llm.invoke(\n",
    "    [\n",
    "        HumanMessage(content=\"안녕! 나는 길동이야.\"),\n",
    "        AIMessage(content=\"안녕하세요, 길동님. 무엇을 도와 드릴까요?\"),\n",
    "        HumanMessage(content=\"내 이름이 뭐라고 했지?\"),\n",
    "    ]\n",
    ")\n",
    "\n",
    "response.content"
   ]
  },
  {
   "cell_type": "markdown",
   "id": "e5b06d60-c560-4b1d-9202-05f16b3cac0d",
   "metadata": {},
   "source": [
    "<br>\n",
    "이제 좋은 응답을 받는 것을 확인할 수 있습니다!  \n",
    "\n",
    "이것이 챗봇이 **대화형 상호작용**을 할 수 있는 기본 아이디어입니다.  "
   ]
  },
  {
   "cell_type": "markdown",
   "id": "59c7a1b5-6039-4915-9b70-61b4d825737f",
   "metadata": {},
   "source": [
    "## 챗봇에 메모리 기능 추가¶\n",
    "\n",
    "현재 챗봇은 **사용자 질문에 도구를 활용해 답변할 수 있지만, 이전 대화의 맥락을 기억하지 못합니다.**  \n",
    "이 때문에 **일관된 멀티턴(Multi-turn) 대화를 진행하는 데 한계가 있습니다.**  \n",
    "\n",
    "LangGraph는 **\"지속적 체크포인트(Persistent Checkpointing)\"** 기능을 통해 이 문제를 해결합니다.  \n",
    "\n",
    "그래프를 컴파일할 때 checkpointing을 활성화하고 그래프를 호출할 때 `thread_id`를 제공하면, LangGraph가 자동으로 상태(state)를 저장하고, 다음 실행 시 이전 상태를 복원합니다.  \n",
    "\n",
    "즉, **동일한 `thread_id`** 를 사용하여 그래프를 호출하면, 이전 대화 상태를 불러와서 이어서 대화할 수 있습니다!"
   ]
  },
  {
   "cell_type": "code",
   "execution_count": 32,
   "id": "ccf74912-e1bd-4753-96f0-ad3398a9590a",
   "metadata": {},
   "outputs": [],
   "source": [
    "from langgraph.checkpoint.memory import MemorySaver\n",
    "\n",
    "memory = MemorySaver()"
   ]
  },
  {
   "cell_type": "markdown",
   "id": "4a1e5e51-8ec4-4b53-9154-c83b0097756a",
   "metadata": {},
   "source": [
    "우리는 현재 **메모리를 활용하는(in-memory) 체크포인터**를 사용하고 있습니다.  \n",
    "\n",
    "이 방식은 튜토리얼 환경에서는 편리하지만, 데이터가 메모리에만 저장되므로 영구적이지 않습니다. 실제 프로덕션 환경에서는 `SqliteSaver` 또는 `PostgresSaver`를 사용하여 데이터베이스(DB)와 연결하는 것이 일반적입니다.\n",
    "\n",
    "---"
   ]
  },
  {
   "cell_type": "code",
   "execution_count": 33,
   "id": "4bd97d49-5c4f-422e-8789-9e5409a14ae5",
   "metadata": {},
   "outputs": [
    {
     "data": {
      "image/png": "[encoded data removed]",
      "text/plain": [
       "<langgraph.graph.state.CompiledStateGraph object at 0x0000013C61E66910>"
      ]
     },
     "execution_count": 33,
     "metadata": {},
     "output_type": "execute_result"
    }
   ],
   "source": [
    "from langgraph.graph import START, MessagesState, StateGraph\n",
    "\n",
    "# Define a new graph\n",
    "workflow = StateGraph(state_schema=MessagesState)\n",
    "\n",
    "# Define the function that calls the model\n",
    "def call_model(state: MessagesState):\n",
    "    response = llm.invoke(state[\"messages\"])\n",
    "    return {\"messages\": response}\n",
    "\n",
    "# Define the (single) node in the graph\n",
    "workflow.add_edge(START, \"model\")\n",
    "workflow.add_node(\"model\", call_model)\n",
    "\n",
    "# Add memory\n",
    "memory = MemorySaver()\n",
    "app = workflow.compile(checkpointer=memory)\n",
    "app"
   ]
  },
  {
   "cell_type": "markdown",
   "id": "b38c5908-301c-4570-a39e-3890e00d3249",
   "metadata": {},
   "source": [
    "이제 챗봇과 상호작용할 수 있습니다. 먼저, 이 대화를 식별할 수 있는 **`thread`(스레드)** 를 선택합니다."
   ]
  },
  {
   "cell_type": "code",
   "execution_count": 34,
   "id": "de68f3f7-6674-4331-9306-e5c6f05fbda8",
   "metadata": {},
   "outputs": [
    {
     "name": "stdout",
     "output_type": "stream",
     "text": [
      "==================================\u001b[1m Ai Message \u001b[0m==================================\n",
      "\n",
      "안녕하세요, 길동님! 반갑습니다. 어떻게 도와드릴까요?\n"
     ]
    }
   ],
   "source": [
    "config = {\"configurable\": {\"thread_id\": \"1\"}}\n",
    "\n",
    "user_input = [HumanMessage(\"안녕하세요! 제 이름은 길동이에요.\")]\n",
    "\n",
    "# config는 stream() 또는 invoke()의 두 번째 인자\n",
    "output = app.invoke(\n",
    "    {\"messages\": user_input},\n",
    "    config,\n",
    ")\n",
    "\n",
    "output['messages'][-1].pretty_print()"
   ]
  },
  {
   "cell_type": "markdown",
   "id": "79049d77-3779-4e35-90d7-897703930630",
   "metadata": {},
   "source": [
    "이제 후속 질문(follow-up question)을 해봅시다. 챗봇이 사용자의 이름을 기억하는지 확인해 봅니다."
   ]
  },
  {
   "cell_type": "code",
   "execution_count": 35,
   "id": "c550ffba-4df9-479c-a130-2338f7132ab3",
   "metadata": {},
   "outputs": [
    {
     "name": "stdout",
     "output_type": "stream",
     "text": [
      "==================================\u001b[1m Ai Message \u001b[0m==================================\n",
      "\n",
      "네, 길동님이세요!\n"
     ]
    }
   ],
   "source": [
    "user_input = [HumanMessage(\"내 이름이 뭐야?\")]\n",
    "\n",
    "output = app.invoke(\n",
    "    {\"messages\": user_input},\n",
    "    config,\n",
    ")\n",
    "\n",
    "output['messages'][-1].pretty_print()"
   ]
  },
  {
   "cell_type": "code",
   "execution_count": 36,
   "id": "fd651247-ce10-4cae-b1ea-6d3a283ae48a",
   "metadata": {},
   "outputs": [
    {
     "name": "stdout",
     "output_type": "stream",
     "text": [
      "==================================\u001b[1m Ai Message \u001b[0m==================================\n",
      "\n",
      "죄송하지만, 저는 당신의 이름을 알지 못합니다. 이름을 알려주시면 도와드릴 수 있어요!\n"
     ]
    }
   ],
   "source": [
    "config = {\"configurable\": {\"thread_id\": \"2\"}}\n",
    "\n",
    "user_input = [HumanMessage(\"내 이름이 뭐야?\")]\n",
    "\n",
    "output = app.invoke(\n",
    "    {\"messages\": user_input},\n",
    "    config,\n",
    ")\n",
    "\n",
    "output['messages'][-1].pretty_print()"
   ]
  },
  {
   "cell_type": "code",
   "execution_count": 37,
   "id": "a0d92f72-cbc9-4416-91bb-5fe8e2fa9fa6",
   "metadata": {},
   "outputs": [
    {
     "name": "stdout",
     "output_type": "stream",
     "text": [
      "==================================\u001b[1m Ai Message \u001b[0m==================================\n",
      "\n",
      "길동님이세요!\n"
     ]
    }
   ],
   "source": [
    "config = {\"configurable\": {\"thread_id\": \"1\"}}\n",
    "user_input = [HumanMessage(\"내 이름이 뭐야?\")]\n",
    "\n",
    "output = app.invoke(\n",
    "    {\"messages\": user_input},\n",
    "    config,\n",
    ")\n",
    "\n",
    "output['messages'][-1].pretty_print()"
   ]
  },
  {
   "cell_type": "markdown",
   "id": "3c294f10-0aaf-4feb-8642-562f9f22ba90",
   "metadata": {},
   "source": [
    "### 프롬프트 템플릿(Prompt Templates)을 사용하여 LLM 호출 최적화\n",
    "\n",
    "**프롬프트 템플릿** 은 **원시 사용자 입력(raw user input)** 을 LLM이 처리할 수 있는 형식으로 변환하는 데 도움을 줍니다.   \n",
    "\n",
    "1. 먼저, **시스템 메시지(system message)** 를 추가하여 **사용자 정의 지침(custom instructions)** 을 포함시킵니다. (여전히 메시지를 입력으로 사용)  \n",
    "2. 다음으로, 메시지 외에 **더 많은 입력 정보** 를 추가합니다.  \n",
    "\n",
    "#### **시스템 메시지(System Message) 추가하기**\n",
    "\n",
    "시스템 메시지를 추가하기 위해 **`ChatPromptTemplate`** 을 생성합니다. 여기서는 메시지 전달을 위해 **`MessagesPlaceholder`** 를 사용하겠습니다.  \n",
    "\n",
    "이렇게 하면 LLM에 전달되는 입력이 더 구조화되고, 챗봇의 동작을 더 정교하게 제어할 수 있습니다.  \n",
    "\n",
    "```\n",
    "┌─────────────────────────────┐\n",
    "│       LangGraph State       │\n",
    "│  MessagesState = {\"messages\": [...] } │\n",
    "└─────────────────────────────┘\n",
    "             │\n",
    "             ▼\n",
    " ┌────────────────────────────────────┐\n",
    " │ ChatPromptTemplate.from_messages  │\n",
    " │ ┌──────────────────────────────┐ │\n",
    " │ │ \"system\": \"친구처럼 말해줘\"     │ │\n",
    " │ │ MessagesPlaceholder(\"messages\") │◄─── state[\"messages\"]\n",
    " │ └──────────────────────────────┘ │\n",
    " └────────────────────────────────────┘\n",
    "             │\n",
    "             ▼\n",
    "    llm.invoke(prompt) 수행\n",
    "             │\n",
    "             ▼\n",
    " ┌──────────────────────────────┐\n",
    " │   LLM 응답: AIMessage(...)   │\n",
    " └──────────────────────────────┘\n",
    "             │\n",
    "             ▼\n",
    " ┌──────────────────────────────┐\n",
    " │ return {\"messages\": response}│ ──► 다음 Graph Step 으로 상태 전달\n",
    " └──────────────────────────────┘\n",
    "```"
   ]
  },
  {
   "cell_type": "code",
   "execution_count": 38,
   "id": "a7a0b996-03aa-43fe-87e8-497ffa7f4c03",
   "metadata": {},
   "outputs": [],
   "source": [
    "from langchain_core.prompts import ChatPromptTemplate, MessagesPlaceholder\n",
    "\n",
    "# LLM이 사용자 입력을 더 잘 처리할 수 있도록 프롬프트 템플릿을 설정합니다.\n",
    "prompt_template = ChatPromptTemplate.from_messages(\n",
    "    [\n",
    "        # LLM의 동작 방식을 정의하는 지침\n",
    "        (\n",
    "            \"system\",\n",
    "            \"당신은 친구 처럼 말합니다. 모든 질문에 최선을 다해 대답하세요.\",\n",
    "        ),\n",
    "\n",
    "        # Messages Placeholder - 이전 대화 메시지들을 전달합\n",
    "        MessagesPlaceholder(variable_name=\"messages\"),\n",
    "    ]\n",
    ")"
   ]
  },
  {
   "cell_type": "markdown",
   "id": "22c33e0d-797c-4456-8c02-4d61579dd66a",
   "metadata": {},
   "source": [
    "이제 이 템플릿을 통합하여 애플리케이션을 업데이트할 수 있습니다."
   ]
  },
  {
   "cell_type": "code",
   "execution_count": 39,
   "id": "c490a87c-0ab3-4c3e-8d77-5bbe38a48e1a",
   "metadata": {},
   "outputs": [
    {
     "data": {
      "image/png": "[encoded data removed]",
      "text/plain": [
       "<langgraph.graph.state.CompiledStateGraph object at 0x0000013C605E3310>"
      ]
     },
     "execution_count": 39,
     "metadata": {},
     "output_type": "execute_result"
    }
   ],
   "source": [
    "from langgraph.graph import START, MessagesState, StateGraph\n",
    "\n",
    "# 상태 스키마(State)를 정의하여 그래프 생성기 초기화\n",
    "workflow = StateGraph(state_schema=MessagesState)\n",
    "\n",
    "# 모델 호출 함수 정의\n",
    "def chatbot(state: MessagesState):\n",
    "    # 현재 상태(state)에 포함된 메시지를 기반으로 프롬프트 생성\n",
    "    prompt = prompt_template.invoke(state)\n",
    "    \n",
    "    # 생성된 프롬프트를 LLM에 전달하여 응답을 생성\n",
    "    response = llm.invoke(prompt)\n",
    "    \n",
    "    # LLM 응답을 딕셔너리 형태로 반환 (다음 상태로 전달됨)\n",
    "    return {\"messages\": response}\n",
    "\n",
    "# chatbot 노드를 그래프에 추가\n",
    "workflow.add_node(\"chatbot\", chatbot)\n",
    "\n",
    "# MemorySaver를 사용하여 대화 상태를 저장할 메모리 객체 생성\n",
    "memory = MemorySaver()\n",
    "\n",
    "# 그래프의 시작 지점(START)에서 chatbot 노드로 연결\n",
    "workflow.add_edge(START, \"chatbot\")\n",
    "\n",
    "# 모든 구성 요소를 종합하여 그래프를 컴파일 (메모리를 체크포인터로 사용)\n",
    "graph = workflow.compile(checkpointer=memory)\n",
    "\n",
    "# 컴파일된 그래프 객체를 확인\n",
    "graph"
   ]
  },
  {
   "cell_type": "code",
   "execution_count": 40,
   "id": "2dd72123-4664-46b0-b462-ba21ae0e7753",
   "metadata": {},
   "outputs": [
    {
     "name": "stdout",
     "output_type": "stream",
     "text": [
      "==================================\u001b[1m Ai Message \u001b[0m==================================\n",
      "\n",
      "안녕 길동이! 반가워. 오늘 어떻게 지내? 무슨 얘기 정말 좋아하는데, 뭐 궁금한 거 있으면 편하게 말해줘.\n"
     ]
    }
   ],
   "source": [
    "# 'configurable' 키를 사용하여 추가적인 설정 값을 전달합니다.\n",
    "# 여기서는 'thread_id'를 사용하여 특정 대화 스레드를 식별합니다.\n",
    "config = {\"configurable\": {\"thread_id\": \"abc345\"}}\n",
    "\n",
    "# 메시지 목록에 사용자 메시지 추가\n",
    "input_messages = [HumanMessage(\"안녕. 나는 길동이야.\")]\n",
    "\n",
    "# 애플리케이션 호출\n",
    "# 메시지 상태(State), 설정(config) 전달\n",
    "output = graph.invoke({\"messages\": input_messages}, config)\n",
    "\n",
    "output[\"messages\"][-1].pretty_print()"
   ]
  },
  {
   "cell_type": "code",
   "execution_count": 41,
   "id": "197e0f80-c2c4-44d0-9f91-e0da1fa2c1e8",
   "metadata": {},
   "outputs": [
    {
     "name": "stdout",
     "output_type": "stream",
     "text": [
      "==================================\u001b[1m Ai Message \u001b[0m==================================\n",
      "\n",
      "미안, 길동이야! 네 이름을 정확히 기억 못해서 그런데, 네 이름이 뭐였지? 다시 알려줄래?\n"
     ]
    }
   ],
   "source": [
    "# 'configurable' 키를 사용하여 추가적인 설정 값을 전달합니다.\n",
    "# 여기서는 'thread_id'를 사용하여 특정 대화 스레드를 식별합니다.\n",
    "config = {\"configurable\": {\"thread_id\": \"abc345\"}}\n",
    "\n",
    "# 메시지 목록에 사용자 메시지 추가\n",
    "input_messages = [HumanMessage(\"내 이름이 뭐지?\")]\n",
    "\n",
    "# 애플리케이션 호출\n",
    "# 메시지 상태(State), 설정(config) 전달\n",
    "output = graph.invoke({\"messages\": input_messages}, config)\n",
    "\n",
    "output[\"messages\"][-1].pretty_print()"
   ]
  },
  {
   "cell_type": "code",
   "execution_count": 42,
   "id": "cb13dd19-c0ef-4197-b0aa-b516c76f517c",
   "metadata": {},
   "outputs": [
    {
     "name": "stdout",
     "output_type": "stream",
     "text": [
      "[HumanMessage(content='안녕. 나는 길동이야.', additional_kwargs={}, response_metadata={}, id='ba4174e0-73b6-49c2-a6bd-6d537dd58a2a'), AIMessage(content='안녕 길동이! 반가워. 오늘 어떻게 지내? 무슨 얘기 정말 좋아하는데, 뭐 궁금한 거 있으면 편하게 말해줘.', additional_kwargs={'refusal': None}, response_metadata={'token_usage': {'completion_tokens': 38, 'prompt_tokens': 40, 'total_tokens': 78, 'completion_tokens_details': {'accepted_prediction_tokens': 0, 'audio_tokens': 0, 'reasoning_tokens': 0, 'rejected_prediction_tokens': 0}, 'prompt_tokens_details': {'audio_tokens': 0, 'cached_tokens': 0}}, 'model_name': 'gpt-4.1-nano-2025-04-14', 'system_fingerprint': 'fp_38343a2f8f', 'id': 'chatcmpl-Bn7yvdDK6MHn6r6fk33s7HWr9kSeC', 'service_tier': 'default', 'finish_reason': 'stop', 'logprobs': None}, id='run--3a63431d-58ac-4e06-bb32-59d31e5b3759-0', usage_metadata={'input_tokens': 40, 'output_tokens': 38, 'total_tokens': 78, 'input_token_details': {'audio': 0, 'cache_read': 0}, 'output_token_details': {'audio': 0, 'reasoning': 0}}), HumanMessage(content='내 이름이 뭐지?', additional_kwargs={}, response_metadata={}, id='2bb5176f-1625-445e-afce-1b589272af9e'), AIMessage(content='미안, 길동이야! 네 이름을 정확히 기억 못해서 그런데, 네 이름이 뭐였지? 다시 알려줄래?', additional_kwargs={'refusal': None}, response_metadata={'token_usage': {'completion_tokens': 30, 'prompt_tokens': 92, 'total_tokens': 122, 'completion_tokens_details': {'accepted_prediction_tokens': 0, 'audio_tokens': 0, 'reasoning_tokens': 0, 'rejected_prediction_tokens': 0}, 'prompt_tokens_details': {'audio_tokens': 0, 'cached_tokens': 0}}, 'model_name': 'gpt-4.1-nano-2025-04-14', 'system_fingerprint': 'fp_38343a2f8f', 'id': 'chatcmpl-Bn7yw6XyCzxeZSeeWhmQfrrCY8T0H', 'service_tier': 'default', 'finish_reason': 'stop', 'logprobs': None}, id='run--40579cbe-08b1-4f4a-9141-caeb32e181bb-0', usage_metadata={'input_tokens': 92, 'output_tokens': 30, 'total_tokens': 122, 'input_token_details': {'audio': 0, 'cache_read': 0}, 'output_token_details': {'audio': 0, 'reasoning': 0}})]\n"
     ]
    }
   ],
   "source": [
    "state_snapshot = graph.get_state(config={\"configurable\":{\"thread_id\": \"abc345\"}})\n",
    "print(state_snapshot.values[\"messages\"])  # 이전 메시지 리스트"
   ]
  },
  {
   "cell_type": "markdown",
   "id": "12d0e7ca-42fd-4a6d-a816-a1f38c68cfec",
   "metadata": {},
   "source": [
    "### 무한 loop 로 Chatbot 구현"
   ]
  },
  {
   "cell_type": "code",
   "execution_count": 44,
   "id": "e745c557-6881-4ea8-b557-05cd5104d7c8",
   "metadata": {},
   "outputs": [
    {
     "name": "stdin",
     "output_type": "stream",
     "text": [
      "User:  안녕 나는 길동이야\n"
     ]
    },
    {
     "name": "stdout",
     "output_type": "stream",
     "text": [
      "==================================\u001b[1m Ai Message \u001b[0m==================================\n",
      "\n",
      "안녕, 길동이! 반가워. 어떻게 지내? 오늘 뭐 하고 싶어?\n"
     ]
    },
    {
     "name": "stdin",
     "output_type": "stream",
     "text": [
      "User:  내 이름이 뭐지?\n"
     ]
    },
    {
     "name": "stdout",
     "output_type": "stream",
     "text": [
      "==================================\u001b[1m Ai Message \u001b[0m==================================\n",
      "\n",
      "네 이름이 길동이야! 맞지? 궁금한 게 있으면 언제든 물어봐.\n"
     ]
    },
    {
     "name": "stdin",
     "output_type": "stream",
     "text": [
      "User:  quit\n"
     ]
    },
    {
     "name": "stdout",
     "output_type": "stream",
     "text": [
      "Goodbye!\n"
     ]
    }
   ],
   "source": [
    "# 'configurable' 키를 사용하여 추가적인 설정 값을 전달합니다.\n",
    "# 여기서는 'thread_id'를 사용하여 특정 대화 스레드를 식별합니다.\n",
    "memory = MemorySaver()\n",
    "\n",
    "# 그래프를 메모리 체크포인트와 함께 컴파일합니다.\n",
    "graph = workflow.compile(checkpointer=memory)\n",
    "\n",
    "config = {\"configurable\": {\"thread_id\": \"abc345\"}}\n",
    "\n",
    "while True:\n",
    "    user_input = input(\"User: \")\n",
    "    if user_input.lower() in [\"quit\", \"exit\", \"q\"]:\n",
    "        print(\"Goodbye!\")\n",
    "        break\n",
    "\n",
    "    output = graph.invoke({\"messages\": user_input}, config)\n",
    "    output[\"messages\"][-1].pretty_print()"
   ]
  },
  {
   "cell_type": "markdown",
   "id": "864a067a-541c-45cc-9646-308ee6c51968",
   "metadata": {},
   "source": [
    "------------\n",
    "이제는 chatbot이 외부 정보를 접근할 수도 있고 대화 내용을 기억할 수도 있습니다."
   ]
  },
  {
   "cell_type": "markdown",
   "id": "820256cc-40c5-45d2-92ae-010e82d40b01",
   "metadata": {},
   "source": [
    "### 상태 (State)\n",
    "\n",
    "- node 와 node 간에 정보를 전달할 때 State 객체데 담아 전달\n",
    "- TypedDict : 파이썬 dict 에 타입 힌팅을 추가한 개념\n",
    "- 모든 값을 다 채우지 않아도 된다.\n",
    "- 새로운 node에서 값을 overwrite 방식으로 채운다.\n",
    "- Reducer(add_messages 혹은 operator.add): 자동으로 list에 메시지를 추가해 주는 기능"
   ]
  },
  {
   "cell_type": "code",
   "execution_count": 45,
   "id": "3c647220-d393-43e6-bcec-db078b3e068a",
   "metadata": {},
   "outputs": [
    {
     "name": "stdout",
     "output_type": "stream",
     "text": [
      "[HumanMessage(content='안녕하세요', additional_kwargs={}, response_metadata={}, id='1'), AIMessage(content='반갑습니다', additional_kwargs={}, response_metadata={}, id='2')]\n"
     ]
    }
   ],
   "source": [
    "from typing import Annotated, TypedDict\n",
    "from langgraph.graph.message import add_messages\n",
    "\n",
    "class GraphState(TypedDict):\n",
    "    question: Annotated[list, add_messages]  #질문(query) 누적\n",
    "    context: Annotated[str, \"Context\"]  # 문서 검색 결과\n",
    "    answer: Annotated[str, \"Answer\"]  # 답변\n",
    "    messages: Annotated[list, add_messages]  #message 누적\n",
    "\n",
    "from langchain_core.messages import AIMessage, HumanMessage\n",
    "from langgraph.graph import add_messages\n",
    "\n",
    "# Reducer 사용 예시\n",
    "msg1 = [HumanMessage(content=\"안녕하세요\", id=\"1\")]\n",
    "msg2 = [AIMessage(content=\"반갑습니다\", id=\"2\")]\n",
    "\n",
    "result1 = add_messages(msg1, msg2)\n",
    "print(result1)"
   ]
  },
  {
   "cell_type": "code",
   "execution_count": 46,
   "id": "e437c529-6ba8-4f01-8ddc-2bdff7e1ec26",
   "metadata": {},
   "outputs": [
    {
     "data": {
      "image/png": "[encoded data removed]",
      "text/plain": [
       "<langgraph.graph.state.CompiledStateGraph object at 0x0000013C7F617710>"
      ]
     },
     "execution_count": 46,
     "metadata": {},
     "output_type": "execute_result"
    }
   ],
   "source": [
    "# GraphState 사용 예시\n",
    "def generate_answer(state: GraphState) -> dict:\n",
    "    # prompt 구성\n",
    "    prompt = f\"\"\"\n",
    "    질문: {state['question'][-1].content}\n",
    "    문맥: {state['context']}\n",
    "    답변해 주세요.\n",
    "    \"\"\"\n",
    "\n",
    "    response = llm.invoke(prompt)\n",
    "\n",
    "    # answer 필드에는 텍스트만 저장\n",
    "    answer_text = response.content if isinstance(response, AIMessage) else response\n",
    "\n",
    "    # messages에는 AIMessage 형태로 저장\n",
    "    if isinstance(response, AIMessage):\n",
    "        new_msg = response                       # 이미 AIMessage\n",
    "    else:\n",
    "        new_msg = AIMessage(content=response)    # 문자열이면 래핑\n",
    "\n",
    "    return {\n",
    "        \"answer\": answer_text,\n",
    "        \"messages\": [new_msg]\n",
    "    }\n",
    "\n",
    "workflow = StateGraph(GraphState)\n",
    "\n",
    "workflow.add_node(\"generate_answer\", generate_answer)\n",
    "workflow.add_edge(START, \"generate_answer\")\n",
    "\n",
    "graph = workflow.compile()\n",
    "graph"
   ]
  },
  {
   "cell_type": "code",
   "execution_count": 47,
   "id": "e58b33cf-cfa0-4cd1-81ab-ab1e8dd40499",
   "metadata": {},
   "outputs": [
    {
     "name": "stdout",
     "output_type": "stream",
     "text": [
      "답변: LangChain은 LLM(대형 언어 모델)을 여러 구성요소로 분해하고 이를 체인 형태로 연결하여 복합적인 애플리케이션을 구축할 수 있는 파이썬 프레임워크입니다. 이를 통해 개발자는 효율적이고 유연하게 다양한 자연어 처리 및 인공지능 기능을 구현할 수 있습니다.\n"
     ]
    }
   ],
   "source": [
    "initial_state = {\n",
    "    \"question\": [HumanMessage(content=\"LangChain이 뭔가요?\")],\n",
    "    \"context\": \"LangChain은 LLM을 구성요소로 나누고 체인으로 구성할 수 있는 파이썬 프레임워크입니다.\",\n",
    "    \"answer\": \"\",\n",
    "    \"messages\": [HumanMessage(content=\"LangChain이 뭔가요?\")]\n",
    "}\n",
    "\n",
    "# 실행\n",
    "result = graph.invoke(initial_state)\n",
    "\n",
    "# 결과 출력\n",
    "print(\"답변:\", result[\"answer\"])"
   ]
  },
  {
   "cell_type": "code",
   "execution_count": 48,
   "id": "7278b272-31ec-44a4-a664-99b3dcaa9c7a",
   "metadata": {},
   "outputs": [
    {
     "data": {
      "text/plain": [
       "{'question': [HumanMessage(content='LangChain이 뭔가요?', additional_kwargs={}, response_metadata={}, id='d2e18389-69fa-4299-867d-427c9ba2d43f')],\n",
       " 'context': 'LangChain은 LLM을 구성요소로 나누고 체인으로 구성할 수 있는 파이썬 프레임워크입니다.',\n",
       " 'answer': 'LangChain은 LLM(대형 언어 모델)을 여러 구성요소로 분해하고 이를 체인 형태로 연결하여 복합적인 애플리케이션을 구축할 수 있는 파이썬 프레임워크입니다. 이를 통해 개발자는 효율적이고 유연하게 다양한 자연어 처리 및 인공지능 기능을 구현할 수 있습니다.',\n",
       " 'messages': [HumanMessage(content='LangChain이 뭔가요?', additional_kwargs={}, response_metadata={}, id='ddcf76ce-8a55-41d0-8561-41c27635ab7f'),\n",
       "  AIMessage(content='LangChain은 LLM(대형 언어 모델)을 여러 구성요소로 분해하고 이를 체인 형태로 연결하여 복합적인 애플리케이션을 구축할 수 있는 파이썬 프레임워크입니다. 이를 통해 개발자는 효율적이고 유연하게 다양한 자연어 처리 및 인공지능 기능을 구현할 수 있습니다.', additional_kwargs={'refusal': None}, response_metadata={'token_usage': {'completion_tokens': 76, 'prompt_tokens': 60, 'total_tokens': 136, 'completion_tokens_details': {'accepted_prediction_tokens': 0, 'audio_tokens': 0, 'reasoning_tokens': 0, 'rejected_prediction_tokens': 0}, 'prompt_tokens_details': {'audio_tokens': 0, 'cached_tokens': 0}}, 'model_name': 'gpt-4.1-nano-2025-04-14', 'system_fingerprint': 'fp_38343a2f8f', 'id': 'chatcmpl-Bn80Dlt4mZxkjQVRs3jGYOGWocVhy', 'service_tier': 'default', 'finish_reason': 'stop', 'logprobs': None}, id='run--bf737b76-738c-444c-b685-d08371586916-0', usage_metadata={'input_tokens': 60, 'output_tokens': 76, 'total_tokens': 136, 'input_token_details': {'audio': 0, 'cache_read': 0}, 'output_token_details': {'audio': 0, 'reasoning': 0}})]}"
      ]
     },
     "execution_count": 48,
     "metadata": {},
     "output_type": "execute_result"
    }
   ],
   "source": [
    "result"
   ]
  },
  {
   "cell_type": "markdown",
   "id": "efa43a1c-a7c5-4dd0-a475-ffdc8051900b",
   "metadata": {},
   "source": [
    "### 대화 기록 관리\n",
    "챗봇을 구축할 때 이해해야 할 중요한 개념 중 하나는 대화 기록을 관리하는 방법입니다. 관리하지 않으면 메시지 목록이 무한정 늘어나 LLM 컨텍스트 창을 초과할 수 있습니다. 따라서 전달하는 메시지의 크기를 제한하는 단계를 추가하는 것이 중요합니다.\n",
    "\n",
    "중요한 점은 프롬프트 템플릿을 사용하기 전, 그리고 메시지 기록에서 이전 메시지를 로드한 후에 이 작업을 수행해야 한다는 것입니다.\n",
    "\n",
    "메시지 키를 적절히 수정하는 간단한 단계를 프롬프트 앞에 추가한 다음, 해당 새 체인을 Message History class로 래핑하면 됩니다.\n",
    "\n",
    "LangChain에는 메시지 목록을 관리하기 위한 몇 가지 기본 제공 도우미가 있습니다. 이 경우 trim_messages 도우미를 사용하여 모델로 전송하는 메시지 수를 줄여 보겠습니다. 트리머를 사용하면 보관할 토큰 수와 시스템 메시지를 항상 보관할지 여부, 부분 메시지 허용 여부 등의 매개변수를 지정할 수 있습니다."
   ]
  },
  {
   "cell_type": "code",
   "execution_count": 49,
   "id": "f79821be-fd8b-4a42-8147-bc8829048edf",
   "metadata": {},
   "outputs": [
    {
     "name": "stdout",
     "output_type": "stream",
     "text": [
      "Trimmed messages:\n",
      "SystemMessage: 당신은 훌륭한 도우미입니다.\n",
      "HumanMessage: 고마워\n",
      "AIMessage: 천만에!\n",
      "HumanMessage: 재미있어?\n",
      "AIMessage: 응!\n"
     ]
    }
   ],
   "source": [
    "from langchain_core.messages import SystemMessage, HumanMessage, AIMessage, trim_messages\n",
    "\n",
    "# 메시지 트리머(trimmer) 설정\n",
    "trimmer = trim_messages(\n",
    "    max_tokens=65,             # 토큰 수 제한: 최대 65 토큰만 남김\n",
    "    strategy=\"last\",           # \"last\": 가장 최근(max_tokens 이하)의 메시지를 유지\n",
    "    token_counter=llm,         # LLM을 사용해 실제 토큰 수 계산\n",
    "    include_system=True,       # 시스템 메시지(SystemMessage)는 항상 포함\n",
    "    allow_partial=False,       # 메시지 일부만 포함하지 않음\n",
    "    start_on=\"human\",          # “human” 메시지 이후부터 시작\n",
    ")\n",
    "\n",
    "# 테스트용 메시지 목록: 대화 흐름 예시\n",
    "messages = [\n",
    "    SystemMessage(content=\"당신은 훌륭한 도우미입니다.\"),\n",
    "    HumanMessage(content=\"안녕! 나는 길동이야.\"),\n",
    "    AIMessage(content=\"안녕!\"),\n",
    "    HumanMessage(content=\"나는 바닐라 아이스크림을 좋아해.\"),\n",
    "    AIMessage(content=\"좋네.\"),\n",
    "    HumanMessage(content=\"2 + 2 는 얼마야?\"),\n",
    "    AIMessage(content=\"4\"),\n",
    "    HumanMessage(content=\"고마워\"),\n",
    "    AIMessage(content=\"천만에!\"),\n",
    "    HumanMessage(content=\"재미있어?\"),\n",
    "    AIMessage(content=\"응!\"),\n",
    "]\n",
    "\n",
    "# 트리머 호출: 메시지 리스트를 주면 max_tokens 이하로 줄여줍니다\n",
    "trimmed = trimmer.invoke(messages)\n",
    "\n",
    "# 결과를 출력하여 어떤 메시지가 유지되었는지 확인\n",
    "print(\"Trimmed messages:\")\n",
    "for msg in trimmed:\n",
    "    print(f\"{msg.__class__.__name__}: {msg.content}\")"
   ]
  },
  {
   "cell_type": "markdown",
   "id": "cb39ea23-e8b5-4d23-a1cf-6bf12f560b8b",
   "metadata": {},
   "source": [
    "--------------\n",
    "체인에서 사용하려면 메시지 입력을 프롬프트에 전달하기 전에 트리머를 실행하기만 하면 됩니다.\n",
    "\n",
    "MessagesState는 챗봇을 위해 대화 기록만을 다루는 간단한 스키마이므로 추가 필드가 필요하면 State(TypedDict) 로 상태 스키마를 정의해야합니다.  \n",
    "```\n",
    "class MessagesState(TypedDict):\n",
    "    messages: Annotated[list[BaseMessage], operator.add]\n",
    "\n",
    "```"
   ]
  },
  {
   "cell_type": "code",
   "execution_count": 50,
   "id": "77de6a03-7e64-41f7-a513-52c12cc39b75",
   "metadata": {},
   "outputs": [
    {
     "data": {
      "image/png": "[encoded data removed]",
      "text/plain": [
       "<langgraph.graph.state.CompiledStateGraph object at 0x0000013C7F5DBA10>"
      ]
     },
     "execution_count": 50,
     "metadata": {},
     "output_type": "execute_result"
    }
   ],
   "source": [
    "from typing import Annotated, TypedDict, Sequence\n",
    "from langchain_core.messages import BaseMessage\n",
    "import operator\n",
    "\n",
    "# --- 상태 스키마 정의 ---\n",
    "# LangGraph에서 상태(State)는 대화 흐름의 데이터를 저장하는 구조입니다.\n",
    "# 여기서는 messages (이전 메시지들)와 language (언어 정보)를 포함하는 상태를 정의합니다.\n",
    "class State(TypedDict):\n",
    "    # messages: BaseMessage의 시퀀스로 구성된 메시지 리스트.\n",
    "    # operator.add를 통해 이전 상태에 새로운 메시지를 append 방식으로 병합합니다.\n",
    "    messages: Annotated[Sequence[BaseMessage], operator.add]\n",
    "    language: str\n",
    "\n",
    "# State 스키마를 기반으로 LangGraph 워크플로우 생성\n",
    "workflow = StateGraph(state_schema=State)\n",
    "\n",
    "# 상태를 입력받아 메시지를 트리밍하고, 프롬프트를 구성한 뒤, LLM 호출 결과를 반환하는 함수입니다.\n",
    "def call_model(state: State):\n",
    "    # 현재 메시지 리스트를 토큰 수 기준으로 잘라냅니다 (예: max_tokens=65 등)\n",
    "    trimmed_messages = trimmer.invoke(state[\"messages\"])\n",
    "\n",
    "    # 프롬프트 템플릿에 잘린 메시지와 언어 정보를 넣어 프롬프트 생성\n",
    "    prompt = prompt_template.invoke(\n",
    "        {\"messages\": trimmed_messages, \"language\": state[\"language\"]}\n",
    "    )\n",
    "\n",
    "    # 모델 호출 → 결과 메시지 반환\n",
    "    response = llm.invoke(prompt)\n",
    "\n",
    "    # LangGraph에서는 다음 상태로 넘어갈 때 딕셔너리 형태로 반환합니다.\n",
    "    return {\"messages\": [response]}\n",
    "\n",
    "# --- 워크플로우 구성 ---\n",
    "workflow.add_edge(START, \"model\")\n",
    "workflow.add_node(\"model\", call_model)\n",
    "\n",
    "# 대화 상태를 저장하기 위한 메모리 객체를 사용합니다 (기본 제공 MemorySaver).\n",
    "memory = MemorySaver()\n",
    "\n",
    "# 모든 노드와 엣지를 기반으로 LangGraph 앱을 생성합니다.\n",
    "app = workflow.compile(checkpointer=memory)\n",
    "app"
   ]
  },
  {
   "cell_type": "markdown",
   "id": "19ed8a6e-6f10-49dc-99e3-b2f1360eb5ee",
   "metadata": {},
   "source": [
    "이제 모델에게 이름을 물어보면 채팅 기록의 해당 부분을 잘라냈기 때문에 모델이 이름을 알 수 없습니다."
   ]
  },
  {
   "cell_type": "code",
   "execution_count": 25,
   "id": "9b6fe110-e34e-47e4-8742-fad9dbfe66c7",
   "metadata": {},
   "outputs": [
    {
     "name": "stdout",
     "output_type": "stream",
     "text": [
      "==================================\u001b[1m Ai Message \u001b[0m==================================\n",
      "\n",
      "미안해! 네 이름은 아직 모르겠어. 혹시 알려줄래?\n"
     ]
    }
   ],
   "source": [
    "config = {\"configurable\": {\"thread_id\": \"abc345\"}}\n",
    "\n",
    "query = \"내 이름이 뭐지?\"\n",
    "\n",
    "input_messages = messages + [HumanMessage(query)]\n",
    "output = app.invoke({\"messages\": input_messages, \"language\": \"한국어\"}, config)\n",
    "output[\"messages\"][-1].pretty_print()"
   ]
  },
  {
   "cell_type": "code",
   "execution_count": null,
   "id": "7ef26574-91dc-42a7-8b57-d3900fbde303",
   "metadata": {},
   "outputs": [],
   "source": []
  }
 ],
 "metadata": {
  "kernelspec": {
   "display_name": "Python 3 (ipykernel)",
   "language": "python",
   "name": "python3"
  },
  "language_info": {
   "codemirror_mode": {
    "name": "ipython",
    "version": 3
   },
   "file_extension": ".py",
   "mimetype": "text/x-python",
   "name": "python",
   "nbconvert_exporter": "python",
   "pygments_lexer": "ipython3",
   "version": "3.11.13"
  }
 },
 "nbformat": 4,
 "nbformat_minor": 5
}

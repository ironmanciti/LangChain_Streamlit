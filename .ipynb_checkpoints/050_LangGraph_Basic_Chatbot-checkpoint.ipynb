{
 "cells": [
  {
   "cell_type": "markdown",
   "id": "d51f4020-8cb4-4561-b6d2-98589737dda8",
   "metadata": {},
   "source": [
    "# LangGraph를 사용한 고객 지원 챗봇을 구축\n",
    "\n",
    "- 웹 검색을 통해 일반적인 질문에 답변 \n",
    "- 대화 상태를 유지하여 연속적인 대화  \n",
    "- 복잡한 질문을 사람이 검토하도록 라우팅  \n",
    "- 사용자 지정 상태(Custom State)를 활용하여 챗봇의 동작 제어  \n",
    "- 대화 흐름을 되돌리고(Rewind), 다른 대화 경로 탐색 "
   ]
  },
  {
   "cell_type": "code",
   "execution_count": 1,
   "id": "a213aa99-6fe2-465e-a21b-b743cabfb74e",
   "metadata": {},
   "outputs": [
    {
     "data": {
      "text/plain": [
       "True"
      ]
     },
     "execution_count": 1,
     "metadata": {},
     "output_type": "execute_result"
    }
   ],
   "source": [
    "import os\n",
    "from dotenv import load_dotenv\n",
    "load_dotenv()"
   ]
  },
  {
   "cell_type": "code",
   "execution_count": 2,
   "id": "cb0aec0a-9a1e-45a3-bf66-d89895d172f8",
   "metadata": {},
   "outputs": [],
   "source": [
    "# LangSmith 추적 설정 활성화\n",
    "os.environ[\"LANGSMITH_TRACING\"] = \"true\""
   ]
  },
  {
   "cell_type": "code",
   "execution_count": 3,
   "id": "fec86f20-d4b0-4cfa-99a9-0c5a281f40f5",
   "metadata": {},
   "outputs": [],
   "source": [
    "from langchain_openai import ChatOpenAI\n",
    "\n",
    "llm = ChatOpenAI(model=\"gpt-4.1-nano\")"
   ]
  },
  {
   "cell_type": "markdown",
   "id": "8df89407-dce9-4ce5-bca0-4e3b04cd17cd",
   "metadata": {},
   "source": [
    "먼저 모델을 직접 사용해 봅니다. `ChatModel`은 LangChain의 **\"Runnable\"** 인스턴스이며, 이는 표준화된 인터페이스를 통해 상호작용할 수 있음을 의미합니다.  \n",
    "\n",
    "모델을 간단하게 호출하려면 `.invoke` 메서드에 **메시지 목록**을 전달하면 됩니다."
   ]
  },
  {
   "cell_type": "code",
   "execution_count": 4,
   "id": "bb8a90fd-c857-4763-b7a8-c14e5b710092",
   "metadata": {},
   "outputs": [
    {
     "data": {
      "text/plain": [
       "'안녕, 길동! 만나서 반가워. 어떻게 도와줄까?'"
      ]
     },
     "execution_count": 4,
     "metadata": {},
     "output_type": "execute_result"
    }
   ],
   "source": [
    "from langchain_core.messages import HumanMessage\n",
    "\n",
    "response = llm.invoke([HumanMessage(content=\"안녕! 나는 길동이야.\")])\n",
    "response.content"
   ]
  },
  {
   "cell_type": "markdown",
   "id": "71051507-d55c-4af8-b843-f6708ef3c6f5",
   "metadata": {},
   "source": [
    "모델 자체는 **상태(state)** 라는 개념을 가지고 있지 않습니다. 예를 들어, 후속 질문을 하면:"
   ]
  },
  {
   "cell_type": "code",
   "execution_count": 5,
   "id": "c75c18fa-413d-483c-be3c-219c7848c3d5",
   "metadata": {},
   "outputs": [
    {
     "data": {
      "text/plain": [
       "'죄송하지만, 제가 이전 대화 내용을 기억하지 않아서 당신의 이름을 알 수 없습니다. 혹시 알려주실 수 있나요?'"
      ]
     },
     "execution_count": 5,
     "metadata": {},
     "output_type": "execute_result"
    }
   ],
   "source": [
    "response = llm.invoke([HumanMessage(content=\"내 이름이 뭐라고 했지?\")])\n",
    "response.content"
   ]
  },
  {
   "cell_type": "code",
   "execution_count": 6,
   "id": "26f2aba7-ac8f-4da5-b142-9318db879d9f",
   "metadata": {},
   "outputs": [
    {
     "data": {
      "text/plain": [
       "'길동님이라고 말씀하셨어요!'"
      ]
     },
     "execution_count": 6,
     "metadata": {},
     "output_type": "execute_result"
    }
   ],
   "source": [
    "from langchain_core.messages import AIMessage\n",
    "\n",
    "response = llm.invoke(\n",
    "    [\n",
    "        HumanMessage(content=\"안녕! 나는 길동이야.\"),\n",
    "        AIMessage(content=\"안녕하세요, 길동님. 무엇을 도와 드릴까요?\"),\n",
    "        HumanMessage(content=\"내 이름이 뭐라고 했지?\"),\n",
    "    ]\n",
    ")\n",
    "\n",
    "response.content"
   ]
  },
  {
   "cell_type": "markdown",
   "id": "e5b06d60-c560-4b1d-9202-05f16b3cac0d",
   "metadata": {},
   "source": [
    "<br>\n",
    "이제 좋은 응답을 받는 것을 확인할 수 있습니다!  \n",
    "\n",
    "이것이 챗봇이 **대화형 상호작용**을 할 수 있는 기본 아이디어입니다.  "
   ]
  },
  {
   "cell_type": "markdown",
   "id": "75320d9a-081a-4388-9765-dfaae27014c6",
   "metadata": {},
   "source": [
    "### **Part 1: 기본 챗봇 만들기¶**  "
   ]
  },
  {
   "cell_type": "code",
   "execution_count": 7,
   "id": "c7e75eb3-a653-429d-91a6-6091c9e5f319",
   "metadata": {},
   "outputs": [
    {
     "data": {
      "text/plain": [
       "<langgraph.graph.state.StateGraph at 0x1d866aea3a0>"
      ]
     },
     "execution_count": 7,
     "metadata": {},
     "output_type": "execute_result"
    }
   ],
   "source": [
    "from typing import Annotated   # 타입 힌트를 위한 Annotated 사용\n",
    "from typing_extensions import TypedDict   # 구조적 타입 지정을 위한 TypedDict 사용\n",
    "\n",
    "# LangGraph에서 상태 그래프를 구성하기 위한 기본 클래스 및 상수 임포트\n",
    "from langgraph.graph import StateGraph, START, END\n",
    "# LangGraph에서 메시지를 상태에 추가하기 위한 헬퍼 함수\n",
    "from langgraph.graph.message import add_messages\n",
    "\n",
    "# 상태(State)를 정의하는 클래스\n",
    "# 이 상태는 메시지 목록(messages)을 포함하며,\n",
    "# add_messages는 메시지를 자동으로 병합하거나 관리하는 역할을 함\n",
    "class State(TypedDict):\n",
    "    messages: Annotated[list, add_messages]\n",
    "\n",
    "# 상태 타입을 기반으로 그래프 빌더 생성\n",
    "graph_builder = StateGraph(State)\n",
    "\n",
    "# 노드 함수 정의\n",
    "# 입력 상태에서 messages를 꺼내서 LLM에게 전달하고, \n",
    "# 생성된 응답 메시지를 다시 messages에 추가하여 반환\n",
    "def chatbot(state: State):\n",
    "    return {\"messages\": [llm.invoke(state[\"messages\"])]}\n",
    "\n",
    "# \"chatbot\"이라는 이름의 노드를 그래프에 추가\n",
    "graph_builder.add_node(\"chatbot\", chatbot)"
   ]
  },
  {
   "cell_type": "markdown",
   "id": "41b93f8e-d18c-403c-af6b-610278e3eecf",
   "metadata": {},
   "source": [
    "- 챗봇 노드 함수는 **현재 상태(State)를 입력**으로 받고, **업데이트된 메시지 리스트**를 `\"messages\"` 키에 담아 **딕셔너리 형태로 반환**합니다.  \n",
    "- 이 패턴은 **모든 LangGraph 노드 함수의 기본 구조**입니다.  \n",
    "\n",
    "**다음 단계:**  \n",
    "- **엔트리 포인트(Entry Point)** 를 추가  \n",
    "- **엔트리 포인트**는 **그래프 실행 시 시작 지점을 정의**하며, **매번 그래프를 실행할 때 어디서부터 작업을 시작할지 지정하는 역할**을 합니다.\n",
    "- 마찬가지로, **종료 지점(Finish Point)** 을 설정합니다. 이는 그래프에게 **\"이 노드가 실행될 때마다, 여기서 작업을 종료할 수 있다.\"** 라고 지시하는 역할을 합니다.\n",
    "- 마지막으로, 그래프를 실행할 수 있도록 설정해야 합니다. 이를 위해 **`compile()`** 메서드를 그래프 빌더에서 호출합니다.   "
   ]
  },
  {
   "cell_type": "code",
   "execution_count": 8,
   "id": "29fb9bdc-0179-4417-ab7c-f27d93036007",
   "metadata": {},
   "outputs": [
    {
     "data": {
      "image/png": "[encoded data removed]",
      "text/plain": [
       "<langgraph.graph.state.CompiledStateGraph object at 0x000001D866AEDEE0>"
      ]
     },
     "execution_count": 8,
     "metadata": {},
     "output_type": "execute_result"
    }
   ],
   "source": [
    "graph_builder.add_edge(START, \"chatbot\")\n",
    "\n",
    "graph_builder.add_edge(\"chatbot\", END)\n",
    "\n",
    "graph = graph_builder.compile()\n",
    "graph"
   ]
  },
  {
   "cell_type": "markdown",
   "id": "355f82c2-10cd-45b8-ab94-6742a795b748",
   "metadata": {},
   "source": [
    "### **챗봇 실행**  \n",
    "\n",
    "대화 루프에서 언제든지 **\"quit\"**, **\"exit\"**, 또는 **\"q\"** 를 입력하면 종료할 수 있습니다. "
   ]
  },
  {
   "cell_type": "code",
   "execution_count": 9,
   "id": "0ce987f1-05ab-42e3-8c9f-96eb0395aa5e",
   "metadata": {},
   "outputs": [
    {
     "name": "stdin",
     "output_type": "stream",
     "text": [
      "사용자:  안녕. 나는 길동이야\n"
     ]
    },
    {
     "name": "stdout",
     "output_type": "stream",
     "text": [
      "Assistant: 안녕, 길동이! 만나서 반가워. 오늘 어떻게 도와줄까?\n"
     ]
    },
    {
     "name": "stdin",
     "output_type": "stream",
     "text": [
      "사용자:  오늘 서울 날씨가 어때?\n"
     ]
    },
    {
     "name": "stdout",
     "output_type": "stream",
     "text": [
      "Assistant: 죄송하지만, 실시간 날씨 정보를 제공할 수 없습니다. 오늘 서울의 최신 날씨를 확인하시려면 기상청 홈페이지나 날씨 앱을 참고하시기 바랍니다.\n"
     ]
    },
    {
     "name": "stdin",
     "output_type": "stream",
     "text": [
      "사용자:  내 이름이 뭐지?\n"
     ]
    },
    {
     "name": "stdout",
     "output_type": "stream",
     "text": [
      "Assistant: 죄송하지만, 저는 당신의 이름을 알지 못해요. 혹시 알려주실 수 있나요?\n"
     ]
    },
    {
     "name": "stdin",
     "output_type": "stream",
     "text": [
      "사용자:  q\n"
     ]
    },
    {
     "name": "stdout",
     "output_type": "stream",
     "text": [
      "종료합니다.\n"
     ]
    }
   ],
   "source": [
    "def stream_graph_updates(user_input: str):\n",
    "    \"\"\"\n",
    "    그래프를 스트리밍 방식으로 업데이트하는 함수\n",
    "    사용자 입력을 받아, LLM이 응답하는 과정을 streaming 방식으로 출력\n",
    "    \"\"\"\n",
    "    for event in graph.stream({\"messages\": [{\"role\": \"user\", \"content\": user_input}]}):  \n",
    "        for value in event.values():\n",
    "            print(\"Assistant:\", value[\"messages\"][-1].content)  # 최신 응답 메시지를 출력\n",
    "\n",
    "\n",
    "# 무한 루프 (사용자가 \"quit\", \"exit\", \"q\"를 입력하면 종료)\n",
    "while True:\n",
    "    user_input = input(\"사용자: \")  \n",
    "    if user_input.lower() in [\"quit\", \"exit\", \"q\"]: \n",
    "        print(\"종료합니다.\") \n",
    "        break\n",
    "\n",
    "    stream_graph_updates(user_input) "
   ]
  },
  {
   "cell_type": "markdown",
   "id": "649d8085-2d02-4eb0-86c9-560acd5fd295",
   "metadata": {},
   "source": [
    "LangGraph를 사용하여 첫 번째 챗봇을 구축 했습니다.  하지만 현재는 외부 정보도 가져오지 못하고, 사용자의 이름도 기억하지 못합니다.\n",
    "\n",
    "다음 단계에서는 웹 검색 도구를 추가하여 챗봇의 지식을 확장하고, 더 강력한 기능을 갖추도록 만들겠습니다. "
   ]
  },
  {
   "cell_type": "markdown",
   "id": "6448ed23-0ce7-4431-a4a2-793a0916d3de",
   "metadata": {},
   "source": [
    "## **Part 2: 도구를 활용한 챗봇 강화**   \n",
    "이제 챗봇이 **웹에서 관련 정보를 찾아 더 나은 답변을 제공할 수 있도록 개선**합니다. \n",
    "\n",
    "---\n",
    "먼저 **Tavily 검색 엔진**을 사용하기 위해 필요한 패키지를 설치하고 **`TAVILY_API_KEY`** 를 설정 합니다.  "
   ]
  },
  {
   "cell_type": "code",
   "execution_count": 14,
   "id": "2d7a4b30-dbfe-4a97-930e-dd021949c6d5",
   "metadata": {},
   "outputs": [],
   "source": [
    "# %%capture --no-stderr\n",
    "#%pip install -U langchain-tavily"
   ]
  },
  {
   "cell_type": "code",
   "execution_count": 15,
   "id": "7653298e-26bc-4552-af74-ad5fd2e9d8b4",
   "metadata": {},
   "outputs": [
    {
     "name": "stdout",
     "output_type": "stream",
     "text": [
      "{'query': 'LangGraph에서 node가 뭐야?', 'follow_up_questions': None, 'answer': None, 'images': [], 'results': [{'title': '[LangGraph] Graph 기본 개념', 'url': 'https://databoom.tistory.com/entry/LangGraph-Graph-기본-개념', 'content': 'langchain 버전: 0.3.23langgraph 버전: 0.3.31내용 출처 : LangGrapn Docs 1. Graph 개념LangGraph는 Graph를 구성해 Agent를 만들 수 있다. Graph의 핵심 구성은 다음과 같다.Graph(그래프) : 노드(Node, 또는 정점 Vertex) 와 간선(Edge) 으로 이루어진 자료구조Node(노드) : 그래프 내의 개체. 작업 단위(Task). 주로 Tool과 chatbot이 오게', 'score': 0.8020137, 'raw_content': None}, {'title': 'LangGraph 쉽게 이해하기: 초보자를 위한 가이드', 'url': 'https://memoryhub.tistory.com/entry/LangGraph-쉽게-이해하기-초보자를-위한-가이드-🌟', 'content': '안녕하세요! 오늘은 LLM 애플리케이션 개발에 큰 도움이 되는 LangGraph를 정말 쉽게 설명해 드릴게요. 처음부터 차근차근 알아봅시다!LangGraph란 무엇인가요? 🤔여러분이 좋아하는 요리 레시피를 생각해보세요:재료 준비하기야채 썰기고기 볶기소스 넣기간 맞추기완성!LangGraph는 바로 이런 레시피 같은', 'score': 0.27961746, 'raw_content': None}], 'response_time': 1.85}\n"
     ]
    }
   ],
   "source": [
    "# Tavily 검색 툴을 임포트\n",
    "# Tavily는 웹 검색을 통해 정보를 가져오는 도구로, LangChain에서 도구(tool)로 활용 가능\n",
    "from langchain_tavily import TavilySearch\n",
    "\n",
    "# TavilySearch 툴 인스턴스를 생성 (최대 결과 2개로 제한)\n",
    "tool = TavilySearch(max_results=2)\n",
    "\n",
    "# 사용할 툴들을 리스트로 구성 (여러 개의 도구가 필요한 경우를 대비해 리스트 형태로 작성)\n",
    "tools = [tool]\n",
    "\n",
    "# Tavily 검색 도구를 직접 호출하여 \"LangGraph에서 node가 뭐야?\"라는 질문에 대한 웹 검색 결과를 가져옴\n",
    "result = tool.invoke(\"LangGraph에서 node가 뭐야?\")\n",
    "print(result)"
   ]
  },
  {
   "cell_type": "code",
   "execution_count": null,
   "id": "53ea529c-b7e9-40fa-b4c5-148435c2bb66",
   "metadata": {},
   "outputs": [],
   "source": [
    "# pip install -U \"langchain[openai]\""
   ]
  },
  {
   "cell_type": "markdown",
   "id": "b20a6e98-1fee-4815-8a0e-b61870abe3d0",
   "metadata": {},
   "source": [
    "### 도구(Tools)를 실행하는 함수 생성하기\n",
    "이제, 도구가 호출되는 경우 이를 실행하는 함수를 만들어봅시다.  \n",
    "이를 위해 `llm_with_tools`라는 새 노드를 만들고, 여기에 도구들을 추가합니다.  \n",
    "이 노드는 상태(state)에서 가장 최근 메시지를 확인하고, 그 메시지에 tool_calls가 포함되어 있는 경우 해당 도구들을 호출합니다.\n",
    "\n",
    "이 기능은 Anthropic, OpenAI, Google Gemini 및 여러 다른 LLM 제공업체에서 지원하는 tool calling 기능을 기반으로 동작합니다.  "
   ]
  },
  {
   "cell_type": "code",
   "execution_count": 16,
   "id": "9f7f8142-76e1-4f1d-b59a-6a460decc8a5",
   "metadata": {},
   "outputs": [
    {
     "data": {
      "text/plain": [
       "<langgraph.graph.state.StateGraph at 0x1d87fc011c0>"
      ]
     },
     "execution_count": 16,
     "metadata": {},
     "output_type": "execute_result"
    }
   ],
   "source": [
    "from typing import Annotated  # Annotated 타입을 사용하기 위한 모듈 (타입에 메타데이터 부여)\n",
    "from typing_extensions import TypedDict  # TypedDict는 딕셔너리 구조에 타입 힌트를 부여할 수 있게 해줌\n",
    "\n",
    "# LangGraph에서 상태 그래프 구성 관련 기능과 상수 가져오기\n",
    "from langgraph.graph import StateGraph, START, END\n",
    "# LangGraph의 메시지 병합 기능: 메시지를 상태에 병합하거나 정리하는 헬퍼 함수\n",
    "from langgraph.graph.message import add_messages\n",
    "\n",
    "# 상태(State) 클래스 정의\n",
    "# 'messages'는 Annotated를 사용해 LangGraph의 메시지 병합 기능(add_messages)을 적용\n",
    "class State(TypedDict):\n",
    "    messages: Annotated[list, add_messages]\n",
    "\n",
    "# 상태(State)를 기반으로 하는 그래프 빌더 생성\n",
    "graph_builder = StateGraph(State)\n",
    "\n",
    "# 사용할 도구들을 LLM에 명시적으로 바인딩 (Tool Calling 지원)\n",
    "# 이를 통해 LLM이 명시된 도구만 호출할 수 있도록 제한\n",
    "llm_with_tools = llm.bind_tools(tools)\n",
    "\n",
    "# 챗봇 노드 함수 정의\n",
    "# 현재 상태의 messages를 LLM에 전달하여 응답을 생성하고,\n",
    "# 그 응답 메시지를 다시 상태에 포함되도록 반환\n",
    "def chatbot(state: State):\n",
    "    return {\"messages\": [llm_with_tools.invoke(state[\"messages\"])]}\n",
    "\n",
    "# 'chatbot'이라는 이름의 노드를 그래프에 추가\n",
    "# LangGraph 내부에서 이 노드는 하나의 처리 단위로 동작함\n",
    "graph_builder.add_node(\"chatbot\", chatbot)"
   ]
  },
  {
   "cell_type": "code",
   "execution_count": 17,
   "id": "858ce9cb-33e7-40c6-b41b-6668362683b2",
   "metadata": {},
   "outputs": [
    {
     "data": {
      "text/plain": [
       "<langgraph.graph.state.StateGraph at 0x1d87fc011c0>"
      ]
     },
     "execution_count": 17,
     "metadata": {},
     "output_type": "execute_result"
    }
   ],
   "source": [
    "# LangChain에서 tool 호출 결과를 감싸기 위한 메시지 타입\n",
    "from langchain_core.messages import ToolMessage\n",
    "\n",
    "# 도구 실행 노드 정의\n",
    "class BasicToolNode:\n",
    "    \"\"\"마지막 AIMessage에 포함된 tool_calls를 실행하는 노드\"\"\"\n",
    "\n",
    "    def __init__(self, tools: list) -> None:\n",
    "        # 도구 이름을 키로 하여 도구 인스턴스를 딕셔너리로 저장\n",
    "        # 예: {'SearchTool': SearchTool 객체}\n",
    "        self.tools_by_name = {tool.name: tool for tool in tools}\n",
    "\n",
    "    def __call__(self, inputs: dict):\n",
    "        # 입력에서 messages 리스트를 꺼냄 (없으면 빈 리스트)\n",
    "        if messages := inputs.get(\"messages\", []):\n",
    "            # 가장 마지막 메시지를 가져옴 (보통 AIMessage)\n",
    "            message = messages[-1]\n",
    "        else:\n",
    "            raise ValueError(\"입력에 message가 없습니다\")\n",
    "\n",
    "        outputs = []\n",
    "\n",
    "        # AIMessage에 포함된 tool_calls 순회\n",
    "        for tool_call in message.tool_calls:\n",
    "            # 도구 이름으로 매칭된 도구를 찾아 호출\n",
    "            tool_result = self.tools_by_name[tool_call[\"name\"]].invoke(\n",
    "                tool_call[\"args\"]  # 도구 호출에 필요한 인자\n",
    "            )\n",
    "\n",
    "            # 도구 호출 결과를 ToolMessage로 감싸고 outputs에 추가\n",
    "            outputs.append(\n",
    "                ToolMessage(\n",
    "                    content=json.dumps(tool_result),   # JSON 문자열로 변환\n",
    "                    name=tool_call[\"name\"],            # 도구 이름\n",
    "                    tool_call_id=tool_call[\"id\"],      # 도구 호출 ID (LLM이 생성함)\n",
    "                )\n",
    "            )\n",
    "\n",
    "        # 처리된 메시지 목록을 반환 (상태 업데이트 용도)\n",
    "        return {\"messages\": outputs}\n",
    "\n",
    "# 위에서 정의한 도구 실행 노드를 그래프에 추가\n",
    "# \"tools\"라는 이름의 노드로 추가되어 이후 그래프 실행 시 이 노드를 호출함\n",
    "tool_node = BasicToolNode(tools=[tool])\n",
    "graph_builder.add_node(\"tools\", tool_node)"
   ]
  },
  {
   "cell_type": "markdown",
   "id": "a8c061dc-e417-4661-9eef-ea607877126d",
   "metadata": {},
   "source": [
    "**조건부 엣지(Conditional Edges)의 동작 방식**  \n",
    "\n",
    "- 조건부 엣지는 특정 노드에서 시작됩니다. 즉, 'chatbot' 노드가 실행될 때마다, 다음과 같은 경로를 결정합니다.\n",
    "\n",
    "1️) 만약 챗봇이 도구(`tool_calls`)를 호출하면 'tools' 노드로 이동   \n",
    "2️) 만약 챗봇이 직접 응답하면 `END`로 이동하여 실행 종료\n",
    "\n",
    "\n",
    "**`tools_condition`**  \n",
    "\n",
    "- **`tool_calls`가 없는 경우 `END` 문자열을 반환하여 실행을 종료** 합니다.  "
   ]
  },
  {
   "cell_type": "code",
   "execution_count": 18,
   "id": "69f1eb6c-285b-4deb-bdb4-587b4062a673",
   "metadata": {},
   "outputs": [],
   "source": [
    "def route_tools(state: State):\n",
    "    \"\"\"\n",
    "    조건부 엣지(conditional_edge)에서 사용될 함수.\n",
    "    마지막 메시지에 tool_calls가 있으면 \"tools\" 노드로 라우팅하고,\n",
    "    그렇지 않으면 END로 라우팅한다.\n",
    "    \"\"\"\n",
    "\n",
    "    # 상태가 리스트 타입일 경우 마지막 메시지를 가져옴\n",
    "    if isinstance(state, list):\n",
    "        ai_message = state[-1]\n",
    "\n",
    "    # 상태 딕셔너리에서 'messages' 키를 통해 메시지 리스트를 가져와 마지막 메시지를 선택\n",
    "    elif messages := state.get(\"messages\", []):\n",
    "        ai_message = messages[-1]\n",
    "\n",
    "    else:\n",
    "        # 메시지가 없을 경우 예외 발생\n",
    "        raise ValueError(f\"No messages found in input state to tool_edge: {state}\")\n",
    "\n",
    "    # 마지막 메시지가 tool_calls 속성을 가지고 있고, 하나 이상 도구 호출이 있을 경우\n",
    "    if hasattr(ai_message, \"tool_calls\") and len(ai_message.tool_calls) > 0:\n",
    "        return \"tools\"  # tools 노드로 이동\n",
    "\n",
    "    return END  # 그 외에는 종료 노드로 이동\n",
    "\n",
    "\n",
    "# 조건부 엣지를 추가하여, chatbot 노드 이후 흐름을 동적으로 제어\n",
    "# chatbot이 도구 호출을 요청하면 tools 노드로, 아니면 END로 흐름이 결정됨\n",
    "graph_builder.add_conditional_edges(\n",
    "    \"chatbot\",       # 조건부 분기 시작 노드\n",
    "    route_tools,     # 조건 판단 함수\n",
    "    {\n",
    "        \"tools\": \"tools\",  # 판단 결과가 \"tools\"이면 tools 노드로 이동\n",
    "        END: END,          # 판단 결과가 END면 그래프 종료\n",
    "    }\n",
    ")\n",
    "\n",
    "# 도구를 호출한 이후에는 다시 chatbot 노드로 돌아가서 다음 행동 결정\n",
    "graph_builder.add_edge(\"tools\", \"chatbot\")\n",
    "\n",
    "# 그래프의 시작점에서 chatbot 노드로 진입\n",
    "graph_builder.add_edge(START, \"chatbot\")\n",
    "\n",
    "# 모든 노드와 엣지가 정의된 후 그래프를 컴파일 (실행 준비 완료)\n",
    "graph = graph_builder.compile()"
   ]
  },
  {
   "cell_type": "code",
   "execution_count": 19,
   "id": "69cbc093-f698-4632-87cd-91b89e813bc6",
   "metadata": {},
   "outputs": [
    {
     "data": {
      "image/png": "[encoded data removed]",
      "text/plain": [
       "<IPython.core.display.Image object>"
      ]
     },
     "metadata": {},
     "output_type": "display_data"
    }
   ],
   "source": [
    "from IPython.display import Image, display\n",
    "\n",
    "try:\n",
    "    display(Image(graph.get_graph().draw_mermaid_png()))\n",
    "except Exception:\n",
    "    # This requires some extra dependencies and is optional\n",
    "    pass"
   ]
  },
  {
   "cell_type": "markdown",
   "id": "efd3827d-f5e4-49d7-a436-93e231b04ce0",
   "metadata": {},
   "source": [
    "이제 챗봇에게 **훈련 데이터에 없는 질문도 할 수 있습니다.** "
   ]
  },
  {
   "cell_type": "code",
   "execution_count": 20,
   "id": "e27cb4c5-0f14-403d-ada3-4eb44500eb2c",
   "metadata": {},
   "outputs": [
    {
     "name": "stdin",
     "output_type": "stream",
     "text": [
      "User:  안녕, 나는 길동이야\n"
     ]
    },
    {
     "name": "stdout",
     "output_type": "stream",
     "text": [
      "Assistant: 안녕하세요, 길동님! 어떻게 도와드릴까요?\n"
     ]
    },
    {
     "name": "stdin",
     "output_type": "stream",
     "text": [
      "User:  오늘 서울의 날씨가 어때?\n"
     ]
    },
    {
     "name": "stdout",
     "output_type": "stream",
     "text": [
      "Assistant: 오늘 서울의 날씨는 약 65°F(약 18°C)로 쾌적하며, 현재 맑은 상태입니다. 자세한 내용은 [AccuWeather](https://www.accuweather.com/ko/kr/seoul/226081/hourly-weather-forecast/226081) 또는 [The Weather Channel](https://weather.com/ko-KR/weather/today/l/82e46175f97c224acf6b95afc4934fbae0e4ba123adcee8a52b7be97c303467b)에서 확인하실 수 있습니다.\n"
     ]
    },
    {
     "name": "stdin",
     "output_type": "stream",
     "text": [
      "User:  내 이름이 뭐였지?\n"
     ]
    },
    {
     "name": "stdout",
     "output_type": "stream",
     "text": [
      "Assistant: 죄송하지만, 지금까지의 대화에서 사용자님의 이름을 알 수 있는 정보가 없습니다. 이름을 알려주시면 기억해둘 수 있습니다.\n"
     ]
    },
    {
     "name": "stdin",
     "output_type": "stream",
     "text": [
      "User:  q\n"
     ]
    },
    {
     "name": "stdout",
     "output_type": "stream",
     "text": [
      "Goodbye!\n"
     ]
    }
   ],
   "source": [
    "import json\n",
    "from langchain_core.messages import AIMessage\n",
    "\n",
    "def stream_graph_updates(user_input: str):\n",
    "    for event in graph.stream({\"messages\": [{\"role\": \"user\", \"content\": user_input}]}):\n",
    "        for value in event.values():\n",
    "            if isinstance(value[\"messages\"][-1], AIMessage):\n",
    "                last_msg = value[\"messages\"][-1].content\n",
    "            if len(last_msg) > 0:\n",
    "                print(\"Assistant:\", last_msg)\n",
    "\n",
    "while True:\n",
    "    user_input = input(\"User: \")\n",
    "    if user_input.lower() in [\"quit\", \"exit\", \"q\"]:\n",
    "        print(\"Goodbye!\")\n",
    "        break\n",
    "\n",
    "    stream_graph_updates(user_input)"
   ]
  },
  {
   "cell_type": "markdown",
   "id": "ae0401e8-6b7b-4320-b8e6-13c17a99de08",
   "metadata": {},
   "source": [
    "이제 LangGraph에서 검색 엔진을 활용할 수 있는 대화형 에이전트(Conversational Agent)를 만들었습니다\n",
    "\n",
    "--- "
   ]
  },
  {
   "cell_type": "markdown",
   "id": "59c7a1b5-6039-4915-9b70-61b4d825737f",
   "metadata": {},
   "source": [
    "## **Part 3: 챗봇에 메모리 기능 추가¶**  \n",
    "\n",
    "현재 챗봇은 **사용자 질문에 도구를 활용해 답변할 수 있지만, 이전 대화의 맥락을 기억하지 못합니다.**  \n",
    "이 때문에 **일관된 멀티턴(Multi-turn) 대화를 진행하는 데 한계가 있습니다.**  \n",
    "\n",
    "LangGraph는 **\"지속적 체크포인트(Persistent Checkpointing)\"** 기능을 통해 이 문제를 해결합니다.  \n",
    "\n",
    "그래프를 컴파일할 때 checkpointing을 활성화하고 그래프를 호출할 때 `thread_id`를 제공하면, LangGraph가 자동으로 상태(state)를 저장하고, 다음 실행 시 이전 상태를 복원합니다.  \n",
    "\n",
    "즉, **동일한 `thread_id`** 를 사용하여 그래프를 호출하면, 이전 대화 상태를 불러와서 이어서 대화할 수 있습니다!"
   ]
  },
  {
   "cell_type": "code",
   "execution_count": 21,
   "id": "ccf74912-e1bd-4753-96f0-ad3398a9590a",
   "metadata": {},
   "outputs": [],
   "source": [
    "from langgraph.checkpoint.memory import MemorySaver\n",
    "\n",
    "memory = MemorySaver()"
   ]
  },
  {
   "cell_type": "markdown",
   "id": "4a1e5e51-8ec4-4b53-9154-c83b0097756a",
   "metadata": {},
   "source": [
    "우리는 현재 **메모리를 활용하는(in-memory) 체크포인터**를 사용하고 있습니다.  \n",
    "\n",
    "이 방식은 튜토리얼 환경에서는 편리하지만, 데이터가 메모리에만 저장되므로 영구적이지 않습니다. 실제 프로덕션 환경에서는 `SqliteSaver` 또는 `PostgresSaver`를 사용하여 데이터베이스(DB)와 연결하는 것이 일반적입니다.\n",
    "\n",
    "---"
   ]
  },
  {
   "cell_type": "code",
   "execution_count": 22,
   "id": "4bd97d49-5c4f-422e-8789-9e5409a14ae5",
   "metadata": {},
   "outputs": [],
   "source": [
    "# 상태(State)를 정의한 후, 이를 기반으로 하는 그래프 생성\n",
    "graph_builder = StateGraph(State)\n",
    "\n",
    "# LLM에 사용할 도구(tool) 목록을 바인딩함\n",
    "llm_with_tools = llm.bind_tools(tools)\n",
    "\n",
    "# chatbot 노드 정의: 현재 상태(state)의 메시지를 LLM에 넘겨 응답 메시지를 반환\n",
    "def chatbot(state: State):\n",
    "    return {\n",
    "        \"messages\": [llm_with_tools.invoke(state[\"messages\"])]\n",
    "    }\n",
    "\n",
    "# chatbot 노드를 그래프에 추가\n",
    "graph_builder.add_node(\"chatbot\", chatbot)\n",
    "\n",
    "# 도구 실행 노드 정의 및 추가\n",
    "# 가장 최근 AI 메시지에 포함된 도구 호출 요청(tool_calls)을 실행하고 결과 메시지 반환\n",
    "tool_node = BasicToolNode(tools=[tool])\n",
    "graph_builder.add_node(\"tools\", tool_node)\n",
    "\n",
    "# chatbot → tools 또는 chatbot → END 로 분기되는 조건부 엣지 추가\n",
    "# route_tools 함수는 마지막 메시지에 도구 호출이 있는지를 확인하여 흐름 결정\n",
    "graph_builder.add_conditional_edges(\n",
    "    \"chatbot\",\n",
    "    route_tools,\n",
    "    {\n",
    "        \"tools\": \"tools\",  # 도구 호출이 있으면 tools 노드로 이동\n",
    "        END: END           # 도구 호출이 없으면 종료\n",
    "    },\n",
    ")\n",
    "\n",
    "# 도구 실행이 끝난 뒤에는 다시 chatbot 으로 돌아가 대화를 계속함\n",
    "graph_builder.add_edge(\"tools\", \"chatbot\")\n",
    "\n",
    "# 그래프의 시작 지점은 chatbot 노드\n",
    "graph_builder.add_edge(START, \"chatbot\")\n",
    "\n",
    "# 최종적으로 모든 구성 요소를 포함해 그래프를 컴파일함\n",
    "# memory는 대화 상태를 저장하는 체크포인트 기능 (예: thread_id로 상태 추적)\n",
    "graph = graph_builder.compile(checkpointer=memory)"
   ]
  },
  {
   "cell_type": "code",
   "execution_count": 23,
   "id": "98064cc1-ccc0-4221-9a75-9612f109c1b2",
   "metadata": {},
   "outputs": [
    {
     "data": {
      "image/png": "[encoded data removed]",
      "text/plain": [
       "<IPython.core.display.Image object>"
      ]
     },
     "metadata": {},
     "output_type": "display_data"
    }
   ],
   "source": [
    "display(Image(graph.get_graph().draw_mermaid_png()))"
   ]
  },
  {
   "cell_type": "markdown",
   "id": "b38c5908-301c-4570-a39e-3890e00d3249",
   "metadata": {},
   "source": [
    "이제 챗봇과 상호작용할 수 있습니다. 먼저, 이 대화를 식별할 수 있는 **`thread`(스레드)** 를 선택합니다."
   ]
  },
  {
   "cell_type": "code",
   "execution_count": 24,
   "id": "de68f3f7-6674-4331-9306-e5c6f05fbda8",
   "metadata": {},
   "outputs": [
    {
     "name": "stdout",
     "output_type": "stream",
     "text": [
      "================================\u001b[1m Human Message \u001b[0m=================================\n",
      "\n",
      "안녕하세요! 제 이름은 길동이에요.\n",
      "==================================\u001b[1m Ai Message \u001b[0m==================================\n",
      "\n",
      "안녕하세요, 길동님! 만나서 반가워요. 오늘 어떻게 도와드릴까요?\n"
     ]
    }
   ],
   "source": [
    "config = {\"configurable\": {\"thread_id\": \"1\"}}\n",
    "\n",
    "user_input = \"안녕하세요! 제 이름은 길동이에요.\"\n",
    "\n",
    "# config는 stream() 또는 invoke()의 두 번째 인자\n",
    "events = graph.stream(\n",
    "    {\"messages\": [{\"role\": \"user\", \"content\": user_input}]},\n",
    "    config,\n",
    "    stream_mode=\"values\",\n",
    ")\n",
    "\n",
    "for event in events:\n",
    "    event[\"messages\"][-1].pretty_print()"
   ]
  },
  {
   "cell_type": "markdown",
   "id": "79049d77-3779-4e35-90d7-897703930630",
   "metadata": {},
   "source": [
    "이제 후속 질문(follow-up question)을 해봅시다. 챗봇이 사용자의 이름을 기억하는지 확인해 봅니다."
   ]
  },
  {
   "cell_type": "code",
   "execution_count": 25,
   "id": "c550ffba-4df9-479c-a130-2338f7132ab3",
   "metadata": {},
   "outputs": [
    {
     "name": "stdout",
     "output_type": "stream",
     "text": [
      "================================\u001b[1m Human Message \u001b[0m=================================\n",
      "\n",
      "내 이름이 뭐야? 그리고 오늘 서울의 날씨는 어때?\n",
      "==================================\u001b[1m Ai Message \u001b[0m==================================\n",
      "Tool Calls:\n",
      "  tavily_search (call_AUHTUDJUQaDbhlNpWYoQz7bp)\n",
      " Call ID: call_AUHTUDJUQaDbhlNpWYoQz7bp\n",
      "  Args:\n",
      "    query: 길동이 이름\n",
      "=================================\u001b[1m Tool Message \u001b[0m=================================\n",
      "Name: tavily_search\n",
      "\n",
      "{\"query\": \"\\uae38\\ub3d9\\uc774 \\uc774\\ub984\", \"follow_up_questions\": null, \"answer\": null, \"images\": [], \"results\": [{\"title\": \"\\uace0\\uae38\\ub3d9 - \\ub098\\ubb34\\uc704\\ud0a4\", \"url\": \"https://namu.wiki/w/\\uace0\\uae38\\ub3d9\", \"content\": \"\\uc544\\uae30\\uacf5\\ub8e1 \\ub458\\ub9ac \\uc758 \\uc8fc\\uc5ed \\uc911 \\ud558\\ub098\\uc774\\uc790 \\ub610 \\ub2e4\\ub978 \\uc8fc\\uc778\\uacf5. \\uc11c\\uc6b8\\ud2b9\\ubcc4\\uc2dc \\ub3c4\\ubd09\\uad6c \\uc30d\\ubb38\\ub3d9 [18] \\uc5d0 \\uc0ac\\ub294 \\ud3c9\\ubc94\\ud55c \\uc0d0\\ub7ec\\ub9ac\\ub9e8\\uc73c\\ub85c \\uc9c1\\uae09\\uc740 \\uacfc\\uc7a5 (\\uc774\\ub978\\ubc14 \\ub9cc\\ub144 \\uacfc\\uc7a5)\\uc774\\ub2e4. \\uc791\\uc911\\uc5d0\\uc11c\\ub294 \\uc8fc\\ub85c \\uae38\\ub3d9\\uc774 \\uc544\\uc800\\uc528, \\uc544\\uc800\\uc528\\ub77c\\uace0 \\ubd88\\ub9ac\\uba70 \\ub3c4\\uc6b0\\ub108 \\ub294 \\uadf8\\ub0e5 \\uae38\\ub3d9\\uc544 \\ub77c\\uace0 \\ubd80\\ub974\\ub2e4\\uac00 \\uc5bb\\uc5b4 \\ud130\\uc9c0\\uae30 \\uc77c\\uc464\\uc774\\ub2e4.\", \"score\": 0.49245724, \"raw_content\": null}, {\"title\": \"\\ud64d\\uae38\\ub3d9 - \\ub098\\ubb34\\uc704\\ud0a4\", \"url\": \"https://namu.wiki/w/\\ud64d\\uae38\\ub3d9\", \"content\": \"\\u6d2a \\u5409 \\u7ae5 / Hong Gildong [1] \\uc18c\\uc124 '\\ud64d\\uae38\\ub3d9\\uc804'\\uc758 \\uc8fc\\uc778\\uacf5\\uc774\\uc790 \\ucd08\\ub2a5\\ub825 \\uc744 \\ubd80\\ub9ac\\ub294 \\uc778\\ubb3c\\ub85c \\ud55c\\uad6d \\uc288\\ud37c\\ud788\\uc5b4\\ub85c \\uc758 \\uc2dc\\ucd08\\uc774\\uc790 \\ub300\\ud45c \\uaca9\\uc774\\ub2e4. \\uc2b9\\uc0c1 \\ud64d\\ubb38\\uacfc \\ubab8\\uc885 \\ucd98\\uc12c \\uc0ac\\uc774\\uc5d0\\uc11c \\ud0dc\\uc5b4\\ub09c \\uc5bc\\uc790 \\uc774\\ub2e4. [2] \\uace0\\uc804 \\uc18c\\uc124 \\uc8fc\\uc778\\uacf5\\ub2f5\\uac8c \\ud0dc\\ubabd \\ubd80\\ud130 \\ube44\\ubc94\\ud55c\\ub370, \\ud64d\\ubb38\\uc774 \\ub300\\ub0ae\\uc5d0 \\uccad\\ub8e1 \\uc774 \\ub098\\uc624\\ub294 \\uafc8 \\uc744 \\uafb8\\uace0 \\uadc0\\ud55c \\uc544\\ub4e4 \\uc774 \\ud0dc\\uc5b4\\ub0a0 \\ud0dc\\ubabd\\uc784\\uc744\", \"score\": 0.48440504, \"raw_content\": null}], \"response_time\": 3.15}\n",
      "==================================\u001b[1m Ai Message \u001b[0m==================================\n",
      "Tool Calls:\n",
      "  tavily_search (call_LFGA8nag7935MKjxFj9mpp8V)\n",
      " Call ID: call_LFGA8nag7935MKjxFj9mpp8V\n",
      "  Args:\n",
      "    query: 오늘 서울 날씨\n",
      "=================================\u001b[1m Tool Message \u001b[0m=================================\n",
      "Name: tavily_search\n",
      "\n",
      "{\"query\": \"\\uc624\\ub298 \\uc11c\\uc6b8 \\ub0a0\\uc528\", \"follow_up_questions\": null, \"answer\": null, \"images\": [], \"results\": [{\"title\": \"\\uc11c\\uc6b8\\ud2b9\\ubcc4\\uc2dc, \\uc11c\\uc6b8\\uc2dc, \\ub300\\ud55c\\ubbfc\\uad6d \\uc2dc\\uac04\\ubcc4 \\ub0a0\\uc528 | AccuWeather\", \"url\": \"https://www.accuweather.com/ko/kr/seoul/226081/hourly-weather-forecast/226081\", \"content\": \"\\uc11c\\uc6b8\\ud2b9\\ubcc4\\uc2dc, \\uc11c\\uc6b8\\uc2dc, \\ub300\\ud55c\\ubbfc\\uad6d \\uc2dc\\uac04\\ubcc4 \\ub0a0\\uc528 | AccuWeather \\uc11c\\uc6b8\\ud2b9\\ubcc4\\uc2dc, \\uc11c\\uc6b8\\uc2dc ========== 65\\u00b0F \\ud604\\uc7ac \\uc704\\uce58 \\uc0ac\\uc6a9 \\uc11c\\uc6b8\\ud2b9\\ubcc4\\uc2dc \\uc11c\\uc6b8\\uc2dc 65\\u00b0 \\uc11c\\uc6b8\\ud2b9\\ubcc4\\uc2dc, \\uc11c\\uc6b8\\uc2dc \\ub0a0\\uc528 \\uc624\\ub298WinterCast\\uc9c0\\uc5ed {stormName} \\ucd94\\uc801\\uae30\\uc2dc\\uac04\\ubcc4\\uc77c\\ubcc4\\ub808\\uc774\\ub354MinuteCast\\uc6d4\\ub300\\uae30\\uc9c8\\uac74\\uac15 \\ubc0f \\ud65c\\ub3d9 \\uc804 \\uc138\\uacc4 ### \\ud5c8\\ub9ac\\ucf00\\uc778### \\uc545\\ucc9c\\ud6c4 \\uae30\\uc0c1### \\ub808\\uc774\\ub354 \\ubc0f \\uc9c0\\ub3c4### \\ub3d9\\uc601\\uc0c1 \\uc624\\ub298\\uc2dc\\uac04\\ubcc4 ---\\uc77c\\ubcc4\\ub808\\uc774\\ub354MinuteCast\\uc6d4\\ub300\\uae30\\uc9c8\\uac74\\uac15 \\ubc0f \\ud65c\\ub3d9 64\\u00b0 RealFeel\\u00ae 65\\u00b0  \\ub9d1\\uc74c \\ubc14\\ub78c \\uc11c\\ub0a8\\uc11c 4mi/h \\ub3cc\\ud48d 9mi/h \\uac00\\uc2dc\\uac70\\ub9ac 10mi 62\\u00b0 RealFeel\\u00ae 62\\u00b0  \\ub300\\uccb4\\ub85c \\ub9d1\\uc74c \\ubc14\\ub78c \\ub0a8\\uc11c 4mi/h \\ub3cc\\ud48d 7mi/h \\uac00\\uc2dc\\uac70\\ub9ac 10mi 59\\u00b0 RealFeel\\u00ae 60\\u00b0  \\ubc14\\ub78c \\ub0a8\\uc11c 2mi/h \\ub3cc\\ud48d 7mi/h \\uac00\\uc2dc\\uac70\\ub9ac 10mi \\uc804 \\uc138\\uacc4 ### \\ud5c8\\ub9ac\\ucf00\\uc778### \\uc545\\ucc9c\\ud6c4 \\uae30\\uc0c1### \\ub808\\uc774\\ub354 \\ubc0f \\uc9c0\\ub3c4### \\ub3d9\\uc601\\uc0c1 \\uc804 \\uc138\\uacc4\\uc544\\uc2dc\\uc544\\ub300\\ud55c\\ubbfc\\uad6d\\uc11c\\uc6b8\\uc2dc\\uc11c\\uc6b8\\ud2b9\\ubcc4\\uc2dc \\ub3d9\\uc791\\uad6c, \\uc11c\\uc6b8\\uc2dc \\ub9c8\\ud3ec\\uad6c, \\uc11c\\uc6b8\\uc2dc \\uc11c\\ub300\\ubb38\\uad6c, \\uc11c\\uc6b8\\uc2dc \\uc774\\uc6a9 \\uc57d\\uad00 | \\uac1c\\uc778\\uc815\\ubcf4 \\ubcf4\\ud638\\uc815\\ucc45 | \\ucfe0\\ud0a4 \\uc0ac\\uc6a9 \\uc815\\ucc45|\\uac1c\\uc778\\uc815\\ubcf4 \\ubcf4\\ud638 \\uc815\\ubcf4 \\ub0b4 \\uac1c\\uc778 \\uc815\\ubcf4\\ub97c \\ud310\\ub9e4\\ud558\\uac70\\ub098 \\uacf5\\uc720\\ud558\\uc9c0 \\ub9c8\\uc2ed\\uc2dc\\uc624. Get AccuWeather alerts as they happen with our browser notifications. Enable Notifications Notifications Enabled\", \"score\": 0.79080546, \"raw_content\": null}, {\"title\": \"\\uc11c\\uc6b8\\ud2b9\\ubcc4\\uc2dc \\uc77c\\uae30\\uc608\\ubcf4 \\ubc0f \\ub0a0\\uc528 - The Weather Channel | Weather.com\", \"url\": \"https://weather.com/ko-KR/weather/today/l/82e46175f97c224acf6b95afc4934fbae0e4ba123adcee8a52b7be97c303467b\", \"content\": \"The Weather Channel \\ubc0f Weather.com\\uc774 \\uc81c\\uacf5\\ud558\\ub294 \\uc624\\ub298\\uacfc \\uc624\\ub298 \\ubc24 \\uc11c\\uc6b8\\ud2b9\\ubcc4\\uc2dc \\uc77c\\uae30\\uc608\\ubcf4, \\ub0a0\\uc528 \\uc0c1\\ud0dc \\ubc0f \\ub3c4\\ud50c\\ub7ec \\ub808\\uc774\\ub354\", \"score\": 0.5568099, \"raw_content\": null}], \"response_time\": 1.77}\n",
      "==================================\u001b[1m Ai Message \u001b[0m==================================\n",
      "\n",
      "길동님께서 제 이름이 길동이라고 말씀하셨고, 오늘 서울의 날씨는 대체로 맑으며, 현재 기온은 약 65°F (약 18°C)라고 합니다. 더 자세한 날씨 정보는 [여기](https://www.accuweather.com/ko/kr/seoul/226081/hourly-weather-forecast/226081)를 참고하시면 좋을 것 같아요.\n"
     ]
    }
   ],
   "source": [
    "user_input = \"내 이름이 뭐야? 그리고 오늘 서울의 날씨는 어때?\"\n",
    "\n",
    "events = graph.stream(\n",
    "    {\"messages\": [{\"role\": \"user\", \"content\": user_input}]},\n",
    "    config,\n",
    "    stream_mode=\"values\",\n",
    ")\n",
    "for event in events:\n",
    "    event[\"messages\"][-1].pretty_print()"
   ]
  },
  {
   "cell_type": "code",
   "execution_count": 27,
   "id": "fd651247-ce10-4cae-b1ea-6d3a283ae48a",
   "metadata": {},
   "outputs": [
    {
     "name": "stdout",
     "output_type": "stream",
     "text": [
      "================================\u001b[1m Human Message \u001b[0m=================================\n",
      "\n",
      "내 이름이 뭐야? 그리고 오늘 서울의 날씨는 어때?\n",
      "==================================\u001b[1m Ai Message \u001b[0m==================================\n",
      "Tool Calls:\n",
      "  tavily_search (call_yqnLMjrviSp79Jyh6HJoIEA3)\n",
      " Call ID: call_yqnLMjrviSp79Jyh6HJoIEA3\n",
      "  Args:\n",
      "    query: 내 이름이 뭐야?\n",
      "  tavily_search (call_EKWs2XfX6rx7g0x6hDuprFZt)\n",
      " Call ID: call_EKWs2XfX6rx7g0x6hDuprFZt\n",
      "  Args:\n",
      "    query: 서울 오늘 날씨\n",
      "=================================\u001b[1m Tool Message \u001b[0m=================================\n",
      "Name: tavily_search\n",
      "\n",
      "{\"query\": \"\\uc11c\\uc6b8 \\uc624\\ub298 \\ub0a0\\uc528\", \"follow_up_questions\": null, \"answer\": null, \"images\": [], \"results\": [{\"title\": \"\\uc11c\\uc6b8\\ud2b9\\ubcc4\\uc2dc, \\uc11c\\uc6b8\\uc2dc, \\ub300\\ud55c\\ubbfc\\uad6d \\uc2dc\\uac04\\ubcc4 \\ub0a0\\uc528 | AccuWeather\", \"url\": \"https://www.accuweather.com/ko/kr/seoul/226081/hourly-weather-forecast/226081\", \"content\": \"\\uc11c\\uc6b8\\ud2b9\\ubcc4\\uc2dc, \\uc11c\\uc6b8\\uc2dc, \\ub300\\ud55c\\ubbfc\\uad6d \\uc2dc\\uac04\\ubcc4 \\ub0a0\\uc528 | AccuWeather \\uc11c\\uc6b8\\ud2b9\\ubcc4\\uc2dc, \\uc11c\\uc6b8\\uc2dc ========== 65\\u00b0F \\ud604\\uc7ac \\uc704\\uce58 \\uc0ac\\uc6a9 \\uc11c\\uc6b8\\ud2b9\\ubcc4\\uc2dc \\uc11c\\uc6b8\\uc2dc 65\\u00b0 \\uc11c\\uc6b8\\ud2b9\\ubcc4\\uc2dc, \\uc11c\\uc6b8\\uc2dc \\ub0a0\\uc528 \\uc624\\ub298WinterCast\\uc9c0\\uc5ed {stormName} \\ucd94\\uc801\\uae30\\uc2dc\\uac04\\ubcc4\\uc77c\\ubcc4\\ub808\\uc774\\ub354MinuteCast\\uc6d4\\ub300\\uae30\\uc9c8\\uac74\\uac15 \\ubc0f \\ud65c\\ub3d9 \\uc804 \\uc138\\uacc4 ### \\ud5c8\\ub9ac\\ucf00\\uc778### \\uc545\\ucc9c\\ud6c4 \\uae30\\uc0c1### \\ub808\\uc774\\ub354 \\ubc0f \\uc9c0\\ub3c4### \\ub3d9\\uc601\\uc0c1 \\uc624\\ub298\\uc2dc\\uac04\\ubcc4 ---\\uc77c\\ubcc4\\ub808\\uc774\\ub354MinuteCast\\uc6d4\\ub300\\uae30\\uc9c8\\uac74\\uac15 \\ubc0f \\ud65c\\ub3d9 64\\u00b0 RealFeel\\u00ae 65\\u00b0  \\ub9d1\\uc74c \\ubc14\\ub78c \\uc11c\\ub0a8\\uc11c 4mi/h \\ub3cc\\ud48d 9mi/h \\uac00\\uc2dc\\uac70\\ub9ac 10mi 62\\u00b0 RealFeel\\u00ae 62\\u00b0  \\ub300\\uccb4\\ub85c \\ub9d1\\uc74c \\ubc14\\ub78c \\ub0a8\\uc11c 4mi/h \\ub3cc\\ud48d 7mi/h \\uac00\\uc2dc\\uac70\\ub9ac 10mi 59\\u00b0 RealFeel\\u00ae 60\\u00b0  \\ubc14\\ub78c \\ub0a8\\uc11c 2mi/h \\ub3cc\\ud48d 7mi/h \\uac00\\uc2dc\\uac70\\ub9ac 10mi \\uc804 \\uc138\\uacc4 ### \\ud5c8\\ub9ac\\ucf00\\uc778### \\uc545\\ucc9c\\ud6c4 \\uae30\\uc0c1### \\ub808\\uc774\\ub354 \\ubc0f \\uc9c0\\ub3c4### \\ub3d9\\uc601\\uc0c1 \\uc804 \\uc138\\uacc4\\uc544\\uc2dc\\uc544\\ub300\\ud55c\\ubbfc\\uad6d\\uc11c\\uc6b8\\uc2dc\\uc11c\\uc6b8\\ud2b9\\ubcc4\\uc2dc \\ub3d9\\uc791\\uad6c, \\uc11c\\uc6b8\\uc2dc \\ub9c8\\ud3ec\\uad6c, \\uc11c\\uc6b8\\uc2dc \\uc11c\\ub300\\ubb38\\uad6c, \\uc11c\\uc6b8\\uc2dc \\uc774\\uc6a9 \\uc57d\\uad00 | \\uac1c\\uc778\\uc815\\ubcf4 \\ubcf4\\ud638\\uc815\\ucc45 | \\ucfe0\\ud0a4 \\uc0ac\\uc6a9 \\uc815\\ucc45|\\uac1c\\uc778\\uc815\\ubcf4 \\ubcf4\\ud638 \\uc815\\ubcf4 \\ub0b4 \\uac1c\\uc778 \\uc815\\ubcf4\\ub97c \\ud310\\ub9e4\\ud558\\uac70\\ub098 \\uacf5\\uc720\\ud558\\uc9c0 \\ub9c8\\uc2ed\\uc2dc\\uc624. Get AccuWeather alerts as they happen with our browser notifications. Enable Notifications Notifications Enabled\", \"score\": 0.7946564, \"raw_content\": null}, {\"title\": \"\\uc11c\\uc6b8\\ud2b9\\ubcc4\\uc2dc \\uc77c\\uae30\\uc608\\ubcf4 \\ubc0f \\ub0a0\\uc528 - The Weather Channel | Weather.com\", \"url\": \"https://weather.com/ko-KR/weather/today/l/82e46175f97c224acf6b95afc4934fbae0e4ba123adcee8a52b7be97c303467b\", \"content\": \"The Weather Channel \\ubc0f Weather.com\\uc774 \\uc81c\\uacf5\\ud558\\ub294 \\uc624\\ub298\\uacfc \\uc624\\ub298 \\ubc24 \\uc11c\\uc6b8\\ud2b9\\ubcc4\\uc2dc \\uc77c\\uae30\\uc608\\ubcf4, \\ub0a0\\uc528 \\uc0c1\\ud0dc \\ubc0f \\ub3c4\\ud50c\\ub7ec \\ub808\\uc774\\ub354\", \"score\": 0.53298485, \"raw_content\": null}], \"response_time\": 1.61}\n",
      "==================================\u001b[1m Ai Message \u001b[0m==================================\n",
      "\n",
      "당신의 이름은 아직 알 수 없어요. 오늘 서울의 날씨는 약 65°F로 쾌적한 상태입니다. 더 궁금한 점이 있거나 다른 도움이 필요하시면 말씀해 주세요!\n"
     ]
    }
   ],
   "source": [
    "# `thread_id`를 \"1\" 대신 \"2\"로 변경합니다.\n",
    "events = graph.stream(\n",
    "    {\"messages\": [{\"role\": \"user\", \"content\": user_input}]},\n",
    "    {\"configurable\": {\"thread_id\": \"2\"}},\n",
    "    stream_mode=\"values\",\n",
    ")\n",
    "\n",
    "for event in events:\n",
    "    event[\"messages\"][-1].pretty_print()"
   ]
  },
  {
   "cell_type": "markdown",
   "id": "d2fbbc5a-8a63-461d-a46c-224813666389",
   "metadata": {},
   "source": [
    "---\n",
    "지금까지 두 개의 서로 다른 thread에서 여러 개의 체크포인트를 생성했습니다. 체크포인트에는 어떤 정보가 저장되는 정보는 다음과 같습니다. \n",
    "\n",
    "- 현재 상태 값(Current State Values) \n",
    "- 해당 상태와 연결된 `config` 정보  \n",
    "- 다음으로 처리할 노드(Next Node to Process) "
   ]
  },
  {
   "cell_type": "code",
   "execution_count": 28,
   "id": "7db83c64-770e-4793-9088-b7b04ade4f17",
   "metadata": {},
   "outputs": [
    {
     "data": {
      "text/plain": [
       "StateSnapshot(values={'messages': [HumanMessage(content='안녕하세요! 제 이름은 길동이에요.', additional_kwargs={}, response_metadata={}, id='69056316-53bc-4512-b18a-5bdbb4e3d9a1'), AIMessage(content='안녕하세요, 길동님! 만나서 반가워요. 오늘 어떻게 도와드릴까요?', additional_kwargs={'refusal': None}, response_metadata={'token_usage': {'completion_tokens': 23, 'prompt_tokens': 778, 'total_tokens': 801, 'completion_tokens_details': {'accepted_prediction_tokens': 0, 'audio_tokens': 0, 'reasoning_tokens': 0, 'rejected_prediction_tokens': 0}, 'prompt_tokens_details': {'audio_tokens': 0, 'cached_tokens': 0}}, 'model_name': 'gpt-4.1-nano-2025-04-14', 'system_fingerprint': 'fp_38343a2f8f', 'finish_reason': 'stop', 'logprobs': None}, id='run-dae07f3b-504c-45ed-98cd-a5fad9c45e35-0', usage_metadata={'input_tokens': 778, 'output_tokens': 23, 'total_tokens': 801, 'input_token_details': {'audio': 0, 'cache_read': 0}, 'output_token_details': {'audio': 0, 'reasoning': 0}}), HumanMessage(content='내 이름이 뭐야? 그리고 오늘 서울의 날씨는 어때?', additional_kwargs={}, response_metadata={}, id='b1500845-f3fb-4ffd-9594-94bfad97e48b'), AIMessage(content='', additional_kwargs={'tool_calls': [{'id': 'call_AUHTUDJUQaDbhlNpWYoQz7bp', 'function': {'arguments': '{\"query\": \"길동이 이름\"}', 'name': 'tavily_search'}, 'type': 'function'}], 'refusal': None}, response_metadata={'token_usage': {'completion_tokens': 36, 'prompt_tokens': 824, 'total_tokens': 860, 'completion_tokens_details': {'accepted_prediction_tokens': 0, 'audio_tokens': 0, 'reasoning_tokens': 0, 'rejected_prediction_tokens': 0}, 'prompt_tokens_details': {'audio_tokens': 0, 'cached_tokens': 0}}, 'model_name': 'gpt-4.1-nano-2025-04-14', 'system_fingerprint': 'fp_38343a2f8f', 'finish_reason': 'tool_calls', 'logprobs': None}, id='run-138dddbb-9cd5-472f-afaa-0a1653e8c27e-0', tool_calls=[{'name': 'tavily_search', 'args': {'query': '길동이 이름'}, 'id': 'call_AUHTUDJUQaDbhlNpWYoQz7bp', 'type': 'tool_call'}], usage_metadata={'input_tokens': 824, 'output_tokens': 36, 'total_tokens': 860, 'input_token_details': {'audio': 0, 'cache_read': 0}, 'output_token_details': {'audio': 0, 'reasoning': 0}}), ToolMessage(content='{\"query\": \"\\\\uae38\\\\ub3d9\\\\uc774 \\\\uc774\\\\ub984\", \"follow_up_questions\": null, \"answer\": null, \"images\": [], \"results\": [{\"title\": \"\\\\uace0\\\\uae38\\\\ub3d9 - \\\\ub098\\\\ubb34\\\\uc704\\\\ud0a4\", \"url\": \"https://namu.wiki/w/\\\\uace0\\\\uae38\\\\ub3d9\", \"content\": \"\\\\uc544\\\\uae30\\\\uacf5\\\\ub8e1 \\\\ub458\\\\ub9ac \\\\uc758 \\\\uc8fc\\\\uc5ed \\\\uc911 \\\\ud558\\\\ub098\\\\uc774\\\\uc790 \\\\ub610 \\\\ub2e4\\\\ub978 \\\\uc8fc\\\\uc778\\\\uacf5. \\\\uc11c\\\\uc6b8\\\\ud2b9\\\\ubcc4\\\\uc2dc \\\\ub3c4\\\\ubd09\\\\uad6c \\\\uc30d\\\\ubb38\\\\ub3d9 [18] \\\\uc5d0 \\\\uc0ac\\\\ub294 \\\\ud3c9\\\\ubc94\\\\ud55c \\\\uc0d0\\\\ub7ec\\\\ub9ac\\\\ub9e8\\\\uc73c\\\\ub85c \\\\uc9c1\\\\uae09\\\\uc740 \\\\uacfc\\\\uc7a5 (\\\\uc774\\\\ub978\\\\ubc14 \\\\ub9cc\\\\ub144 \\\\uacfc\\\\uc7a5)\\\\uc774\\\\ub2e4. \\\\uc791\\\\uc911\\\\uc5d0\\\\uc11c\\\\ub294 \\\\uc8fc\\\\ub85c \\\\uae38\\\\ub3d9\\\\uc774 \\\\uc544\\\\uc800\\\\uc528, \\\\uc544\\\\uc800\\\\uc528\\\\ub77c\\\\uace0 \\\\ubd88\\\\ub9ac\\\\uba70 \\\\ub3c4\\\\uc6b0\\\\ub108 \\\\ub294 \\\\uadf8\\\\ub0e5 \\\\uae38\\\\ub3d9\\\\uc544 \\\\ub77c\\\\uace0 \\\\ubd80\\\\ub974\\\\ub2e4\\\\uac00 \\\\uc5bb\\\\uc5b4 \\\\ud130\\\\uc9c0\\\\uae30 \\\\uc77c\\\\uc464\\\\uc774\\\\ub2e4.\", \"score\": 0.49245724, \"raw_content\": null}, {\"title\": \"\\\\ud64d\\\\uae38\\\\ub3d9 - \\\\ub098\\\\ubb34\\\\uc704\\\\ud0a4\", \"url\": \"https://namu.wiki/w/\\\\ud64d\\\\uae38\\\\ub3d9\", \"content\": \"\\\\u6d2a \\\\u5409 \\\\u7ae5 / Hong Gildong [1] \\\\uc18c\\\\uc124 \\'\\\\ud64d\\\\uae38\\\\ub3d9\\\\uc804\\'\\\\uc758 \\\\uc8fc\\\\uc778\\\\uacf5\\\\uc774\\\\uc790 \\\\ucd08\\\\ub2a5\\\\ub825 \\\\uc744 \\\\ubd80\\\\ub9ac\\\\ub294 \\\\uc778\\\\ubb3c\\\\ub85c \\\\ud55c\\\\uad6d \\\\uc288\\\\ud37c\\\\ud788\\\\uc5b4\\\\ub85c \\\\uc758 \\\\uc2dc\\\\ucd08\\\\uc774\\\\uc790 \\\\ub300\\\\ud45c \\\\uaca9\\\\uc774\\\\ub2e4. \\\\uc2b9\\\\uc0c1 \\\\ud64d\\\\ubb38\\\\uacfc \\\\ubab8\\\\uc885 \\\\ucd98\\\\uc12c \\\\uc0ac\\\\uc774\\\\uc5d0\\\\uc11c \\\\ud0dc\\\\uc5b4\\\\ub09c \\\\uc5bc\\\\uc790 \\\\uc774\\\\ub2e4. [2] \\\\uace0\\\\uc804 \\\\uc18c\\\\uc124 \\\\uc8fc\\\\uc778\\\\uacf5\\\\ub2f5\\\\uac8c \\\\ud0dc\\\\ubabd \\\\ubd80\\\\ud130 \\\\ube44\\\\ubc94\\\\ud55c\\\\ub370, \\\\ud64d\\\\ubb38\\\\uc774 \\\\ub300\\\\ub0ae\\\\uc5d0 \\\\uccad\\\\ub8e1 \\\\uc774 \\\\ub098\\\\uc624\\\\ub294 \\\\uafc8 \\\\uc744 \\\\uafb8\\\\uace0 \\\\uadc0\\\\ud55c \\\\uc544\\\\ub4e4 \\\\uc774 \\\\ud0dc\\\\uc5b4\\\\ub0a0 \\\\ud0dc\\\\ubabd\\\\uc784\\\\uc744\", \"score\": 0.48440504, \"raw_content\": null}], \"response_time\": 3.15}', name='tavily_search', id='2960409f-c6b4-4c55-8a8c-85df6ac26351', tool_call_id='call_AUHTUDJUQaDbhlNpWYoQz7bp'), AIMessage(content='', additional_kwargs={'tool_calls': [{'id': 'call_LFGA8nag7935MKjxFj9mpp8V', 'function': {'arguments': '{\"query\":\"오늘 서울 날씨\"}', 'name': 'tavily_search'}, 'type': 'function'}], 'refusal': None}, response_metadata={'token_usage': {'completion_tokens': 19, 'prompt_tokens': 1815, 'total_tokens': 1834, 'completion_tokens_details': {'accepted_prediction_tokens': 0, 'audio_tokens': 0, 'reasoning_tokens': 0, 'rejected_prediction_tokens': 0}, 'prompt_tokens_details': {'audio_tokens': 0, 'cached_tokens': 0}}, 'model_name': 'gpt-4.1-nano-2025-04-14', 'system_fingerprint': 'fp_38343a2f8f', 'finish_reason': 'tool_calls', 'logprobs': None}, id='run-28033dd6-e954-4acb-a115-2da9f0ddc918-0', tool_calls=[{'name': 'tavily_search', 'args': {'query': '오늘 서울 날씨'}, 'id': 'call_LFGA8nag7935MKjxFj9mpp8V', 'type': 'tool_call'}], usage_metadata={'input_tokens': 1815, 'output_tokens': 19, 'total_tokens': 1834, 'input_token_details': {'audio': 0, 'cache_read': 0}, 'output_token_details': {'audio': 0, 'reasoning': 0}}), ToolMessage(content='{\"query\": \"\\\\uc624\\\\ub298 \\\\uc11c\\\\uc6b8 \\\\ub0a0\\\\uc528\", \"follow_up_questions\": null, \"answer\": null, \"images\": [], \"results\": [{\"title\": \"\\\\uc11c\\\\uc6b8\\\\ud2b9\\\\ubcc4\\\\uc2dc, \\\\uc11c\\\\uc6b8\\\\uc2dc, \\\\ub300\\\\ud55c\\\\ubbfc\\\\uad6d \\\\uc2dc\\\\uac04\\\\ubcc4 \\\\ub0a0\\\\uc528 | AccuWeather\", \"url\": \"https://www.accuweather.com/ko/kr/seoul/226081/hourly-weather-forecast/226081\", \"content\": \"\\\\uc11c\\\\uc6b8\\\\ud2b9\\\\ubcc4\\\\uc2dc, \\\\uc11c\\\\uc6b8\\\\uc2dc, \\\\ub300\\\\ud55c\\\\ubbfc\\\\uad6d \\\\uc2dc\\\\uac04\\\\ubcc4 \\\\ub0a0\\\\uc528 | AccuWeather \\\\uc11c\\\\uc6b8\\\\ud2b9\\\\ubcc4\\\\uc2dc, \\\\uc11c\\\\uc6b8\\\\uc2dc ========== 65\\\\u00b0F \\\\ud604\\\\uc7ac \\\\uc704\\\\uce58 \\\\uc0ac\\\\uc6a9 \\\\uc11c\\\\uc6b8\\\\ud2b9\\\\ubcc4\\\\uc2dc \\\\uc11c\\\\uc6b8\\\\uc2dc 65\\\\u00b0 \\\\uc11c\\\\uc6b8\\\\ud2b9\\\\ubcc4\\\\uc2dc, \\\\uc11c\\\\uc6b8\\\\uc2dc \\\\ub0a0\\\\uc528 \\\\uc624\\\\ub298WinterCast\\\\uc9c0\\\\uc5ed {stormName} \\\\ucd94\\\\uc801\\\\uae30\\\\uc2dc\\\\uac04\\\\ubcc4\\\\uc77c\\\\ubcc4\\\\ub808\\\\uc774\\\\ub354MinuteCast\\\\uc6d4\\\\ub300\\\\uae30\\\\uc9c8\\\\uac74\\\\uac15 \\\\ubc0f \\\\ud65c\\\\ub3d9 \\\\uc804 \\\\uc138\\\\uacc4 ### \\\\ud5c8\\\\ub9ac\\\\ucf00\\\\uc778### \\\\uc545\\\\ucc9c\\\\ud6c4 \\\\uae30\\\\uc0c1### \\\\ub808\\\\uc774\\\\ub354 \\\\ubc0f \\\\uc9c0\\\\ub3c4### \\\\ub3d9\\\\uc601\\\\uc0c1 \\\\uc624\\\\ub298\\\\uc2dc\\\\uac04\\\\ubcc4 ---\\\\uc77c\\\\ubcc4\\\\ub808\\\\uc774\\\\ub354MinuteCast\\\\uc6d4\\\\ub300\\\\uae30\\\\uc9c8\\\\uac74\\\\uac15 \\\\ubc0f \\\\ud65c\\\\ub3d9 64\\\\u00b0 RealFeel\\\\u00ae 65\\\\u00b0  \\\\ub9d1\\\\uc74c \\\\ubc14\\\\ub78c \\\\uc11c\\\\ub0a8\\\\uc11c 4mi/h \\\\ub3cc\\\\ud48d 9mi/h \\\\uac00\\\\uc2dc\\\\uac70\\\\ub9ac 10mi 62\\\\u00b0 RealFeel\\\\u00ae 62\\\\u00b0  \\\\ub300\\\\uccb4\\\\ub85c \\\\ub9d1\\\\uc74c \\\\ubc14\\\\ub78c \\\\ub0a8\\\\uc11c 4mi/h \\\\ub3cc\\\\ud48d 7mi/h \\\\uac00\\\\uc2dc\\\\uac70\\\\ub9ac 10mi 59\\\\u00b0 RealFeel\\\\u00ae 60\\\\u00b0  \\\\ubc14\\\\ub78c \\\\ub0a8\\\\uc11c 2mi/h \\\\ub3cc\\\\ud48d 7mi/h \\\\uac00\\\\uc2dc\\\\uac70\\\\ub9ac 10mi \\\\uc804 \\\\uc138\\\\uacc4 ### \\\\ud5c8\\\\ub9ac\\\\ucf00\\\\uc778### \\\\uc545\\\\ucc9c\\\\ud6c4 \\\\uae30\\\\uc0c1### \\\\ub808\\\\uc774\\\\ub354 \\\\ubc0f \\\\uc9c0\\\\ub3c4### \\\\ub3d9\\\\uc601\\\\uc0c1 \\\\uc804 \\\\uc138\\\\uacc4\\\\uc544\\\\uc2dc\\\\uc544\\\\ub300\\\\ud55c\\\\ubbfc\\\\uad6d\\\\uc11c\\\\uc6b8\\\\uc2dc\\\\uc11c\\\\uc6b8\\\\ud2b9\\\\ubcc4\\\\uc2dc \\\\ub3d9\\\\uc791\\\\uad6c, \\\\uc11c\\\\uc6b8\\\\uc2dc \\\\ub9c8\\\\ud3ec\\\\uad6c, \\\\uc11c\\\\uc6b8\\\\uc2dc \\\\uc11c\\\\ub300\\\\ubb38\\\\uad6c, \\\\uc11c\\\\uc6b8\\\\uc2dc \\\\uc774\\\\uc6a9 \\\\uc57d\\\\uad00 | \\\\uac1c\\\\uc778\\\\uc815\\\\ubcf4 \\\\ubcf4\\\\ud638\\\\uc815\\\\ucc45 | \\\\ucfe0\\\\ud0a4 \\\\uc0ac\\\\uc6a9 \\\\uc815\\\\ucc45|\\\\uac1c\\\\uc778\\\\uc815\\\\ubcf4 \\\\ubcf4\\\\ud638 \\\\uc815\\\\ubcf4 \\\\ub0b4 \\\\uac1c\\\\uc778 \\\\uc815\\\\ubcf4\\\\ub97c \\\\ud310\\\\ub9e4\\\\ud558\\\\uac70\\\\ub098 \\\\uacf5\\\\uc720\\\\ud558\\\\uc9c0 \\\\ub9c8\\\\uc2ed\\\\uc2dc\\\\uc624. Get AccuWeather alerts as they happen with our browser notifications. Enable Notifications Notifications Enabled\", \"score\": 0.79080546, \"raw_content\": null}, {\"title\": \"\\\\uc11c\\\\uc6b8\\\\ud2b9\\\\ubcc4\\\\uc2dc \\\\uc77c\\\\uae30\\\\uc608\\\\ubcf4 \\\\ubc0f \\\\ub0a0\\\\uc528 - The Weather Channel | Weather.com\", \"url\": \"https://weather.com/ko-KR/weather/today/l/82e46175f97c224acf6b95afc4934fbae0e4ba123adcee8a52b7be97c303467b\", \"content\": \"The Weather Channel \\\\ubc0f Weather.com\\\\uc774 \\\\uc81c\\\\uacf5\\\\ud558\\\\ub294 \\\\uc624\\\\ub298\\\\uacfc \\\\uc624\\\\ub298 \\\\ubc24 \\\\uc11c\\\\uc6b8\\\\ud2b9\\\\ubcc4\\\\uc2dc \\\\uc77c\\\\uae30\\\\uc608\\\\ubcf4, \\\\ub0a0\\\\uc528 \\\\uc0c1\\\\ud0dc \\\\ubc0f \\\\ub3c4\\\\ud50c\\\\ub7ec \\\\ub808\\\\uc774\\\\ub354\", \"score\": 0.5568099, \"raw_content\": null}], \"response_time\": 1.77}', name='tavily_search', id='b13edff1-deb4-4d8f-baa7-a8a634388633', tool_call_id='call_LFGA8nag7935MKjxFj9mpp8V'), AIMessage(content='길동님께서 제 이름이 길동이라고 말씀하셨고, 오늘 서울의 날씨는 대체로 맑으며, 현재 기온은 약 65°F (약 18°C)라고 합니다. 더 자세한 날씨 정보는 [여기](https://www.accuweather.com/ko/kr/seoul/226081/hourly-weather-forecast/226081)를 참고하시면 좋을 것 같아요.', additional_kwargs={'refusal': None}, response_metadata={'token_usage': {'completion_tokens': 92, 'prompt_tokens': 3340, 'total_tokens': 3432, 'completion_tokens_details': {'accepted_prediction_tokens': 0, 'audio_tokens': 0, 'reasoning_tokens': 0, 'rejected_prediction_tokens': 0}, 'prompt_tokens_details': {'audio_tokens': 0, 'cached_tokens': 1664}}, 'model_name': 'gpt-4.1-nano-2025-04-14', 'system_fingerprint': 'fp_38343a2f8f', 'finish_reason': 'stop', 'logprobs': None}, id='run-b51c7e86-b6a9-4bc1-b519-e98f0906cc07-0', usage_metadata={'input_tokens': 3340, 'output_tokens': 92, 'total_tokens': 3432, 'input_token_details': {'audio': 0, 'cache_read': 1664}, 'output_token_details': {'audio': 0, 'reasoning': 0}})]}, next=(), config={'configurable': {'thread_id': '1', 'checkpoint_ns': '', 'checkpoint_id': '1f049c5c-1d3f-6de0-8008-8bb00ae5268f'}}, metadata={'source': 'loop', 'writes': {'chatbot': {'messages': [AIMessage(content='길동님께서 제 이름이 길동이라고 말씀하셨고, 오늘 서울의 날씨는 대체로 맑으며, 현재 기온은 약 65°F (약 18°C)라고 합니다. 더 자세한 날씨 정보는 [여기](https://www.accuweather.com/ko/kr/seoul/226081/hourly-weather-forecast/226081)를 참고하시면 좋을 것 같아요.', additional_kwargs={'refusal': None}, response_metadata={'token_usage': {'completion_tokens': 92, 'prompt_tokens': 3340, 'total_tokens': 3432, 'completion_tokens_details': {'accepted_prediction_tokens': 0, 'audio_tokens': 0, 'reasoning_tokens': 0, 'rejected_prediction_tokens': 0}, 'prompt_tokens_details': {'audio_tokens': 0, 'cached_tokens': 1664}}, 'model_name': 'gpt-4.1-nano-2025-04-14', 'system_fingerprint': 'fp_38343a2f8f', 'finish_reason': 'stop', 'logprobs': None}, id='run-b51c7e86-b6a9-4bc1-b519-e98f0906cc07-0', usage_metadata={'input_tokens': 3340, 'output_tokens': 92, 'total_tokens': 3432, 'input_token_details': {'audio': 0, 'cache_read': 1664}, 'output_token_details': {'audio': 0, 'reasoning': 0}})]}}, 'thread_id': '1', 'step': 8, 'parents': {}}, created_at='2025-06-15T08:50:15.776611+00:00', parent_config={'configurable': {'thread_id': '1', 'checkpoint_ns': '', 'checkpoint_id': '1f049c5c-1504-671b-8007-dd1739d8f63b'}}, tasks=())"
      ]
     },
     "execution_count": 28,
     "metadata": {},
     "output_type": "execute_result"
    }
   ],
   "source": [
    "snapshot = graph.get_state(config)\n",
    "snapshot"
   ]
  },
  {
   "cell_type": "code",
   "execution_count": 29,
   "id": "589b0b60-b7ba-4cbe-a33f-f451e729fb4c",
   "metadata": {},
   "outputs": [
    {
     "data": {
      "text/plain": [
       "{'messages': [HumanMessage(content='안녕하세요! 제 이름은 길동이에요.', additional_kwargs={}, response_metadata={}, id='69056316-53bc-4512-b18a-5bdbb4e3d9a1'),\n",
       "  AIMessage(content='안녕하세요, 길동님! 만나서 반가워요. 오늘 어떻게 도와드릴까요?', additional_kwargs={'refusal': None}, response_metadata={'token_usage': {'completion_tokens': 23, 'prompt_tokens': 778, 'total_tokens': 801, 'completion_tokens_details': {'accepted_prediction_tokens': 0, 'audio_tokens': 0, 'reasoning_tokens': 0, 'rejected_prediction_tokens': 0}, 'prompt_tokens_details': {'audio_tokens': 0, 'cached_tokens': 0}}, 'model_name': 'gpt-4.1-nano-2025-04-14', 'system_fingerprint': 'fp_38343a2f8f', 'finish_reason': 'stop', 'logprobs': None}, id='run-dae07f3b-504c-45ed-98cd-a5fad9c45e35-0', usage_metadata={'input_tokens': 778, 'output_tokens': 23, 'total_tokens': 801, 'input_token_details': {'audio': 0, 'cache_read': 0}, 'output_token_details': {'audio': 0, 'reasoning': 0}}),\n",
       "  HumanMessage(content='내 이름이 뭐야? 그리고 오늘 서울의 날씨는 어때?', additional_kwargs={}, response_metadata={}, id='b1500845-f3fb-4ffd-9594-94bfad97e48b'),\n",
       "  AIMessage(content='', additional_kwargs={'tool_calls': [{'id': 'call_AUHTUDJUQaDbhlNpWYoQz7bp', 'function': {'arguments': '{\"query\": \"길동이 이름\"}', 'name': 'tavily_search'}, 'type': 'function'}], 'refusal': None}, response_metadata={'token_usage': {'completion_tokens': 36, 'prompt_tokens': 824, 'total_tokens': 860, 'completion_tokens_details': {'accepted_prediction_tokens': 0, 'audio_tokens': 0, 'reasoning_tokens': 0, 'rejected_prediction_tokens': 0}, 'prompt_tokens_details': {'audio_tokens': 0, 'cached_tokens': 0}}, 'model_name': 'gpt-4.1-nano-2025-04-14', 'system_fingerprint': 'fp_38343a2f8f', 'finish_reason': 'tool_calls', 'logprobs': None}, id='run-138dddbb-9cd5-472f-afaa-0a1653e8c27e-0', tool_calls=[{'name': 'tavily_search', 'args': {'query': '길동이 이름'}, 'id': 'call_AUHTUDJUQaDbhlNpWYoQz7bp', 'type': 'tool_call'}], usage_metadata={'input_tokens': 824, 'output_tokens': 36, 'total_tokens': 860, 'input_token_details': {'audio': 0, 'cache_read': 0}, 'output_token_details': {'audio': 0, 'reasoning': 0}}),\n",
       "  ToolMessage(content='{\"query\": \"\\\\uae38\\\\ub3d9\\\\uc774 \\\\uc774\\\\ub984\", \"follow_up_questions\": null, \"answer\": null, \"images\": [], \"results\": [{\"title\": \"\\\\uace0\\\\uae38\\\\ub3d9 - \\\\ub098\\\\ubb34\\\\uc704\\\\ud0a4\", \"url\": \"https://namu.wiki/w/\\\\uace0\\\\uae38\\\\ub3d9\", \"content\": \"\\\\uc544\\\\uae30\\\\uacf5\\\\ub8e1 \\\\ub458\\\\ub9ac \\\\uc758 \\\\uc8fc\\\\uc5ed \\\\uc911 \\\\ud558\\\\ub098\\\\uc774\\\\uc790 \\\\ub610 \\\\ub2e4\\\\ub978 \\\\uc8fc\\\\uc778\\\\uacf5. \\\\uc11c\\\\uc6b8\\\\ud2b9\\\\ubcc4\\\\uc2dc \\\\ub3c4\\\\ubd09\\\\uad6c \\\\uc30d\\\\ubb38\\\\ub3d9 [18] \\\\uc5d0 \\\\uc0ac\\\\ub294 \\\\ud3c9\\\\ubc94\\\\ud55c \\\\uc0d0\\\\ub7ec\\\\ub9ac\\\\ub9e8\\\\uc73c\\\\ub85c \\\\uc9c1\\\\uae09\\\\uc740 \\\\uacfc\\\\uc7a5 (\\\\uc774\\\\ub978\\\\ubc14 \\\\ub9cc\\\\ub144 \\\\uacfc\\\\uc7a5)\\\\uc774\\\\ub2e4. \\\\uc791\\\\uc911\\\\uc5d0\\\\uc11c\\\\ub294 \\\\uc8fc\\\\ub85c \\\\uae38\\\\ub3d9\\\\uc774 \\\\uc544\\\\uc800\\\\uc528, \\\\uc544\\\\uc800\\\\uc528\\\\ub77c\\\\uace0 \\\\ubd88\\\\ub9ac\\\\uba70 \\\\ub3c4\\\\uc6b0\\\\ub108 \\\\ub294 \\\\uadf8\\\\ub0e5 \\\\uae38\\\\ub3d9\\\\uc544 \\\\ub77c\\\\uace0 \\\\ubd80\\\\ub974\\\\ub2e4\\\\uac00 \\\\uc5bb\\\\uc5b4 \\\\ud130\\\\uc9c0\\\\uae30 \\\\uc77c\\\\uc464\\\\uc774\\\\ub2e4.\", \"score\": 0.49245724, \"raw_content\": null}, {\"title\": \"\\\\ud64d\\\\uae38\\\\ub3d9 - \\\\ub098\\\\ubb34\\\\uc704\\\\ud0a4\", \"url\": \"https://namu.wiki/w/\\\\ud64d\\\\uae38\\\\ub3d9\", \"content\": \"\\\\u6d2a \\\\u5409 \\\\u7ae5 / Hong Gildong [1] \\\\uc18c\\\\uc124 \\'\\\\ud64d\\\\uae38\\\\ub3d9\\\\uc804\\'\\\\uc758 \\\\uc8fc\\\\uc778\\\\uacf5\\\\uc774\\\\uc790 \\\\ucd08\\\\ub2a5\\\\ub825 \\\\uc744 \\\\ubd80\\\\ub9ac\\\\ub294 \\\\uc778\\\\ubb3c\\\\ub85c \\\\ud55c\\\\uad6d \\\\uc288\\\\ud37c\\\\ud788\\\\uc5b4\\\\ub85c \\\\uc758 \\\\uc2dc\\\\ucd08\\\\uc774\\\\uc790 \\\\ub300\\\\ud45c \\\\uaca9\\\\uc774\\\\ub2e4. \\\\uc2b9\\\\uc0c1 \\\\ud64d\\\\ubb38\\\\uacfc \\\\ubab8\\\\uc885 \\\\ucd98\\\\uc12c \\\\uc0ac\\\\uc774\\\\uc5d0\\\\uc11c \\\\ud0dc\\\\uc5b4\\\\ub09c \\\\uc5bc\\\\uc790 \\\\uc774\\\\ub2e4. [2] \\\\uace0\\\\uc804 \\\\uc18c\\\\uc124 \\\\uc8fc\\\\uc778\\\\uacf5\\\\ub2f5\\\\uac8c \\\\ud0dc\\\\ubabd \\\\ubd80\\\\ud130 \\\\ube44\\\\ubc94\\\\ud55c\\\\ub370, \\\\ud64d\\\\ubb38\\\\uc774 \\\\ub300\\\\ub0ae\\\\uc5d0 \\\\uccad\\\\ub8e1 \\\\uc774 \\\\ub098\\\\uc624\\\\ub294 \\\\uafc8 \\\\uc744 \\\\uafb8\\\\uace0 \\\\uadc0\\\\ud55c \\\\uc544\\\\ub4e4 \\\\uc774 \\\\ud0dc\\\\uc5b4\\\\ub0a0 \\\\ud0dc\\\\ubabd\\\\uc784\\\\uc744\", \"score\": 0.48440504, \"raw_content\": null}], \"response_time\": 3.15}', name='tavily_search', id='2960409f-c6b4-4c55-8a8c-85df6ac26351', tool_call_id='call_AUHTUDJUQaDbhlNpWYoQz7bp'),\n",
       "  AIMessage(content='', additional_kwargs={'tool_calls': [{'id': 'call_LFGA8nag7935MKjxFj9mpp8V', 'function': {'arguments': '{\"query\":\"오늘 서울 날씨\"}', 'name': 'tavily_search'}, 'type': 'function'}], 'refusal': None}, response_metadata={'token_usage': {'completion_tokens': 19, 'prompt_tokens': 1815, 'total_tokens': 1834, 'completion_tokens_details': {'accepted_prediction_tokens': 0, 'audio_tokens': 0, 'reasoning_tokens': 0, 'rejected_prediction_tokens': 0}, 'prompt_tokens_details': {'audio_tokens': 0, 'cached_tokens': 0}}, 'model_name': 'gpt-4.1-nano-2025-04-14', 'system_fingerprint': 'fp_38343a2f8f', 'finish_reason': 'tool_calls', 'logprobs': None}, id='run-28033dd6-e954-4acb-a115-2da9f0ddc918-0', tool_calls=[{'name': 'tavily_search', 'args': {'query': '오늘 서울 날씨'}, 'id': 'call_LFGA8nag7935MKjxFj9mpp8V', 'type': 'tool_call'}], usage_metadata={'input_tokens': 1815, 'output_tokens': 19, 'total_tokens': 1834, 'input_token_details': {'audio': 0, 'cache_read': 0}, 'output_token_details': {'audio': 0, 'reasoning': 0}}),\n",
       "  ToolMessage(content='{\"query\": \"\\\\uc624\\\\ub298 \\\\uc11c\\\\uc6b8 \\\\ub0a0\\\\uc528\", \"follow_up_questions\": null, \"answer\": null, \"images\": [], \"results\": [{\"title\": \"\\\\uc11c\\\\uc6b8\\\\ud2b9\\\\ubcc4\\\\uc2dc, \\\\uc11c\\\\uc6b8\\\\uc2dc, \\\\ub300\\\\ud55c\\\\ubbfc\\\\uad6d \\\\uc2dc\\\\uac04\\\\ubcc4 \\\\ub0a0\\\\uc528 | AccuWeather\", \"url\": \"https://www.accuweather.com/ko/kr/seoul/226081/hourly-weather-forecast/226081\", \"content\": \"\\\\uc11c\\\\uc6b8\\\\ud2b9\\\\ubcc4\\\\uc2dc, \\\\uc11c\\\\uc6b8\\\\uc2dc, \\\\ub300\\\\ud55c\\\\ubbfc\\\\uad6d \\\\uc2dc\\\\uac04\\\\ubcc4 \\\\ub0a0\\\\uc528 | AccuWeather \\\\uc11c\\\\uc6b8\\\\ud2b9\\\\ubcc4\\\\uc2dc, \\\\uc11c\\\\uc6b8\\\\uc2dc ========== 65\\\\u00b0F \\\\ud604\\\\uc7ac \\\\uc704\\\\uce58 \\\\uc0ac\\\\uc6a9 \\\\uc11c\\\\uc6b8\\\\ud2b9\\\\ubcc4\\\\uc2dc \\\\uc11c\\\\uc6b8\\\\uc2dc 65\\\\u00b0 \\\\uc11c\\\\uc6b8\\\\ud2b9\\\\ubcc4\\\\uc2dc, \\\\uc11c\\\\uc6b8\\\\uc2dc \\\\ub0a0\\\\uc528 \\\\uc624\\\\ub298WinterCast\\\\uc9c0\\\\uc5ed {stormName} \\\\ucd94\\\\uc801\\\\uae30\\\\uc2dc\\\\uac04\\\\ubcc4\\\\uc77c\\\\ubcc4\\\\ub808\\\\uc774\\\\ub354MinuteCast\\\\uc6d4\\\\ub300\\\\uae30\\\\uc9c8\\\\uac74\\\\uac15 \\\\ubc0f \\\\ud65c\\\\ub3d9 \\\\uc804 \\\\uc138\\\\uacc4 ### \\\\ud5c8\\\\ub9ac\\\\ucf00\\\\uc778### \\\\uc545\\\\ucc9c\\\\ud6c4 \\\\uae30\\\\uc0c1### \\\\ub808\\\\uc774\\\\ub354 \\\\ubc0f \\\\uc9c0\\\\ub3c4### \\\\ub3d9\\\\uc601\\\\uc0c1 \\\\uc624\\\\ub298\\\\uc2dc\\\\uac04\\\\ubcc4 ---\\\\uc77c\\\\ubcc4\\\\ub808\\\\uc774\\\\ub354MinuteCast\\\\uc6d4\\\\ub300\\\\uae30\\\\uc9c8\\\\uac74\\\\uac15 \\\\ubc0f \\\\ud65c\\\\ub3d9 64\\\\u00b0 RealFeel\\\\u00ae 65\\\\u00b0  \\\\ub9d1\\\\uc74c \\\\ubc14\\\\ub78c \\\\uc11c\\\\ub0a8\\\\uc11c 4mi/h \\\\ub3cc\\\\ud48d 9mi/h \\\\uac00\\\\uc2dc\\\\uac70\\\\ub9ac 10mi 62\\\\u00b0 RealFeel\\\\u00ae 62\\\\u00b0  \\\\ub300\\\\uccb4\\\\ub85c \\\\ub9d1\\\\uc74c \\\\ubc14\\\\ub78c \\\\ub0a8\\\\uc11c 4mi/h \\\\ub3cc\\\\ud48d 7mi/h \\\\uac00\\\\uc2dc\\\\uac70\\\\ub9ac 10mi 59\\\\u00b0 RealFeel\\\\u00ae 60\\\\u00b0  \\\\ubc14\\\\ub78c \\\\ub0a8\\\\uc11c 2mi/h \\\\ub3cc\\\\ud48d 7mi/h \\\\uac00\\\\uc2dc\\\\uac70\\\\ub9ac 10mi \\\\uc804 \\\\uc138\\\\uacc4 ### \\\\ud5c8\\\\ub9ac\\\\ucf00\\\\uc778### \\\\uc545\\\\ucc9c\\\\ud6c4 \\\\uae30\\\\uc0c1### \\\\ub808\\\\uc774\\\\ub354 \\\\ubc0f \\\\uc9c0\\\\ub3c4### \\\\ub3d9\\\\uc601\\\\uc0c1 \\\\uc804 \\\\uc138\\\\uacc4\\\\uc544\\\\uc2dc\\\\uc544\\\\ub300\\\\ud55c\\\\ubbfc\\\\uad6d\\\\uc11c\\\\uc6b8\\\\uc2dc\\\\uc11c\\\\uc6b8\\\\ud2b9\\\\ubcc4\\\\uc2dc \\\\ub3d9\\\\uc791\\\\uad6c, \\\\uc11c\\\\uc6b8\\\\uc2dc \\\\ub9c8\\\\ud3ec\\\\uad6c, \\\\uc11c\\\\uc6b8\\\\uc2dc \\\\uc11c\\\\ub300\\\\ubb38\\\\uad6c, \\\\uc11c\\\\uc6b8\\\\uc2dc \\\\uc774\\\\uc6a9 \\\\uc57d\\\\uad00 | \\\\uac1c\\\\uc778\\\\uc815\\\\ubcf4 \\\\ubcf4\\\\ud638\\\\uc815\\\\ucc45 | \\\\ucfe0\\\\ud0a4 \\\\uc0ac\\\\uc6a9 \\\\uc815\\\\ucc45|\\\\uac1c\\\\uc778\\\\uc815\\\\ubcf4 \\\\ubcf4\\\\ud638 \\\\uc815\\\\ubcf4 \\\\ub0b4 \\\\uac1c\\\\uc778 \\\\uc815\\\\ubcf4\\\\ub97c \\\\ud310\\\\ub9e4\\\\ud558\\\\uac70\\\\ub098 \\\\uacf5\\\\uc720\\\\ud558\\\\uc9c0 \\\\ub9c8\\\\uc2ed\\\\uc2dc\\\\uc624. Get AccuWeather alerts as they happen with our browser notifications. Enable Notifications Notifications Enabled\", \"score\": 0.79080546, \"raw_content\": null}, {\"title\": \"\\\\uc11c\\\\uc6b8\\\\ud2b9\\\\ubcc4\\\\uc2dc \\\\uc77c\\\\uae30\\\\uc608\\\\ubcf4 \\\\ubc0f \\\\ub0a0\\\\uc528 - The Weather Channel | Weather.com\", \"url\": \"https://weather.com/ko-KR/weather/today/l/82e46175f97c224acf6b95afc4934fbae0e4ba123adcee8a52b7be97c303467b\", \"content\": \"The Weather Channel \\\\ubc0f Weather.com\\\\uc774 \\\\uc81c\\\\uacf5\\\\ud558\\\\ub294 \\\\uc624\\\\ub298\\\\uacfc \\\\uc624\\\\ub298 \\\\ubc24 \\\\uc11c\\\\uc6b8\\\\ud2b9\\\\ubcc4\\\\uc2dc \\\\uc77c\\\\uae30\\\\uc608\\\\ubcf4, \\\\ub0a0\\\\uc528 \\\\uc0c1\\\\ud0dc \\\\ubc0f \\\\ub3c4\\\\ud50c\\\\ub7ec \\\\ub808\\\\uc774\\\\ub354\", \"score\": 0.5568099, \"raw_content\": null}], \"response_time\": 1.77}', name='tavily_search', id='b13edff1-deb4-4d8f-baa7-a8a634388633', tool_call_id='call_LFGA8nag7935MKjxFj9mpp8V'),\n",
       "  AIMessage(content='길동님께서 제 이름이 길동이라고 말씀하셨고, 오늘 서울의 날씨는 대체로 맑으며, 현재 기온은 약 65°F (약 18°C)라고 합니다. 더 자세한 날씨 정보는 [여기](https://www.accuweather.com/ko/kr/seoul/226081/hourly-weather-forecast/226081)를 참고하시면 좋을 것 같아요.', additional_kwargs={'refusal': None}, response_metadata={'token_usage': {'completion_tokens': 92, 'prompt_tokens': 3340, 'total_tokens': 3432, 'completion_tokens_details': {'accepted_prediction_tokens': 0, 'audio_tokens': 0, 'reasoning_tokens': 0, 'rejected_prediction_tokens': 0}, 'prompt_tokens_details': {'audio_tokens': 0, 'cached_tokens': 1664}}, 'model_name': 'gpt-4.1-nano-2025-04-14', 'system_fingerprint': 'fp_38343a2f8f', 'finish_reason': 'stop', 'logprobs': None}, id='run-b51c7e86-b6a9-4bc1-b519-e98f0906cc07-0', usage_metadata={'input_tokens': 3340, 'output_tokens': 92, 'total_tokens': 3432, 'input_token_details': {'audio': 0, 'cache_read': 1664}, 'output_token_details': {'audio': 0, 'reasoning': 0}})]}"
      ]
     },
     "execution_count": 29,
     "metadata": {},
     "output_type": "execute_result"
    }
   ],
   "source": [
    "# 현재 상태 값\n",
    "snapshot.values"
   ]
  },
  {
   "cell_type": "code",
   "execution_count": 30,
   "id": "e8854f3b-fc78-45a5-87ef-7c7c8ca696c1",
   "metadata": {},
   "outputs": [
    {
     "data": {
      "text/plain": [
       "{'configurable': {'thread_id': '1',\n",
       "  'checkpoint_ns': '',\n",
       "  'checkpoint_id': '1f049c5c-1d3f-6de0-8008-8bb00ae5268f'}}"
      ]
     },
     "execution_count": 30,
     "metadata": {},
     "output_type": "execute_result"
    }
   ],
   "source": [
    "# 해당 상태와 관련된 config 정보\n",
    "snapshot.config"
   ]
  },
  {
   "cell_type": "code",
   "execution_count": 31,
   "id": "5572c918-8eca-4cf7-9da4-d0624d2a057e",
   "metadata": {},
   "outputs": [
    {
     "data": {
      "text/plain": [
       "()"
      ]
     },
     "execution_count": 31,
     "metadata": {},
     "output_type": "execute_result"
    }
   ],
   "source": [
    "# 다음으로 처리할 node\n",
    "snapshot.next"
   ]
  },
  {
   "cell_type": "markdown",
   "id": "3c294f10-0aaf-4feb-8642-562f9f22ba90",
   "metadata": {},
   "source": [
    "### 프롬프트 템플릿(Prompt Templates)을 사용하여 LLM 호출 최적화\n",
    "\n",
    "**프롬프트 템플릿** 은 **원시 사용자 입력(raw user input)** 을 LLM이 처리할 수 있는 형식으로 변환하는 데 도움을 줍니다.   \n",
    "\n",
    "1. 먼저, **시스템 메시지(system message)** 를 추가하여 **사용자 정의 지침(custom instructions)** 을 포함시킵니다. (여전히 메시지를 입력으로 사용)  \n",
    "2. 다음으로, 메시지 외에 **더 많은 입력 정보** 를 추가합니다.  \n",
    "\n",
    "#### **시스템 메시지(System Message) 추가하기**\n",
    "\n",
    "시스템 메시지를 추가하기 위해 **`ChatPromptTemplate`** 을 생성합니다. 여기서는 메시지 전달을 위해 **`MessagesPlaceholder`** 를 사용하겠습니다.  \n",
    "\n",
    "이렇게 하면 LLM에 전달되는 입력이 더 구조화되고, 챗봇의 동작을 더 정교하게 제어할 수 있습니다.  "
   ]
  },
  {
   "cell_type": "code",
   "execution_count": 32,
   "id": "a7a0b996-03aa-43fe-87e8-497ffa7f4c03",
   "metadata": {},
   "outputs": [],
   "source": [
    "from langchain_core.prompts import ChatPromptTemplate, MessagesPlaceholder\n",
    "\n",
    "# LLM이 사용자 입력을 더 잘 처리할 수 있도록 프롬프트 템플릿을 설정합니다.\n",
    "prompt_template = ChatPromptTemplate.from_messages(\n",
    "    [\n",
    "        # LLM의 동작 방식을 정의하는 지침\n",
    "        (\n",
    "            \"system\",\n",
    "            \"당신은 친구 처럼 말합니다. 모든 질문에 최선을 다해 대답하세요.\",\n",
    "        ),\n",
    "\n",
    "        # Messages Placeholder - 이전 대화 메시지들을 전달합\n",
    "        MessagesPlaceholder(variable_name=\"messages\"),\n",
    "    ]\n",
    ")"
   ]
  },
  {
   "cell_type": "markdown",
   "id": "22c33e0d-797c-4456-8c02-4d61579dd66a",
   "metadata": {},
   "source": [
    "이제 이 템플릿을 통합하여 애플리케이션을 업데이트할 수 있습니다."
   ]
  },
  {
   "cell_type": "code",
   "execution_count": 33,
   "id": "c490a87c-0ab3-4c3e-8d77-5bbe38a48e1a",
   "metadata": {},
   "outputs": [
    {
     "data": {
      "image/png": "[encoded data removed]",
      "text/plain": [
       "<langgraph.graph.state.CompiledStateGraph object at 0x000001D806166F70>"
      ]
     },
     "execution_count": 33,
     "metadata": {},
     "output_type": "execute_result"
    }
   ],
   "source": [
    "# 상태 스키마(State)를 정의하여 그래프 생성기 초기화\n",
    "graph_builder = StateGraph(state_schema=State)\n",
    "\n",
    "# LLM에 사용할 도구(tool)들을 바인딩하여, LLM이 도구 호출 기능을 사용할 수 있도록 설정\n",
    "llm_with_tools = llm.bind_tools(tools)\n",
    "\n",
    "# 모델 호출 함수 정의\n",
    "def chatbot(state: State):\n",
    "    # 현재 상태(state)에 포함된 메시지를 기반으로 프롬프트 생성\n",
    "    prompt = prompt_template.invoke(state)\n",
    "    \n",
    "    # 생성된 프롬프트를 LLM에 전달하여 응답을 생성\n",
    "    response = llm_with_tools.invoke(prompt)\n",
    "    \n",
    "    # LLM 응답을 딕셔너리 형태로 반환 (다음 상태로 전달됨)\n",
    "    return {\"messages\": response}\n",
    "\n",
    "# chatbot 노드를 그래프에 추가\n",
    "graph_builder.add_node(\"chatbot\", chatbot)\n",
    "\n",
    "# 툴 실행 노드 정의 및 추가\n",
    "tool_node = BasicToolNode(tools=[tool])\n",
    "graph_builder.add_node(\"tools\", tool_node)\n",
    "\n",
    "# chatbot 노드에서의 조건부 흐름 정의\n",
    "# route_tools 함수는 마지막 메시지에 도구 호출이 포함되어 있는지 판단\n",
    "# 도구 호출이 있으면 \"tools\" 노드로, 없으면 END로 이동\n",
    "graph_builder.add_conditional_edges(\n",
    "    \"chatbot\",\n",
    "    route_tools,\n",
    "    {\"tools\": \"tools\", END: END},\n",
    ")\n",
    "\n",
    "# MemorySaver를 사용하여 대화 상태를 저장할 메모리 객체 생성\n",
    "memory = MemorySaver()\n",
    "\n",
    "# 도구 실행 후 다시 chatbot 으로 흐름을 연결 (반복 가능)\n",
    "graph_builder.add_edge(\"tools\", \"chatbot\")\n",
    "\n",
    "# 그래프의 시작 지점(START)에서 chatbot 노드로 연결\n",
    "graph_builder.add_edge(START, \"chatbot\")\n",
    "\n",
    "# 모든 구성 요소를 종합하여 그래프를 컴파일 (메모리를 체크포인터로 사용)\n",
    "graph = graph_builder.compile(checkpointer=memory)\n",
    "\n",
    "# 컴파일된 그래프 객체를 확인\n",
    "graph"
   ]
  },
  {
   "cell_type": "code",
   "execution_count": 34,
   "id": "2dd72123-4664-46b0-b462-ba21ae0e7753",
   "metadata": {},
   "outputs": [
    {
     "name": "stdout",
     "output_type": "stream",
     "text": [
      "==================================\u001b[1m Ai Message \u001b[0m==================================\n",
      "\n",
      "안녕 길동이! 반가워. 오늘은 어떤 이야기 나누고 싶어?\n"
     ]
    }
   ],
   "source": [
    "# 'configurable' 키를 사용하여 추가적인 설정 값을 전달합니다.\n",
    "# 여기서는 'thread_id'를 사용하여 특정 대화 스레드를 식별합니다.\n",
    "config = {\"configurable\": {\"thread_id\": \"abc345\"}}\n",
    "\n",
    "# 메시지 목록에 사용자 메시지 추가\n",
    "input_messages = [HumanMessage(\"안녕. 나는 길동이야.\")]\n",
    "\n",
    "# 애플리케이션 호출\n",
    "# 메시지 상태(State), 설정(config) 전달\n",
    "output = graph.invoke({\"messages\": input_messages}, config)\n",
    "\n",
    "output[\"messages\"][-1].pretty_print()"
   ]
  },
  {
   "cell_type": "code",
   "execution_count": 35,
   "id": "197e0f80-c2c4-44d0-9f91-e0da1fa2c1e8",
   "metadata": {},
   "outputs": [
    {
     "name": "stdout",
     "output_type": "stream",
     "text": [
      "==================================\u001b[1m Ai Message \u001b[0m==================================\n",
      "\n",
      "네 이름은 길동이야! 맞지?\n"
     ]
    }
   ],
   "source": [
    "# 'configurable' 키를 사용하여 추가적인 설정 값을 전달합니다.\n",
    "# 여기서는 'thread_id'를 사용하여 특정 대화 스레드를 식별합니다.\n",
    "config = {\"configurable\": {\"thread_id\": \"abc345\"}}\n",
    "\n",
    "# 메시지 목록에 사용자 메시지 추가\n",
    "input_messages = [HumanMessage(\"내 이름이 뭐지?\")]\n",
    "\n",
    "# 애플리케이션 호출\n",
    "# 메시지 상태(State), 설정(config) 전달\n",
    "output = graph.invoke({\"messages\": input_messages}, config)\n",
    "\n",
    "output[\"messages\"][-1].pretty_print()"
   ]
  },
  {
   "cell_type": "code",
   "execution_count": 36,
   "id": "e745c557-6881-4ea8-b557-05cd5104d7c8",
   "metadata": {},
   "outputs": [
    {
     "name": "stdin",
     "output_type": "stream",
     "text": [
      "User:  안녕. 나는 길동이야\n"
     ]
    },
    {
     "name": "stdout",
     "output_type": "stream",
     "text": [
      "==================================\u001b[1m Ai Message \u001b[0m==================================\n",
      "\n",
      "안녕, 길동아! 반가워. 오늘 어떻게 도와줄까?\n"
     ]
    },
    {
     "name": "stdin",
     "output_type": "stream",
     "text": [
      "User:  오늘 서울의 날씨가 어때?\n"
     ]
    },
    {
     "name": "stdout",
     "output_type": "stream",
     "text": [
      "==================================\u001b[1m Ai Message \u001b[0m==================================\n",
      "\n",
      "오늘 서울의 날씨는 대체로 맑고 쾌적한 편이야. 기온은 약 31도 정도이고, 습도는 60% 정도야. 바람은 시속 6km/h로 부는 상태야. 오늘 하루도 좋은 하루 보내길 바랄게!\n"
     ]
    },
    {
     "name": "stdin",
     "output_type": "stream",
     "text": [
      "User:  내 이름이 뭐였지?\n"
     ]
    },
    {
     "name": "stdout",
     "output_type": "stream",
     "text": [
      "==================================\u001b[1m Ai Message \u001b[0m==================================\n",
      "\n",
      "네 이름은 길동이었지! 기억하고 있어. 혹시 더 궁금한 거 있으면 말해줘!\n"
     ]
    },
    {
     "name": "stdin",
     "output_type": "stream",
     "text": [
      "User:  q\n"
     ]
    },
    {
     "name": "stdout",
     "output_type": "stream",
     "text": [
      "Goodbye!\n"
     ]
    }
   ],
   "source": [
    "# 'configurable' 키를 사용하여 추가적인 설정 값을 전달합니다.\n",
    "# 여기서는 'thread_id'를 사용하여 특정 대화 스레드를 식별합니다.\n",
    "memory = MemorySaver()\n",
    "\n",
    "# 그래프를 메모리 체크포인트와 함께 컴파일합니다.\n",
    "graph = graph_builder.compile(checkpointer=memory)\n",
    "\n",
    "config = {\"configurable\": {\"thread_id\": \"abc345\"}}\n",
    "\n",
    "while True:\n",
    "    user_input = input(\"User: \")\n",
    "    if user_input.lower() in [\"quit\", \"exit\", \"q\"]:\n",
    "        print(\"Goodbye!\")\n",
    "        break\n",
    "\n",
    "    output = graph.invoke({\"messages\": user_input}, config)\n",
    "    output[\"messages\"][-1].pretty_print()"
   ]
  },
  {
   "cell_type": "markdown",
   "id": "864a067a-541c-45cc-9646-308ee6c51968",
   "metadata": {},
   "source": [
    "------------\n",
    "이제는 chatbot이 외부 정보를 접근할 수도 있고 대화 내용을 기억할 수도 있습니다."
   ]
  },
  {
   "cell_type": "code",
   "execution_count": null,
   "id": "77de6a03-7e64-41f7-a513-52c12cc39b75",
   "metadata": {},
   "outputs": [],
   "source": []
  }
 ],
 "metadata": {
  "kernelspec": {
   "display_name": "Python 3 (ipykernel)",
   "language": "python",
   "name": "python3"
  },
  "language_info": {
   "codemirror_mode": {
    "name": "ipython",
    "version": 3
   },
   "file_extension": ".py",
   "mimetype": "text/x-python",
   "name": "python",
   "nbconvert_exporter": "python",
   "pygments_lexer": "ipython3",
   "version": "3.9.23"
  }
 },
 "nbformat": 4,
 "nbformat_minor": 5
}
